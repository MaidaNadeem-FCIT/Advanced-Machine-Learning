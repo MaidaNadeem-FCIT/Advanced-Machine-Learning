{
 "cells": [
  {
   "cell_type": "markdown",
   "id": "151aa600",
   "metadata": {},
   "source": [
    "### GRADIENT DESCENT'S  BEHIND THE CURTAIN MATH."
   ]
  },
  {
   "cell_type": "markdown",
   "id": "875e7488",
   "metadata": {},
   "source": [
    "#### Differentiation using following methods:\n",
    "- Differentiation Rules.\n",
    "- Using First Principal."
   ]
  },
  {
   "cell_type": "markdown",
   "id": "7c385c48",
   "metadata": {},
   "source": [
    "## USING DIFFERENTIATION RULES..."
   ]
  },
  {
   "cell_type": "code",
   "execution_count": 1,
   "id": "ddefa495",
   "metadata": {},
   "outputs": [],
   "source": [
    "import sys\n",
    "!{sys.executable} -m pip -q install sympy"
   ]
  },
  {
   "cell_type": "code",
   "execution_count": 1,
   "id": "b18edaa1",
   "metadata": {},
   "outputs": [
    {
     "data": {
      "text/latex": [
       "$\\displaystyle 15 x^{2} + 6 x - 7$"
      ],
      "text/plain": [
       "15*x**2 + 6*x - 7"
      ]
     },
     "metadata": {},
     "output_type": "display_data"
    }
   ],
   "source": [
    "import numpy as np\n",
    "import sympy as sym\n",
    "from IPython.display import display"
   ]
  },
  {
   "cell_type": "markdown",
   "id": "237a5d7e",
   "metadata": {},
   "source": [
    "#### Example : 1"
   ]
  },
  {
   "cell_type": "code",
   "execution_count": 2,
   "id": "8ced8d12",
   "metadata": {},
   "outputs": [
    {
     "data": {
      "text/latex": [
       "$\\displaystyle 15 x^{2} + 6 x - 7$"
      ],
      "text/plain": [
       "15*x**2 + 6*x - 7"
      ]
     },
     "metadata": {},
     "output_type": "display_data"
    }
   ],
   "source": [
    "x = sym.symbols(\"x\") #create symbolic variable\n",
    "fx = 5*x**3 + 3*x**2 -7*x + 20  #create the function\n",
    "\n",
    "#sym.diff() will return differentiation of fx w.r.t x\n",
    "df = sym.diff(fx, x)\n",
    "\n",
    "display(df)"
   ]
  },
  {
   "cell_type": "markdown",
   "id": "63aa68fc",
   "metadata": {},
   "source": [
    "#### Example:2  Find Slope at (2,5)?"
   ]
  },
  {
   "cell_type": "code",
   "execution_count": 4,
   "id": "521df7e7",
   "metadata": {},
   "outputs": [
    {
     "data": {
      "text/latex": [
       "$\\displaystyle 3 x^{2}$"
      ],
      "text/plain": [
       "3*x**2"
      ]
     },
     "metadata": {},
     "output_type": "display_data"
    },
    {
     "name": "stdout",
     "output_type": "stream",
     "text": [
      "Slope at (2,5) is : 12\n"
     ]
    }
   ],
   "source": [
    "x = sym.symbols(\"x\") #create symbolic variable\n",
    "fx = x**3 + 1  #create the function\n",
    "\n",
    "#sym.diff() will return differentiation of fx w.r.t x\n",
    "df = sym.diff(fx, x)\n",
    "\n",
    "display(df)\n",
    "print(\"Slope at (2,5) is :\", 3*2**2)"
   ]
  },
  {
   "cell_type": "markdown",
   "id": "b6cd59e5",
   "metadata": {},
   "source": [
    "#### Example:3  Find Slope at (9,12)?"
   ]
  },
  {
   "cell_type": "code",
   "execution_count": 5,
   "id": "bf7cbf07",
   "metadata": {},
   "outputs": [
    {
     "data": {
      "text/latex": [
       "$\\displaystyle \\frac{2.0}{x^{0.5}}$"
      ],
      "text/plain": [
       "2.0/x**0.5"
      ]
     },
     "metadata": {},
     "output_type": "display_data"
    },
    {
     "name": "stdout",
     "output_type": "stream",
     "text": [
      "Slope at (9,12) is : 0.6666666666666666\n"
     ]
    }
   ],
   "source": [
    "x = sym.symbols(\"x\") #create symbolic variable\n",
    "fx = 4 * (x**(1/2))  #create the function\n",
    "\n",
    "#sym.diff() will return differentiation of fx w.r.t x\n",
    "df = sym.diff(fx, x)\n",
    "\n",
    "display(df)\n",
    "print(\"Slope at (9,12) is :\", 2/(9**0.5))"
   ]
  },
  {
   "cell_type": "markdown",
   "id": "41c6517f",
   "metadata": {},
   "source": [
    "### CHAIN RULE"
   ]
  },
  {
   "cell_type": "markdown",
   "id": "434c0c47",
   "metadata": {},
   "source": [
    "#### Example:4  Differentiate with Chain Rule"
   ]
  },
  {
   "cell_type": "code",
   "execution_count": 6,
   "id": "c77f366e",
   "metadata": {},
   "outputs": [
    {
     "data": {
      "text/latex": [
       "$\\displaystyle 8 x \\left(2 x^{2} + 8\\right)$"
      ],
      "text/plain": [
       "8*x*(2*x**2 + 8)"
      ]
     },
     "metadata": {},
     "output_type": "display_data"
    }
   ],
   "source": [
    "x = sym.symbols(\"x\") \n",
    "fx = (2*x**2 + 8)**2 \n",
    "df = sym.diff(fx, x)\n",
    "display(df)"
   ]
  },
  {
   "cell_type": "markdown",
   "id": "e621b71a",
   "metadata": {},
   "source": [
    "#### Example:5  Differentiate with Chain Rule"
   ]
  },
  {
   "cell_type": "code",
   "execution_count": 7,
   "id": "4471aa6a",
   "metadata": {},
   "outputs": [
    {
     "data": {
      "text/latex": [
       "$\\displaystyle \\left(36 x + 6\\right) \\left(3 x^{2} + x\\right)^{5}$"
      ],
      "text/plain": [
       "(36*x + 6)*(3*x**2 + x)**5"
      ]
     },
     "metadata": {},
     "output_type": "display_data"
    }
   ],
   "source": [
    "x = sym.symbols(\"x\") \n",
    "fx = (3*x**2 + x)**6 \n",
    "df = sym.diff(fx, x)\n",
    "display(df)"
   ]
  },
  {
   "cell_type": "markdown",
   "id": "2bd75536",
   "metadata": {},
   "source": [
    "#### Example:6  Differentiate with Chain Rule"
   ]
  },
  {
   "cell_type": "code",
   "execution_count": 8,
   "id": "59e65ee2",
   "metadata": {},
   "outputs": [
    {
     "data": {
      "text/latex": [
       "$\\displaystyle \\frac{1.0 x - 0.5}{\\left(x^{2} - x\\right)^{0.5}}$"
      ],
      "text/plain": [
       "(1.0*x - 0.5)/(x**2 - x)**0.5"
      ]
     },
     "metadata": {},
     "output_type": "display_data"
    }
   ],
   "source": [
    "x = sym.symbols(\"x\") \n",
    "fx = (x**2 - x)**0.5\n",
    "df = sym.diff(fx, x)\n",
    "display(df)"
   ]
  },
  {
   "cell_type": "markdown",
   "id": "97baa5fd",
   "metadata": {},
   "source": [
    "### PRODUCT RULE..."
   ]
  },
  {
   "cell_type": "markdown",
   "id": "a741930b",
   "metadata": {},
   "source": [
    "#### Example:7"
   ]
  },
  {
   "cell_type": "code",
   "execution_count": 11,
   "id": "4ecc18e1",
   "metadata": {},
   "outputs": [
    {
     "data": {
      "text/latex": [
       "$\\displaystyle \\frac{1.0 x}{\\left(2 x + 1\\right)^{0.5}} + \\left(2 x + 1\\right)^{0.5}$"
      ],
      "text/plain": [
       "1.0*x/(2*x + 1)**0.5 + (2*x + 1)**0.5"
      ]
     },
     "metadata": {},
     "output_type": "display_data"
    }
   ],
   "source": [
    "x = sym.symbols(\"x\") \n",
    "fx = x * (2*x +1)**0.5\n",
    "df = sym.diff(fx, x)\n",
    "display(df)"
   ]
  },
  {
   "cell_type": "markdown",
   "id": "81217d19",
   "metadata": {},
   "source": [
    "### QUOTIENT RULE...\n"
   ]
  },
  {
   "cell_type": "markdown",
   "id": "c62e7d06",
   "metadata": {},
   "source": [
    "#### Example:8"
   ]
  },
  {
   "cell_type": "code",
   "execution_count": 15,
   "id": "e0443be2",
   "metadata": {},
   "outputs": [
    {
     "data": {
      "text/latex": [
       "$\\displaystyle - \\frac{3 x}{\\left(x - 2\\right)^{2}} + \\frac{3}{x - 2}$"
      ],
      "text/plain": [
       "-3*x/(x - 2)**2 + 3/(x - 2)"
      ]
     },
     "metadata": {},
     "output_type": "display_data"
    },
    {
     "name": "stdout",
     "output_type": "stream",
     "text": [
      "Slope at (9,12) is : -1.5\n"
     ]
    }
   ],
   "source": [
    "x = sym.symbols(\"x\") \n",
    "fx = 3*x / (x-2)\n",
    "df = sym.diff(fx, x)\n",
    "display(df)\n",
    "print(\"Slope at (9,12) is :\", -6/(4-2)**2)"
   ]
  },
  {
   "cell_type": "markdown",
   "id": "c4c9082e",
   "metadata": {},
   "source": [
    "## DIFFERENTIATION USING FIRST PRINCIPAL...."
   ]
  },
  {
   "cell_type": "code",
   "execution_count": 17,
   "id": "867e8d02",
   "metadata": {},
   "outputs": [],
   "source": [
    "def f(my_x):\n",
    "    my_x = my_x**2 + 2*my_x + 2\n",
    "    return my_x\n",
    "\n",
    "def deriv(f,my_x,delta):\n",
    "    return ((f(my_x + delta) - f(my_x)) / delta)"
   ]
  },
  {
   "cell_type": "code",
   "execution_count": 20,
   "id": "7f8c35b7",
   "metadata": {},
   "outputs": [
    {
     "name": "stdout",
     "output_type": "stream",
     "text": [
      "Slope at x=2 and Δ=3 = 9.0\n",
      "Slope at x=2 and Δ=2 = 8.0\n",
      "Slope at x=2 and Δ=1 = 7.0\n",
      "Slope at x=2 and Δ=0.1 = 6.1\n",
      "Slope at x=2 and Δ=0.01 = 6.01\n",
      "Slope at x=2 and Δ=0.001 = 6.001\n"
     ]
    }
   ],
   "source": [
    "deltas = [3,2,1,0.1, 0.01, 0.001]\n",
    "for delta in deltas:\n",
    "    print(\"Slope at x={} and Δ={} = {:.5}\".format(2, delta, deriv(f, 2, delta)))"
   ]
  },
  {
   "cell_type": "code",
   "execution_count": 21,
   "id": "5769b48e",
   "metadata": {},
   "outputs": [],
   "source": [
    "from matplotlib import pyplot as plt"
   ]
  },
  {
   "cell_type": "code",
   "execution_count": 23,
   "id": "c27c2580",
   "metadata": {},
   "outputs": [
    {
     "data": {
      "text/plain": [
       "<matplotlib.lines.Line2D at 0x257bfa6e5b0>"
      ]
     },
     "execution_count": 23,
     "metadata": {},
     "output_type": "execute_result"
    },
    {
     "data": {
      "image/png": "[encoded data removed]",
      "text/plain": [
       "<Figure size 640x480 with 1 Axes>"
      ]
     },
     "metadata": {},
     "output_type": "display_data"
    }
   ],
   "source": [
    "fig , ax = plt.subplots(nrows=1, ncols=1)\n",
    "x = np.linspace(-10,10,1000)\n",
    "y= x**2 + 2*x + 2\n",
    "ax.plot(x,y)\n",
    "ax.scatter(2,10,c='black')\n",
    "\n",
    "\n",
    "m=6\n",
    "c=-2\n",
    "x1= np.linspace(-2,5,100)\n",
    "y1=m*x1 + c\n",
    "ax.plot(x1,y1)\n",
    "\n",
    "plt.xlabel(\"x\")\n",
    "plt.ylabel(\"f(x)\")\n",
    "plt.title(\"f(x) = x**2 + 2*x + 2\")\n",
    "plt.grid()\n",
    "plt.axvline(x=0, c='black')\n",
    "plt.axhline(y=0 , c='black')"
   ]
  },
  {
   "cell_type": "markdown",
   "id": "78173571",
   "metadata": {},
   "source": [
    "### Calculate Gradient Using First Principal...\n",
    "#### Example: 1  f(x,y) = x**2 - 3xy  at point(4,2,-8)"
   ]
  },
  {
   "cell_type": "code",
   "execution_count": 24,
   "id": "32f41c88",
   "metadata": {},
   "outputs": [],
   "source": [
    "def fn(x, y):\n",
    "    return x**2 - 3*x*y\n",
    "\n",
    "def derivn(fn, id_x, *args):\n",
    "    delta = 0.00001\n",
    "    fxy = fn(*args)\n",
    "    args = list(args)\n",
    "    args[id_x] += delta\n",
    "    fxy1 = fn(*args)\n",
    "    return ((fxy1 - fxy) / delta)"
   ]
  },
  {
   "cell_type": "code",
   "execution_count": 25,
   "id": "9208798b",
   "metadata": {},
   "outputs": [
    {
     "data": {
      "text/plain": [
       "2.0000099997474763"
      ]
     },
     "execution_count": 25,
     "metadata": {},
     "output_type": "execute_result"
    }
   ],
   "source": [
    "derivn(fn, 0, 4, 2)"
   ]
  },
  {
   "cell_type": "code",
   "execution_count": 26,
   "id": "e625f7ac",
   "metadata": {},
   "outputs": [
    {
     "data": {
      "text/plain": [
       "-12.000000000256248"
      ]
     },
     "execution_count": 26,
     "metadata": {},
     "output_type": "execute_result"
    }
   ],
   "source": [
    "derivn(fn, 1, 4, 2)"
   ]
  },
  {
   "cell_type": "markdown",
   "id": "650c70ac",
   "metadata": {},
   "source": [
    "### Gradient Descent...."
   ]
  },
  {
   "cell_type": "code",
   "execution_count": 28,
   "id": "3b0626ad",
   "metadata": {},
   "outputs": [],
   "source": [
    "def f(x):\n",
    "    return 3**2 - 3*x + 4\n",
    "def deriv(x):\n",
    "    return 6*x - 3  #by equating to zero we get x= 0.5"
   ]
  },
  {
   "cell_type": "code",
   "execution_count": 33,
   "id": "e0090ccd",
   "metadata": {},
   "outputs": [
    {
     "name": "stdout",
     "output_type": "stream",
     "text": [
      "Initial Value:  -2\n",
      "local minima:  0.49486281307369095\n"
     ]
    }
   ],
   "source": [
    "guess = -2  #change to 2 as well\n",
    "print(\"Initial Value: \", guess)\n",
    "learning_rate = 0.01\n",
    "epochs = 100\n",
    "\n",
    "for i in range(epochs):\n",
    "    guess = guess - learning_rate*deriv(guess)\n",
    "    \n",
    "print(\"local minima: \", guess)"
   ]
  },
  {
   "cell_type": "code",
   "execution_count": 34,
   "id": "15d26613",
   "metadata": {},
   "outputs": [
    {
     "name": "stdout",
     "output_type": "stream",
     "text": [
      "Initial Value:  2\n",
      "local minima:  0.5030823121557854\n"
     ]
    }
   ],
   "source": [
    "guess = 2  #change to 2 as well\n",
    "print(\"Initial Value: \", guess)\n",
    "learning_rate = 0.01\n",
    "epochs = 100\n",
    "\n",
    "for i in range(epochs):\n",
    "    guess = guess - learning_rate*deriv(guess)\n",
    "    \n",
    "print(\"local minima: \", guess)"
   ]
  },
  {
   "cell_type": "code",
   "execution_count": 36,
   "id": "4851ab29",
   "metadata": {},
   "outputs": [
    {
     "name": "stdout",
     "output_type": "stream",
     "text": [
      "Initial Value:  2\n",
      "local minima:  11832913578315177081175928479241793445098096526635345071554183959960938\n"
     ]
    }
   ],
   "source": [
    "guess = 2  #change to 2 as well\n",
    "print(\"Initial Value: \", guess)\n",
    "learning_rate = 1 #totally incorrect answer\n",
    "epochs = 100\n",
    "\n",
    "for i in range(epochs):\n",
    "    guess = guess - learning_rate*deriv(guess)\n",
    "    \n",
    "print(\"local minima: \", guess)"
   ]
  },
  {
   "cell_type": "code",
   "execution_count": 38,
   "id": "ea6a3c44",
   "metadata": {},
   "outputs": [
    {
     "name": "stdout",
     "output_type": "stream",
     "text": [
      "Initial Value:  2\n",
      "local minima:  1.91262136278736\n"
     ]
    }
   ],
   "source": [
    "guess = 2  #change to 2 as well\n",
    "print(\"Initial Value: \", guess)\n",
    "learning_rate = 0.0001 #reduce learning rate only\n",
    "epochs = 100\n",
    "\n",
    "for i in range(epochs):\n",
    "    guess = guess - learning_rate*deriv(guess)\n",
    "    \n",
    "print(\"local minima: \", guess)"
   ]
  },
  {
   "cell_type": "code",
   "execution_count": 41,
   "id": "61904794",
   "metadata": {},
   "outputs": [
    {
     "name": "stdout",
     "output_type": "stream",
     "text": [
      "Initial Value:  2\n",
      "local minima:  0.5037180613390349\n"
     ]
    }
   ],
   "source": [
    "guess = 2  #change to 2 as well\n",
    "print(\"Initial Value: \", guess)\n",
    "learning_rate = 0.000001  #reduce learning rate\n",
    "epochs = 1000000  #increase epochs\n",
    "\n",
    "for i in range(epochs):\n",
    "    guess = guess - learning_rate*deriv(guess)\n",
    "    \n",
    "print(\"local minima: \", guess)"
   ]
  },
  {
   "cell_type": "code",
   "execution_count": null,
   "id": "7d4ebdcb",
   "metadata": {},
   "outputs": [],
   "source": []
  }
 ],
 "metadata": {
  "kernelspec": {
   "display_name": "Python 3 (ipykernel)",
   "language": "python",
   "name": "python3"
  },
  "language_info": {
   "codemirror_mode": {
    "name": "ipython",
    "version": 3
   },
   "file_extension": ".py",
   "mimetype": "text/x-python",
   "name": "python",
   "nbconvert_exporter": "python",
   "pygments_lexer": "ipython3",
   "version": "3.9.16"
  }
 },
 "nbformat": 4,
 "nbformat_minor": 5
}
