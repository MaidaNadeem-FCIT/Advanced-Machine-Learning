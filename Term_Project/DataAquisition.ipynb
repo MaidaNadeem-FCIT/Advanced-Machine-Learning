{
 "cells": [
  {
   "cell_type": "code",
   "execution_count": 1,
   "id": "3ce21a7f",
   "metadata": {},
   "outputs": [],
   "source": [
    "from selenium.webdriver import Chrome\n",
    "from selenium.webdriver.chrome.service import Service\n",
    "from selenium.webdriver.chrome.options import Options\n",
    "from selenium.webdriver.common.by import By\n",
    "from selenium.webdriver.support.ui import WebDriverWait\n",
    "from selenium.webdriver.support import expected_conditions as EC\n",
    "from selenium.webdriver.common.keys import Keys\n",
    "from bs4 import BeautifulSoup\n",
    "import pandas as pd\n",
    "import time\n",
    "import os"
   ]
  },
  {
   "cell_type": "markdown",
   "id": "287db62d",
   "metadata": {},
   "source": [
    "## Graana.com"
   ]
  },
  {
   "cell_type": "code",
   "execution_count": 12,
   "id": "27705e26",
   "metadata": {},
   "outputs": [
    {
     "ename": "NoSuchWindowException",
     "evalue": "Message: no such window: target window already closed\nfrom unknown error: web view not found\n  (Session info: chrome=117.0.5938.149)\nStacktrace:\n\tGetHandleVerifier [0x00007FF7213352A2+57122]\n\t(No symbol) [0x00007FF7212AEA92]\n\t(No symbol) [0x00007FF72117E3AB]\n\t(No symbol) [0x00007FF72115E1B9]\n\t(No symbol) [0x00007FF7211DB417]\n\t(No symbol) [0x00007FF7211EE24F]\n\t(No symbol) [0x00007FF7211D6DB3]\n\t(No symbol) [0x00007FF7211AD2B1]\n\t(No symbol) [0x00007FF7211AE494]\n\tGetHandleVerifier [0x00007FF7215DEF82+2849794]\n\tGetHandleVerifier [0x00007FF721631D24+3189156]\n\tGetHandleVerifier [0x00007FF72162ACAF+3160367]\n\tGetHandleVerifier [0x00007FF7213C6D06+653702]\n\t(No symbol) [0x00007FF7212BA208]\n\t(No symbol) [0x00007FF7212B62C4]\n\t(No symbol) [0x00007FF7212B63F6]\n\t(No symbol) [0x00007FF7212A67A3]\n\tBaseThreadInitThunk [0x00007FF8AC687344+20]\n\tRtlUserThreadStart [0x00007FF8AD3626B1+33]\n",
     "output_type": "error",
     "traceback": [
      "\u001b[1;31m---------------------------------------------------------------------------\u001b[0m",
      "\u001b[1;31mNoSuchWindowException\u001b[0m                     Traceback (most recent call last)",
      "Cell \u001b[1;32mIn[12], line 30\u001b[0m\n\u001b[0;32m     28\u001b[0m \u001b[38;5;28;01mwhile\u001b[39;00m(\u001b[38;5;28;01mTrue\u001b[39;00m):\n\u001b[0;32m     29\u001b[0m     \u001b[38;5;28;01mfor\u001b[39;00m a \u001b[38;5;129;01min\u001b[39;00m \u001b[38;5;28mrange\u001b[39m(\u001b[38;5;241m2\u001b[39m, \u001b[38;5;241m21\u001b[39m):  \n\u001b[1;32m---> 30\u001b[0m         \u001b[43mHouses\u001b[49m\u001b[43m(\u001b[49m\u001b[43m)\u001b[49m\n\u001b[0;32m     31\u001b[0m         page \u001b[38;5;241m=\u001b[39m WebDriverWait(driver, \u001b[38;5;241m20\u001b[39m)\u001b[38;5;241m.\u001b[39muntil(EC\u001b[38;5;241m.\u001b[39mpresence_of_element_located((By\u001b[38;5;241m.\u001b[39mCSS_SELECTOR, \u001b[38;5;124m'\u001b[39m\u001b[38;5;124m.mui-style-4fwl06\u001b[39m\u001b[38;5;124m'\u001b[39m)))\n\u001b[0;32m     32\u001b[0m         \u001b[38;5;28;01mtry\u001b[39;00m:\n",
      "Cell \u001b[1;32mIn[12], line 13\u001b[0m, in \u001b[0;36mHouses\u001b[1;34m()\u001b[0m\n\u001b[0;32m     11\u001b[0m Add \u001b[38;5;241m=\u001b[39m driver\u001b[38;5;241m.\u001b[39mfind_element(By\u001b[38;5;241m.\u001b[39mXPATH, \u001b[38;5;124m'\u001b[39m\u001b[38;5;124m//*[@id=\u001b[39m\u001b[38;5;124m\"\u001b[39m\u001b[38;5;124m__next\u001b[39m\u001b[38;5;124m\"\u001b[39m\u001b[38;5;124m]/div[3]/div[4]/div[\u001b[39m\u001b[38;5;124m'\u001b[39m\u001b[38;5;241m+\u001b[39m\u001b[38;5;28mstr\u001b[39m(i)\u001b[38;5;241m+\u001b[39m\u001b[38;5;124m'\u001b[39m\u001b[38;5;124m]/a/div/h5\u001b[39m\u001b[38;5;124m'\u001b[39m)\u001b[38;5;241m.\u001b[39mtext\n\u001b[0;32m     12\u001b[0m Addresses\u001b[38;5;241m.\u001b[39mappend(Add)\n\u001b[1;32m---> 13\u001b[0m bedroom \u001b[38;5;241m=\u001b[39m \u001b[43mdriver\u001b[49m\u001b[38;5;241;43m.\u001b[39;49m\u001b[43mfind_element\u001b[49m\u001b[43m(\u001b[49m\u001b[43mBy\u001b[49m\u001b[38;5;241;43m.\u001b[39;49m\u001b[43mXPATH\u001b[49m\u001b[43m,\u001b[49m\u001b[43m \u001b[49m\u001b[38;5;124;43m'\u001b[39;49m\u001b[38;5;124;43m//*[@id=\u001b[39;49m\u001b[38;5;124;43m\"\u001b[39;49m\u001b[38;5;124;43m__next\u001b[39;49m\u001b[38;5;124;43m\"\u001b[39;49m\u001b[38;5;124;43m]/div[3]/div[4]/div[\u001b[39;49m\u001b[38;5;124;43m'\u001b[39;49m\u001b[38;5;241;43m+\u001b[39;49m\u001b[38;5;28;43mstr\u001b[39;49m\u001b[43m(\u001b[49m\u001b[43mi\u001b[49m\u001b[43m)\u001b[49m\u001b[38;5;241;43m+\u001b[39;49m\u001b[38;5;124;43m'\u001b[39;49m\u001b[38;5;124;43m]/a/div/div[2]/div[1]/div[2]\u001b[39;49m\u001b[38;5;124;43m'\u001b[39;49m\u001b[43m)\u001b[49m\u001b[38;5;241m.\u001b[39mtext\n\u001b[0;32m     14\u001b[0m Bedrooms\u001b[38;5;241m.\u001b[39mappend(bedroom)\n\u001b[0;32m     15\u001b[0m bathroom \u001b[38;5;241m=\u001b[39m driver\u001b[38;5;241m.\u001b[39mfind_element(By\u001b[38;5;241m.\u001b[39mXPATH, \u001b[38;5;124m'\u001b[39m\u001b[38;5;124m//*[@id=\u001b[39m\u001b[38;5;124m\"\u001b[39m\u001b[38;5;124m__next\u001b[39m\u001b[38;5;124m\"\u001b[39m\u001b[38;5;124m]/div[3]/div[4]/div[\u001b[39m\u001b[38;5;124m'\u001b[39m\u001b[38;5;241m+\u001b[39m\u001b[38;5;28mstr\u001b[39m(i)\u001b[38;5;241m+\u001b[39m\u001b[38;5;124m'\u001b[39m\u001b[38;5;124m]/a/div/div[2]/div[2]/div[2]\u001b[39m\u001b[38;5;124m'\u001b[39m)\u001b[38;5;241m.\u001b[39mtext\n",
      "File \u001b[1;32m~\\anaconda3\\lib\\site-packages\\selenium\\webdriver\\remote\\webdriver.py:738\u001b[0m, in \u001b[0;36mWebDriver.find_element\u001b[1;34m(self, by, value)\u001b[0m\n\u001b[0;32m    735\u001b[0m     by \u001b[38;5;241m=\u001b[39m By\u001b[38;5;241m.\u001b[39mCSS_SELECTOR\n\u001b[0;32m    736\u001b[0m     value \u001b[38;5;241m=\u001b[39m \u001b[38;5;124mf\u001b[39m\u001b[38;5;124m'\u001b[39m\u001b[38;5;124m[name=\u001b[39m\u001b[38;5;124m\"\u001b[39m\u001b[38;5;132;01m{\u001b[39;00mvalue\u001b[38;5;132;01m}\u001b[39;00m\u001b[38;5;124m\"\u001b[39m\u001b[38;5;124m]\u001b[39m\u001b[38;5;124m'\u001b[39m\n\u001b[1;32m--> 738\u001b[0m \u001b[38;5;28;01mreturn\u001b[39;00m \u001b[38;5;28;43mself\u001b[39;49m\u001b[38;5;241;43m.\u001b[39;49m\u001b[43mexecute\u001b[49m\u001b[43m(\u001b[49m\u001b[43mCommand\u001b[49m\u001b[38;5;241;43m.\u001b[39;49m\u001b[43mFIND_ELEMENT\u001b[49m\u001b[43m,\u001b[49m\u001b[43m \u001b[49m\u001b[43m{\u001b[49m\u001b[38;5;124;43m\"\u001b[39;49m\u001b[38;5;124;43musing\u001b[39;49m\u001b[38;5;124;43m\"\u001b[39;49m\u001b[43m:\u001b[49m\u001b[43m \u001b[49m\u001b[43mby\u001b[49m\u001b[43m,\u001b[49m\u001b[43m \u001b[49m\u001b[38;5;124;43m\"\u001b[39;49m\u001b[38;5;124;43mvalue\u001b[39;49m\u001b[38;5;124;43m\"\u001b[39;49m\u001b[43m:\u001b[49m\u001b[43m \u001b[49m\u001b[43mvalue\u001b[49m\u001b[43m}\u001b[49m\u001b[43m)\u001b[49m[\u001b[38;5;124m\"\u001b[39m\u001b[38;5;124mvalue\u001b[39m\u001b[38;5;124m\"\u001b[39m]\n",
      "File \u001b[1;32m~\\anaconda3\\lib\\site-packages\\selenium\\webdriver\\remote\\webdriver.py:344\u001b[0m, in \u001b[0;36mWebDriver.execute\u001b[1;34m(self, driver_command, params)\u001b[0m\n\u001b[0;32m    342\u001b[0m response \u001b[38;5;241m=\u001b[39m \u001b[38;5;28mself\u001b[39m\u001b[38;5;241m.\u001b[39mcommand_executor\u001b[38;5;241m.\u001b[39mexecute(driver_command, params)\n\u001b[0;32m    343\u001b[0m \u001b[38;5;28;01mif\u001b[39;00m response:\n\u001b[1;32m--> 344\u001b[0m     \u001b[38;5;28;43mself\u001b[39;49m\u001b[38;5;241;43m.\u001b[39;49m\u001b[43merror_handler\u001b[49m\u001b[38;5;241;43m.\u001b[39;49m\u001b[43mcheck_response\u001b[49m\u001b[43m(\u001b[49m\u001b[43mresponse\u001b[49m\u001b[43m)\u001b[49m\n\u001b[0;32m    345\u001b[0m     response[\u001b[38;5;124m\"\u001b[39m\u001b[38;5;124mvalue\u001b[39m\u001b[38;5;124m\"\u001b[39m] \u001b[38;5;241m=\u001b[39m \u001b[38;5;28mself\u001b[39m\u001b[38;5;241m.\u001b[39m_unwrap_value(response\u001b[38;5;241m.\u001b[39mget(\u001b[38;5;124m\"\u001b[39m\u001b[38;5;124mvalue\u001b[39m\u001b[38;5;124m\"\u001b[39m, \u001b[38;5;28;01mNone\u001b[39;00m))\n\u001b[0;32m    346\u001b[0m     \u001b[38;5;28;01mreturn\u001b[39;00m response\n",
      "File \u001b[1;32m~\\anaconda3\\lib\\site-packages\\selenium\\webdriver\\remote\\errorhandler.py:229\u001b[0m, in \u001b[0;36mErrorHandler.check_response\u001b[1;34m(self, response)\u001b[0m\n\u001b[0;32m    227\u001b[0m         alert_text \u001b[38;5;241m=\u001b[39m value[\u001b[38;5;124m\"\u001b[39m\u001b[38;5;124malert\u001b[39m\u001b[38;5;124m\"\u001b[39m]\u001b[38;5;241m.\u001b[39mget(\u001b[38;5;124m\"\u001b[39m\u001b[38;5;124mtext\u001b[39m\u001b[38;5;124m\"\u001b[39m)\n\u001b[0;32m    228\u001b[0m     \u001b[38;5;28;01mraise\u001b[39;00m exception_class(message, screen, stacktrace, alert_text)  \u001b[38;5;66;03m# type: ignore[call-arg]  # mypy is not smart enough here\u001b[39;00m\n\u001b[1;32m--> 229\u001b[0m \u001b[38;5;28;01mraise\u001b[39;00m exception_class(message, screen, stacktrace)\n",
      "\u001b[1;31mNoSuchWindowException\u001b[0m: Message: no such window: target window already closed\nfrom unknown error: web view not found\n  (Session info: chrome=117.0.5938.149)\nStacktrace:\n\tGetHandleVerifier [0x00007FF7213352A2+57122]\n\t(No symbol) [0x00007FF7212AEA92]\n\t(No symbol) [0x00007FF72117E3AB]\n\t(No symbol) [0x00007FF72115E1B9]\n\t(No symbol) [0x00007FF7211DB417]\n\t(No symbol) [0x00007FF7211EE24F]\n\t(No symbol) [0x00007FF7211D6DB3]\n\t(No symbol) [0x00007FF7211AD2B1]\n\t(No symbol) [0x00007FF7211AE494]\n\tGetHandleVerifier [0x00007FF7215DEF82+2849794]\n\tGetHandleVerifier [0x00007FF721631D24+3189156]\n\tGetHandleVerifier [0x00007FF72162ACAF+3160367]\n\tGetHandleVerifier [0x00007FF7213C6D06+653702]\n\t(No symbol) [0x00007FF7212BA208]\n\t(No symbol) [0x00007FF7212B62C4]\n\t(No symbol) [0x00007FF7212B63F6]\n\t(No symbol) [0x00007FF7212A67A3]\n\tBaseThreadInitThunk [0x00007FF8AC687344+20]\n\tRtlUserThreadStart [0x00007FF8AD3626B1+33]\n"
     ]
    }
   ],
   "source": [
    "Addresses=[]\n",
    "Bedrooms=[]\n",
    "Bathrooms=[]\n",
    "Area=[]\n",
    "Prices=[]\n",
    "def Houses():\n",
    "    time.sleep(2)\n",
    "    House = driver.find_elements(By.CLASS_NAME, 'mui-style-zf9afz')\n",
    "    House_count = len(House)\n",
    "    for i in range(1, House_count+1):\n",
    "        Add = driver.find_element(By.XPATH, '//*[@id=\"__next\"]/div[3]/div[4]/div['+str(i)+']/a/div/h5').text\n",
    "        Addresses.append(Add)\n",
    "        bedroom = driver.find_element(By.XPATH, '//*[@id=\"__next\"]/div[3]/div[4]/div['+str(i)+']/a/div/div[2]/div[1]/div[2]').text\n",
    "        Bedrooms.append(bedroom)\n",
    "        bathroom = driver.find_element(By.XPATH, '//*[@id=\"__next\"]/div[3]/div[4]/div['+str(i)+']/a/div/div[2]/div[2]/div[2]').text\n",
    "        Bathrooms.append(bathroom)\n",
    "        area = driver.find_element(By.XPATH, '//*[@id=\"__next\"]/div[3]/div[4]/div['+str(i)+']/a/div/div[2]/div[3]/div[2]').text\n",
    "        Area.append(area)\n",
    "        price = driver.find_element(By.XPATH, '//*[@id=\"__next\"]/div[3]/div[4]/div['+str(i)+']/a/div/div[1]/div[1]/div[2]').text\n",
    "        Prices.append(price)\n",
    "\n",
    "s = Service('/Users/ASCC/chromedriver-win64/chromedriver.exe')\n",
    "driver = Chrome(service=s)\n",
    "driver.maximize_window()\n",
    "driver.get('https://www.graana.com/sale/house-sale-lahore-2/')\n",
    "time.sleep(10)\n",
    "\n",
    "while(True):\n",
    "    for a in range(2, 21):  \n",
    "        Houses()\n",
    "        page = WebDriverWait(driver, 20).until(EC.presence_of_element_located((By.CSS_SELECTOR, '.MuiBox-root.mui-style-hr51')))\n",
    "        try:\n",
    "            driver.find_element(By.XPATH, '//*[@id=\"__next\"]/div[3]/div[5]/div/nav/ul/li['+str(i)+']/button')\n",
    "            driver.execute_script(\"arguments[0].scrollIntoView();\", driver.find_element(By.XPATH,  '//*[@id=\"__next\"]/div[3]/div[5]/div/nav/ul/li['+str(i)+']/button'))\n",
    "            driver.find_element(By.XPATH, '//*[@id=\"__next\"]/div[3]/div[5]/div/nav/ul/li['+str(i)+']/button').click()\n",
    "        except:\n",
    "            break\n",
    "data = {\n",
    "    \"Address\":Addresses,\n",
    "    \"Bedroom\": Bedrooms,\n",
    "    \"Bathroom\": Bathrooms,\n",
    "    \"Area\":Area,\n",
    "    \"Price\":Prices\n",
    "}\n",
    "df = pd.DataFrame(data=data, columns=[\"Address\", \"Bedroom\", \"Bathroom\", \"Area\", \"Price\"])\n",
    "df.to_csv(\"House_Prices.csv\", index=False)\n",
    "df = pd.read_csv(\"House_Prices.csv\")\n",
    "df"
   ]
  },
  {
   "cell_type": "code",
   "execution_count": 21,
   "id": "a94bd3e9",
   "metadata": {},
   "outputs": [],
   "source": [
    "driver.quit()"
   ]
  },
  {
   "cell_type": "markdown",
   "id": "8fc07f51",
   "metadata": {},
   "source": [
    "## Zameen.com"
   ]
  },
  {
   "cell_type": "code",
   "execution_count": 6,
   "id": "241a6b34",
   "metadata": {},
   "outputs": [],
   "source": [
    "s = Service('/Users/ASCC/chromedriver-win64/chromedriver.exe')\n",
    "driver = Chrome(service=s)\n",
    "driver.maximize_window()\n",
    "driver.get('https://www.zameen.com/Homes/Lahore-1-1.html')\n",
    "time.sleep(10)\n",
    "\n",
    "driver.switch_to.frame(driver.find_element(By.ID, 'google_ads_iframe_/31946216/Splash_660x500_0'))\n",
    "close_btn = driver.find_element(By.CLASS_NAME, 'close_cross_big')\n",
    "close_btn.click()\n",
    "driver.switch_to.default_content()\n",
    "driver.find_element(By.XPATH, '//*[@id=\"body-wrapper\"]/div[3]/div/div/div[2]/button[2]').click()\n",
    "\n"
   ]
  },
  {
   "cell_type": "code",
   "execution_count": 21,
   "id": "8a6f99b8",
   "metadata": {},
   "outputs": [],
   "source": [
    "s = Service('/Users/ASCC/chromedriver-win64/chromedriver.exe')\n",
    "driver = Chrome(service=s)\n",
    "driver.maximize_window()\n",
    "driver.get('https://www.graana.com/sale/house-sale-lahore-2/')\n",
    "time.sleep(10)\n",
    "\n",
    "a=3\n",
    "while(a<=21):\n",
    "    page = WebDriverWait(driver, 20).until(EC.presence_of_element_located((By.CSS_SELECTOR, '.MuiPagination-ul.mui-style-nhb8h9')))\n",
    "    try:\n",
    "        driver.find_element(By.XPATH, '//*[@id=\"__next\"]/div[3]/div[5]/div/nav/ul/li['+str(a)+']/button')\n",
    "        driver.execute_script(\"arguments[0].scrollIntoView();\", driver.find_element(By.XPATH, '//*[@id=\"__next\"]/div[3]/div[5]/div/nav/ul/li['+str(a+1)+']/button'))\n",
    "        driver.find_element(By.XPATH, '//*[@id=\"__next\"]/div[3]/div[5]/div/nav/ul/li['+str(a+1)+']/button').click()\n",
    "    except:\n",
    "        break"
   ]
  },
  {
   "cell_type": "code",
   "execution_count": null,
   "id": "cc8a8ba1",
   "metadata": {},
   "outputs": [],
   "source": []
  }
 ],
 "metadata": {
  "kernelspec": {
   "display_name": "Python 3 (ipykernel)",
   "language": "python",
   "name": "python3"
  },
  "language_info": {
   "codemirror_mode": {
    "name": "ipython",
    "version": 3
   },
   "file_extension": ".py",
   "mimetype": "text/x-python",
   "name": "python",
   "nbconvert_exporter": "python",
   "pygments_lexer": "ipython3",
   "version": "3.9.16"
  }
 },
 "nbformat": 4,
 "nbformat_minor": 5
}
