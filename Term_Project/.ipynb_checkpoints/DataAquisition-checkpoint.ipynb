{
 "cells": [
  {
   "cell_type": "code",
   "execution_count": null,
   "id": "3ce21a7f",
   "metadata": {},
   "outputs": [],
   "source": [
    "from selenium.webdriver import Chrome\n",
    "from selenium.webdriver.chrome.service import Service\n",
    "from selenium.webdriver.chrome.options import Options\n",
    "from selenium.webdriver.common.by import By\n",
    "from selenium.webdriver.support.ui import WebDriverWait\n",
    "from selenium.webdriver.support import expected_conditions as EC\n",
    "from selenium.webdriver.common.keys import Keys\n",
    "from bs4 import BeautifulSoup\n",
    "import pandas as pd\n",
    "import time\n",
    "import os"
   ]
  },
  {
   "cell_type": "markdown",
   "id": "287db62d",
   "metadata": {},
   "source": [
    "## Graana.com"
   ]
  },
  {
   "cell_type": "code",
   "execution_count": null,
   "id": "27705e26",
   "metadata": {},
   "outputs": [],
   "source": [
    "s = Service('/Users/ASCC/AdvancedMachineLearning/Term_Project/chromedriver-win64/chromedriver.exe')\n",
    "driver = Chrome(service=s)\n",
    "driver.maximize_window()\n",
    "driver.get('https://www.graana.com/sale/house-sale-lahore-2/')\n",
    "time.sleep(10)\n",
    "\n",
    "\n",
    "Addresses=[]\n",
    "Bedrooms=[]\n",
    "Bathrooms=[]\n",
    "Area=[]\n",
    "Prices=[]\n",
    "a=2\n",
    "\n",
    "def Houses():\n",
    "    time.sleep(2)\n",
    "    House = driver.find_elements(By.CLASS_NAME, 'mui-style-zf9afz')\n",
    "    House_count = len(House)\n",
    "    for i in range(1, House_count+1):\n",
    "        Add = driver.find_element(By.XPATH, '//*[@id=\"__next\"]/div[3]/div[4]/div['+str(i)+']/a/div/h5').text\n",
    "        Addresses.append(Add)\n",
    "        bedroom = driver.find_element(By.XPATH, '//*[@id=\"__next\"]/div[3]/div[4]/div['+str(i)+']/a/div/div[2]/div[1]/div[2]').text\n",
    "        Bedrooms.append(bedroom)\n",
    "        bathroom = driver.find_element(By.XPATH, '//*[@id=\"__next\"]/div[3]/div[4]/div['+str(i)+']/a/div/div[2]/div[2]/div[2]').text\n",
    "        Bathrooms.append(bathroom)\n",
    "        area = driver.find_element(By.XPATH, '//*[@id=\"__next\"]/div[3]/div[4]/div['+str(i)+']/a/div/div[2]/div[3]/div[2]').text\n",
    "        Area.append(area)\n",
    "        price = driver.find_element(By.XPATH, '//*[@id=\"__next\"]/div[3]/div[4]/div['+str(i)+']/a/div/div[1]/div[1]/div[2]').text\n",
    "        Prices.append(price)\n",
    "        \n",
    "while(True):\n",
    "    time.sleep(10)\n",
    "    Houses()\n",
    "    try:\n",
    "        driver.find_element(By.XPATH, '//div[contains(text(),\"Next\")]')\n",
    "        try:\n",
    "            if(a<=21):\n",
    "                driver.find_element(By.XPATH, '//div[contains(text(),\"Next\")]').click()\n",
    "                time.sleep(10)\n",
    "                a=a+1\n",
    "            else:\n",
    "                break\n",
    "        except:\n",
    "            break\n",
    "    except:\n",
    "        break\n",
    "        \n",
    "data = {\n",
    "    \"Address\":Addresses,\n",
    "    \"Bedroom\": Bedrooms,\n",
    "    \"Bathroom\": Bathrooms,\n",
    "    \"Area\":Area,\n",
    "    \"Price\":Prices\n",
    "}\n",
    "df = pd.DataFrame(data=data, columns=[\"Address\", \"Bedroom\", \"Bathroom\", \"Area\", \"Price\"])\n",
    "df.to_csv(\"House_Prices_2.csv\", index=False)\n",
    "df = pd.read_csv(\"House_Prices.csv\")\n",
    "df"
   ]
  },
  {
   "cell_type": "code",
   "execution_count": null,
   "id": "a94bd3e9",
   "metadata": {},
   "outputs": [],
   "source": [
    "driver.quit()"
   ]
  },
  {
   "cell_type": "code",
   "execution_count": null,
   "id": "b43a5325",
   "metadata": {},
   "outputs": [],
   "source": []
  }
 ],
 "metadata": {
  "kernelspec": {
   "display_name": "Python 3 (ipykernel)",
   "language": "python",
   "name": "python3"
  },
  "language_info": {
   "codemirror_mode": {
    "name": "ipython",
    "version": 3
   },
   "file_extension": ".py",
   "mimetype": "text/x-python",
   "name": "python",
   "nbconvert_exporter": "python",
   "pygments_lexer": "ipython3",
   "version": "3.9.16"
  }
 },
 "nbformat": 4,
 "nbformat_minor": 5
}
