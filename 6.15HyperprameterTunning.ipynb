{
 "cells": [
  {
   "cell_type": "markdown",
   "id": "fa5db4dd",
   "metadata": {},
   "source": [
    "## Hyperparameter Tunning...\n",
    "### How to find Hyperparameter?"
   ]
  },
  {
   "cell_type": "code",
   "execution_count": 22,
   "id": "089e2b83",
   "metadata": {},
   "outputs": [],
   "source": [
    "from sklearn.linear_model import Ridge\n",
    "from sklearn.model_selection import train_test_split\n",
    "from sklearn.preprocessing import StandardScaler\n",
    "from sklearn.model_selection import cross_val_score, GridSearchCV, RandomizedSearchCV\n",
    "from sklearn.metrics import r2_score\n",
    "import pandas as pd\n",
    "import numpy as np"
   ]
  },
  {
   "cell_type": "code",
   "execution_count": 7,
   "id": "c25347e5",
   "metadata": {},
   "outputs": [
    {
     "data": {
      "text/plain": [
       "{'alpha': 1.0,\n",
       " 'copy_X': True,\n",
       " 'fit_intercept': True,\n",
       " 'max_iter': None,\n",
       " 'positive': False,\n",
       " 'random_state': None,\n",
       " 'solver': 'auto',\n",
       " 'tol': 0.0001}"
      ]
     },
     "execution_count": 7,
     "metadata": {},
     "output_type": "execute_result"
    }
   ],
   "source": [
    "model = Ridge()\n",
    "model.get_params()"
   ]
  },
  {
   "cell_type": "code",
   "execution_count": 8,
   "id": "53a0e5d4",
   "metadata": {},
   "outputs": [
    {
     "data": {
      "text/html": [
       "<div>\n",
       "<style scoped>\n",
       "    .dataframe tbody tr th:only-of-type {\n",
       "        vertical-align: middle;\n",
       "    }\n",
       "\n",
       "    .dataframe tbody tr th {\n",
       "        vertical-align: top;\n",
       "    }\n",
       "\n",
       "    .dataframe thead th {\n",
       "        text-align: right;\n",
       "    }\n",
       "</style>\n",
       "<table border=\"1\" class=\"dataframe\">\n",
       "  <thead>\n",
       "    <tr style=\"text-align: right;\">\n",
       "      <th></th>\n",
       "      <th>TV</th>\n",
       "      <th>radio</th>\n",
       "      <th>newspaper</th>\n",
       "      <th>sales</th>\n",
       "    </tr>\n",
       "  </thead>\n",
       "  <tbody>\n",
       "    <tr>\n",
       "      <th>0</th>\n",
       "      <td>230.1</td>\n",
       "      <td>37.8</td>\n",
       "      <td>69.2</td>\n",
       "      <td>22.1</td>\n",
       "    </tr>\n",
       "    <tr>\n",
       "      <th>1</th>\n",
       "      <td>44.5</td>\n",
       "      <td>39.3</td>\n",
       "      <td>45.1</td>\n",
       "      <td>10.4</td>\n",
       "    </tr>\n",
       "    <tr>\n",
       "      <th>2</th>\n",
       "      <td>17.2</td>\n",
       "      <td>45.9</td>\n",
       "      <td>69.3</td>\n",
       "      <td>9.3</td>\n",
       "    </tr>\n",
       "    <tr>\n",
       "      <th>3</th>\n",
       "      <td>151.5</td>\n",
       "      <td>41.3</td>\n",
       "      <td>58.5</td>\n",
       "      <td>18.5</td>\n",
       "    </tr>\n",
       "    <tr>\n",
       "      <th>4</th>\n",
       "      <td>180.8</td>\n",
       "      <td>10.8</td>\n",
       "      <td>58.4</td>\n",
       "      <td>12.9</td>\n",
       "    </tr>\n",
       "    <tr>\n",
       "      <th>...</th>\n",
       "      <td>...</td>\n",
       "      <td>...</td>\n",
       "      <td>...</td>\n",
       "      <td>...</td>\n",
       "    </tr>\n",
       "    <tr>\n",
       "      <th>195</th>\n",
       "      <td>38.2</td>\n",
       "      <td>3.7</td>\n",
       "      <td>13.8</td>\n",
       "      <td>7.6</td>\n",
       "    </tr>\n",
       "    <tr>\n",
       "      <th>196</th>\n",
       "      <td>94.2</td>\n",
       "      <td>4.9</td>\n",
       "      <td>8.1</td>\n",
       "      <td>9.7</td>\n",
       "    </tr>\n",
       "    <tr>\n",
       "      <th>197</th>\n",
       "      <td>177.0</td>\n",
       "      <td>9.3</td>\n",
       "      <td>6.4</td>\n",
       "      <td>12.8</td>\n",
       "    </tr>\n",
       "    <tr>\n",
       "      <th>198</th>\n",
       "      <td>283.6</td>\n",
       "      <td>42.0</td>\n",
       "      <td>66.2</td>\n",
       "      <td>25.5</td>\n",
       "    </tr>\n",
       "    <tr>\n",
       "      <th>199</th>\n",
       "      <td>232.1</td>\n",
       "      <td>8.6</td>\n",
       "      <td>8.7</td>\n",
       "      <td>13.4</td>\n",
       "    </tr>\n",
       "  </tbody>\n",
       "</table>\n",
       "<p>200 rows × 4 columns</p>\n",
       "</div>"
      ],
      "text/plain": [
       "        TV  radio  newspaper  sales\n",
       "0    230.1   37.8       69.2   22.1\n",
       "1     44.5   39.3       45.1   10.4\n",
       "2     17.2   45.9       69.3    9.3\n",
       "3    151.5   41.3       58.5   18.5\n",
       "4    180.8   10.8       58.4   12.9\n",
       "..     ...    ...        ...    ...\n",
       "195   38.2    3.7       13.8    7.6\n",
       "196   94.2    4.9        8.1    9.7\n",
       "197  177.0    9.3        6.4   12.8\n",
       "198  283.6   42.0       66.2   25.5\n",
       "199  232.1    8.6        8.7   13.4\n",
       "\n",
       "[200 rows x 4 columns]"
      ]
     },
     "execution_count": 8,
     "metadata": {},
     "output_type": "execute_result"
    }
   ],
   "source": [
    "df = pd.read_csv(\"datasets/advertising4D.csv\")\n",
    "df"
   ]
  },
  {
   "cell_type": "code",
   "execution_count": 9,
   "id": "baec5d0c",
   "metadata": {},
   "outputs": [],
   "source": [
    "X = df.drop(\"sales\", axis=1)\n",
    "y = df['sales']\n",
    "X_train, X_test, y_train, y_test = train_test_split(X, y, test_size=0.2, shuffle=True)"
   ]
  },
  {
   "cell_type": "code",
   "execution_count": 11,
   "id": "63e601c9",
   "metadata": {},
   "outputs": [],
   "source": [
    "scaler = StandardScaler()\n",
    "scaler.fit(X_train)\n",
    "X_train = scaler.transform(X_train)\n",
    "X_test = scaler.transform(X_test)"
   ]
  },
  {
   "cell_type": "markdown",
   "id": "62184188",
   "metadata": {},
   "source": [
    "### Training with default Hyperparametrs."
   ]
  },
  {
   "cell_type": "code",
   "execution_count": 13,
   "id": "e33c3174",
   "metadata": {},
   "outputs": [
    {
     "name": "stdout",
     "output_type": "stream",
     "text": [
      " R2 Score :  0.8955000647586024\n"
     ]
    }
   ],
   "source": [
    "model.fit(X_train, y_train)\n",
    "r2 = model.score(X_test, y_test)\n",
    "print(\" R2 Score : \", r2)"
   ]
  },
  {
   "cell_type": "markdown",
   "id": "1db6893f",
   "metadata": {},
   "source": [
    "### Tunning Parameters.\n",
    "#### i- alpha =1   and solver = 'auto'  ----> default"
   ]
  },
  {
   "cell_type": "code",
   "execution_count": 14,
   "id": "0b89a203",
   "metadata": {},
   "outputs": [
    {
     "name": "stdout",
     "output_type": "stream",
     "text": [
      " R2 Score :  0.8955000647586024\n"
     ]
    }
   ],
   "source": [
    "model = Ridge(alpha=1.0, solver='auto')\n",
    "model.fit(X_train, y_train)\n",
    "r2 = model.score(X_test, y_test)\n",
    "print(\" R2 Score : \", r2)"
   ]
  },
  {
   "cell_type": "markdown",
   "id": "922a870f",
   "metadata": {},
   "source": [
    "#### ii- alpha =1000  and solver = 'auto'"
   ]
  },
  {
   "cell_type": "code",
   "execution_count": 15,
   "id": "16c48e00",
   "metadata": {},
   "outputs": [
    {
     "name": "stdout",
     "output_type": "stream",
     "text": [
      " R2 Score :  0.21986893721417622\n"
     ]
    }
   ],
   "source": [
    "model = Ridge(alpha=1000, solver='auto')\n",
    "model.fit(X_train, y_train)\n",
    "r2 = model.score(X_test, y_test)\n",
    "print(\" R2 Score : \", r2)"
   ]
  },
  {
   "cell_type": "markdown",
   "id": "3b850936",
   "metadata": {},
   "source": [
    "#### iii- alpha =100  and solver = 'lsqr'"
   ]
  },
  {
   "cell_type": "code",
   "execution_count": 16,
   "id": "ac43bfe8",
   "metadata": {},
   "outputs": [
    {
     "name": "stdout",
     "output_type": "stream",
     "text": [
      " R2 Score :  0.7741183584167997\n"
     ]
    }
   ],
   "source": [
    "model = Ridge(alpha=100, solver='lsqr')\n",
    "model.fit(X_train, y_train)\n",
    "r2 = model.score(X_test, y_test)\n",
    "print(\" R2 Score : \", r2)"
   ]
  },
  {
   "cell_type": "markdown",
   "id": "5aedd74b",
   "metadata": {},
   "source": [
    "### Cross Validate..."
   ]
  },
  {
   "cell_type": "code",
   "execution_count": 19,
   "id": "6a91ddb9",
   "metadata": {},
   "outputs": [
    {
     "name": "stdout",
     "output_type": "stream",
     "text": [
      "[0.79288744 0.69961578 0.72075948 0.69797299 0.69914695]\n",
      "R2 Score :  0.7220765305189867\n"
     ]
    }
   ],
   "source": [
    "cv_score = cross_val_score(estimator=Ridge(alpha=100, solver='lsqr'), X=X_train, y=y_train, scoring='r2', cv=5)\n",
    "print(cv_score)\n",
    "print(\"R2 Score : \", np.mean(cv_score))"
   ]
  },
  {
   "cell_type": "markdown",
   "id": "345f1864",
   "metadata": {},
   "source": [
    "###  USE LOOPs..."
   ]
  },
  {
   "cell_type": "code",
   "execution_count": 20,
   "id": "a09a056e",
   "metadata": {},
   "outputs": [
    {
     "name": "stdout",
     "output_type": "stream",
     "text": [
      "1000 lsqr  :  0.2198689372141761\n",
      "1000 svd  :  0.2198689372141761\n",
      "100 lsqr  :  0.7741183584167997\n",
      "100 svd  :  0.7741183584167998\n",
      "10 lsqr  :  0.8935965814955683\n",
      "10 svd  :  0.8935965814955684\n",
      "5 lsqr  :  0.8952341896782466\n",
      "5 svd  :  0.8952341896782466\n",
      "1 lsqr  :  0.8955000647586024\n",
      "1 svd  :  0.8955000647586024\n",
      "0 lsqr  :  0.8954015893231161\n",
      "0 svd  :  0.8954015893231162\n",
      "0.8 lsqr  :  0.8954859417859493\n",
      "0.8 svd  :  0.8954859417859494\n",
      "0.5 lsqr  :  0.8954595678400928\n",
      "0.5 svd  :  0.8954595678400928\n",
      "0.2 lsqr  :  0.8954269006591332\n",
      "0.2 svd  :  0.8954269006591332\n"
     ]
    }
   ],
   "source": [
    "b"
   ]
  },
  {
   "cell_type": "code",
   "execution_count": 21,
   "id": "f89ddbc4",
   "metadata": {},
   "outputs": [
    {
     "name": "stdout",
     "output_type": "stream",
     "text": [
      "1000 lsqr : 0.1567128382043864\n",
      "1000 svd : 0.15671557983160506\n",
      "100 lsqr : 0.7220765305189867\n",
      "100 svd : 0.7220765305189862\n",
      "10 lsqr : 0.8846156635849198\n",
      "10 svd : 0.8846156635849198\n",
      "5 lsqr : 0.8877716556780915\n",
      "5 svd : 0.8877716556780915\n",
      "1 lsqr : 0.8887489115631121\n",
      "1 svd : 0.8887489115631123\n",
      "0 lsqr : 0.8887400364939853\n",
      "0 svd : 0.8887400364939854\n",
      "0.8 lsqr : 0.8887558175618911\n",
      "0.8 svd : 0.8887558175618914\n",
      "0.5 lsqr : 0.8887581067042678\n",
      "0.5 svd : 0.888758106704268\n",
      "0.2 lsqr : 0.8887505806807606\n",
      "0.2 svd : 0.8887505806807606\n"
     ]
    }
   ],
   "source": [
    "alpha_list=[1000, 100, 10, 5, 1, 0, 0.8, 0.5, 0.2]\n",
    "solver_list=['lsqr','svd']\n",
    "for a in alpha_list:\n",
    "    for s in solver_list:\n",
    "        cv_score = cross_val_score(estimator=Ridge(alpha=a, solver=s), X=X_train, y=y_train, scoring='r2', cv=5)\n",
    "        print(a,s,\":\", np.mean(cv_score))"
   ]
  },
  {
   "cell_type": "markdown",
   "id": "1021394c",
   "metadata": {},
   "source": [
    "## GridSearch CV..."
   ]
  },
  {
   "cell_type": "code",
   "execution_count": 24,
   "id": "ae956dbd",
   "metadata": {},
   "outputs": [
    {
     "name": "stdout",
     "output_type": "stream",
     "text": [
      "Best Score:  0.888758106704268\n",
      "Bes Params:  {'alpha': 0.5, 'solver': 'svd'}\n"
     ]
    }
   ],
   "source": [
    "params = {\"alpha\":[1000, 100, 10, 1, 0.5],\n",
    "         \"solver\": ['lsqr','svd']}\n",
    "gs = GridSearchCV(estimator=Ridge(),\n",
    "                 param_grid=params,\n",
    "                 cv=5,\n",
    "                 n_jobs=-1)#none means don't run the jobs on multiple cpu's\n",
    "gs.fit(X_train, y_train)\n",
    "print(\"Best Score: \", gs.best_score_)\n",
    "print(\"Bes Params: \", gs.best_params_)"
   ]
  },
  {
   "cell_type": "markdown",
   "id": "211c778e",
   "metadata": {},
   "source": [
    "## RandomizedSearchCV..."
   ]
  },
  {
   "cell_type": "code",
   "execution_count": 26,
   "id": "c9238e3d",
   "metadata": {},
   "outputs": [
    {
     "name": "stdout",
     "output_type": "stream",
     "text": [
      "Best Score:  0.888758106704268\n",
      "Bes Params:  {'solver': 'svd', 'alpha': 0.5}\n"
     ]
    }
   ],
   "source": [
    "params = {\"alpha\":[1000, 100, 10, 1, 0.5],\n",
    "         \"solver\": ['lsqr','svd']}\n",
    "rans = RandomizedSearchCV(estimator=Ridge(),\n",
    "                 param_distributions=params,\n",
    "                 n_iter=6, #no of models to try\n",
    "                 scoring='r2',\n",
    "                 cv=5,\n",
    "                 n_jobs=-1)#none means don't run the jobs on multiple cpu's\n",
    "rans.fit(X_train, y_train)\n",
    "print(\"Best Score: \", rans.best_score_)\n",
    "print(\"Bes Params: \", rans.best_params_)"
   ]
  },
  {
   "cell_type": "code",
   "execution_count": null,
   "id": "7cac6e2e",
   "metadata": {},
   "outputs": [],
   "source": []
  }
 ],
 "metadata": {
  "kernelspec": {
   "display_name": "Python 3 (ipykernel)",
   "language": "python",
   "name": "python3"
  },
  "language_info": {
   "codemirror_mode": {
    "name": "ipython",
    "version": 3
   },
   "file_extension": ".py",
   "mimetype": "text/x-python",
   "name": "python",
   "nbconvert_exporter": "python",
   "pygments_lexer": "ipython3",
   "version": "3.9.16"
  }
 },
 "nbformat": 4,
 "nbformat_minor": 5
}
