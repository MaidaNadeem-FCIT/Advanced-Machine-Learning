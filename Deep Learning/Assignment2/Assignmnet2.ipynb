{
 "cells": [
  {
   "cell_type": "markdown",
   "id": "e8ea46bd",
   "metadata": {},
   "source": [
    "## Ocular Disease Classification"
   ]
  },
  {
   "cell_type": "code",
   "execution_count": 31,
   "id": "8e35578a",
   "metadata": {},
   "outputs": [],
   "source": [
    "import torch\n",
    "import torch.nn as nn\n",
    "import torch.optim as optim\n",
    "from torch.utils.data import Dataset, DataLoader\n",
    "import torchvision\n",
    "import torchvision.transforms as transforms\n",
    "from torchvision.datasets import ImageFolder\n",
    "import timm\n",
    "\n",
    "import matplotlib.pyplot as plt\n",
    "import pandas as pd\n",
    "import numpy as np\n",
    "import sys\n",
    "from tqdm.notebook import tqdm\n",
    "from sklearn.metrics import accuracy_score, classification_report"
   ]
  },
  {
   "cell_type": "code",
   "execution_count": null,
   "id": "e35c601c",
   "metadata": {},
   "outputs": [],
   "source": [
    "%run -i ClassesHierarchy.py"
   ]
  },
  {
   "cell_type": "code",
   "execution_count": 12,
   "id": "3e231a20",
   "metadata": {},
   "outputs": [],
   "source": [
    "%run -i TestValidationSplit.py"
   ]
  },
  {
   "cell_type": "code",
   "execution_count": 38,
   "id": "b89b8bce",
   "metadata": {},
   "outputs": [],
   "source": [
    "%run -i DataLoader.py"
   ]
  },
  {
   "cell_type": "code",
   "execution_count": null,
   "id": "935291c2",
   "metadata": {},
   "outputs": [
    {
     "data": {
      "application/vnd.jupyter.widget-view+json": {
       "model_id": "39e75c0733154fb3a5db413926847246",
       "version_major": 2,
       "version_minor": 0
      },
      "text/plain": [
       "Training loop:   0%|          | 0/35 [00:00<?, ?it/s]"
      ]
     },
     "metadata": {},
     "output_type": "display_data"
    }
   ],
   "source": [
    "%run -i ModelTraining.py"
   ]
  },
  {
   "cell_type": "code",
   "execution_count": 36,
   "id": "3c329f58",
   "metadata": {},
   "outputs": [
    {
     "name": "stdout",
     "output_type": "stream",
     "text": [
      "Test Accuracy: 0.6677524429967426\n"
     ]
    }
   ],
   "source": [
    "# Testin\n",
    "model.eval()\n",
    "all_test_preds = []\n",
    "all_test_labels = []\n",
    "with torch.no_grad():\n",
    "    for inputs, labels in testloader:\n",
    "        inputs, labels = inputs.to(device), labels.to(device)\n",
    "        outputs = model(inputs)\n",
    "        _, predicted = torch.max(outputs, 1)\n",
    "        all_test_preds.extend(predicted.cpu().numpy())\n",
    "        all_test_labels.extend(labels.cpu().numpy())\n",
    "\n",
    "# Calculate test accuracy\n",
    "test_accuracy = accuracy_score(all_test_labels, all_test_preds)\n",
    "print(f\"Test Accuracy: {test_accuracy}\")"
   ]
  },
  {
   "cell_type": "code",
   "execution_count": 37,
   "id": "ea14394c",
   "metadata": {},
   "outputs": [
    {
     "name": "stdout",
     "output_type": "stream",
     "text": [
      "                                   precision    recall  f1-score   support\n",
      "\n",
      " age related macular degeneration       0.65      0.70      0.68       105\n",
      "                         cataract       0.91      0.94      0.93       106\n",
      "                         diabetes       0.43      0.62      0.51       101\n",
      "                         glaucoma       0.82      0.62      0.71       101\n",
      "                     hypertension       0.83      0.73      0.78        98\n",
      "                           normal       0.48      0.37      0.42       103\n",
      "\n",
      "                         accuracy                           0.67       614\n",
      "                        macro avg       0.69      0.67      0.67       614\n",
      "                     weighted avg       0.69      0.67      0.67       614\n",
      "\n"
     ]
    }
   ],
   "source": [
    "# Generate a classification report\n",
    "class_names = testset.classes\n",
    "report = classification_report(all_test_labels, all_test_preds, target_names=class_names)\n",
    "print(report)"
   ]
  },
  {
   "cell_type": "code",
   "execution_count": null,
   "id": "179c9fcd",
   "metadata": {},
   "outputs": [],
   "source": []
  }
 ],
 "metadata": {
  "kernelspec": {
   "display_name": "Python 3 (ipykernel)",
   "language": "python",
   "name": "python3"
  },
  "language_info": {
   "codemirror_mode": {
    "name": "ipython",
    "version": 3
   },
   "file_extension": ".py",
   "mimetype": "text/x-python",
   "name": "python",
   "nbconvert_exporter": "python",
   "pygments_lexer": "ipython3",
   "version": "3.9.16"
  }
 },
 "nbformat": 4,
 "nbformat_minor": 5
}
