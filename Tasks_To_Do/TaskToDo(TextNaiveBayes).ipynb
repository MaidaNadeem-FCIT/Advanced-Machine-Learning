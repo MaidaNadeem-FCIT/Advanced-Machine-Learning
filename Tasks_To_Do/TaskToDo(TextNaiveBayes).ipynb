{
 "cells": [
  {
   "cell_type": "markdown",
   "id": "39e6120a",
   "metadata": {},
   "source": [
    "## Text Classification with Naive Bayes"
   ]
  },
  {
   "cell_type": "code",
   "execution_count": 12,
   "id": "49d37814",
   "metadata": {},
   "outputs": [],
   "source": [
    "import pandas as pd\n",
    "import seaborn as sns\n",
    "import numpy as np\n",
    "import matplotlib.pyplot as plt\n",
    "from sklearn.naive_bayes import GaussianNB, BernoulliNB, CategoricalNB, ComplementNB, MultinomialNB\n",
    "from sklearn.model_selection import train_test_split\n",
    "from sklearn.metrics import confusion_matrix, ConfusionMatrixDisplay, accuracy_score, precision_score\n",
    "from sklearn.metrics import recall_score,f1_score, classification_report\n",
    "from sklearn.preprocessing import LabelEncoder\n",
    "from sklearn.feature_extraction.text import TfidfVectorizer"
   ]
  },
  {
   "cell_type": "code",
   "execution_count": 3,
   "id": "93b1f73d",
   "metadata": {},
   "outputs": [
    {
     "data": {
      "text/html": [
       "<div>\n",
       "<style scoped>\n",
       "    .dataframe tbody tr th:only-of-type {\n",
       "        vertical-align: middle;\n",
       "    }\n",
       "\n",
       "    .dataframe tbody tr th {\n",
       "        vertical-align: top;\n",
       "    }\n",
       "\n",
       "    .dataframe thead th {\n",
       "        text-align: right;\n",
       "    }\n",
       "</style>\n",
       "<table border=\"1\" class=\"dataframe\">\n",
       "  <thead>\n",
       "    <tr style=\"text-align: right;\">\n",
       "      <th></th>\n",
       "      <th>label</th>\n",
       "      <th>text</th>\n",
       "    </tr>\n",
       "  </thead>\n",
       "  <tbody>\n",
       "    <tr>\n",
       "      <th>0</th>\n",
       "      <td>ham</td>\n",
       "      <td>Go until jurong point, crazy.. Available only ...</td>\n",
       "    </tr>\n",
       "    <tr>\n",
       "      <th>1</th>\n",
       "      <td>ham</td>\n",
       "      <td>Ok lar... Joking wif u oni...</td>\n",
       "    </tr>\n",
       "    <tr>\n",
       "      <th>2</th>\n",
       "      <td>spam</td>\n",
       "      <td>Free entry in 2 a wkly comp to win FA Cup fina...</td>\n",
       "    </tr>\n",
       "    <tr>\n",
       "      <th>3</th>\n",
       "      <td>ham</td>\n",
       "      <td>U dun say so early hor... U c already then say...</td>\n",
       "    </tr>\n",
       "    <tr>\n",
       "      <th>4</th>\n",
       "      <td>ham</td>\n",
       "      <td>Nah I don't think he goes to usf, he lives aro...</td>\n",
       "    </tr>\n",
       "    <tr>\n",
       "      <th>...</th>\n",
       "      <td>...</td>\n",
       "      <td>...</td>\n",
       "    </tr>\n",
       "    <tr>\n",
       "      <th>5567</th>\n",
       "      <td>spam</td>\n",
       "      <td>This is the 2nd time we have tried 2 contact u...</td>\n",
       "    </tr>\n",
       "    <tr>\n",
       "      <th>5568</th>\n",
       "      <td>ham</td>\n",
       "      <td>Will ü b going to esplanade fr home?</td>\n",
       "    </tr>\n",
       "    <tr>\n",
       "      <th>5569</th>\n",
       "      <td>ham</td>\n",
       "      <td>Pity, * was in mood for that. So...any other s...</td>\n",
       "    </tr>\n",
       "    <tr>\n",
       "      <th>5570</th>\n",
       "      <td>ham</td>\n",
       "      <td>The guy did some bitching but I acted like i'd...</td>\n",
       "    </tr>\n",
       "    <tr>\n",
       "      <th>5571</th>\n",
       "      <td>ham</td>\n",
       "      <td>Rofl. Its true to its name</td>\n",
       "    </tr>\n",
       "  </tbody>\n",
       "</table>\n",
       "<p>5572 rows × 2 columns</p>\n",
       "</div>"
      ],
      "text/plain": [
       "     label                                               text\n",
       "0      ham  Go until jurong point, crazy.. Available only ...\n",
       "1      ham                      Ok lar... Joking wif u oni...\n",
       "2     spam  Free entry in 2 a wkly comp to win FA Cup fina...\n",
       "3      ham  U dun say so early hor... U c already then say...\n",
       "4      ham  Nah I don't think he goes to usf, he lives aro...\n",
       "...    ...                                                ...\n",
       "5567  spam  This is the 2nd time we have tried 2 contact u...\n",
       "5568   ham               Will ü b going to esplanade fr home?\n",
       "5569   ham  Pity, * was in mood for that. So...any other s...\n",
       "5570   ham  The guy did some bitching but I acted like i'd...\n",
       "5571   ham                         Rofl. Its true to its name\n",
       "\n",
       "[5572 rows x 2 columns]"
      ]
     },
     "execution_count": 3,
     "metadata": {},
     "output_type": "execute_result"
    }
   ],
   "source": [
    "df = pd.read_csv('datasets/smsspamcollection.txt', sep='\\t', header=None, names=['label', 'text'])\n",
    "df"
   ]
  },
  {
   "cell_type": "code",
   "execution_count": 4,
   "id": "0c57267e",
   "metadata": {},
   "outputs": [
    {
     "name": "stdout",
     "output_type": "stream",
     "text": [
      "<class 'pandas.core.frame.DataFrame'>\n",
      "RangeIndex: 5572 entries, 0 to 5571\n",
      "Data columns (total 2 columns):\n",
      " #   Column  Non-Null Count  Dtype \n",
      "---  ------  --------------  ----- \n",
      " 0   label   5572 non-null   object\n",
      " 1   text    5572 non-null   object\n",
      "dtypes: object(2)\n",
      "memory usage: 87.2+ KB\n"
     ]
    }
   ],
   "source": [
    "df.info()"
   ]
  },
  {
   "cell_type": "code",
   "execution_count": 5,
   "id": "12883cab",
   "metadata": {},
   "outputs": [
    {
     "data": {
      "text/plain": [
       "ham     4825\n",
       "spam     747\n",
       "Name: label, dtype: int64"
      ]
     },
     "execution_count": 5,
     "metadata": {},
     "output_type": "execute_result"
    }
   ],
   "source": [
    "df['label'].value_counts()"
   ]
  },
  {
   "cell_type": "code",
   "execution_count": 8,
   "id": "b196e3e2",
   "metadata": {},
   "outputs": [
    {
     "data": {
      "text/plain": [
       "(5572, 2)"
      ]
     },
     "execution_count": 8,
     "metadata": {},
     "output_type": "execute_result"
    }
   ],
   "source": [
    "df.shape"
   ]
  },
  {
   "cell_type": "code",
   "execution_count": 9,
   "id": "0fd1b934",
   "metadata": {},
   "outputs": [
    {
     "data": {
      "text/html": [
       "<div>\n",
       "<style scoped>\n",
       "    .dataframe tbody tr th:only-of-type {\n",
       "        vertical-align: middle;\n",
       "    }\n",
       "\n",
       "    .dataframe tbody tr th {\n",
       "        vertical-align: top;\n",
       "    }\n",
       "\n",
       "    .dataframe thead th {\n",
       "        text-align: right;\n",
       "    }\n",
       "</style>\n",
       "<table border=\"1\" class=\"dataframe\">\n",
       "  <thead>\n",
       "    <tr style=\"text-align: right;\">\n",
       "      <th></th>\n",
       "      <th>label</th>\n",
       "      <th>text</th>\n",
       "    </tr>\n",
       "  </thead>\n",
       "  <tbody>\n",
       "    <tr>\n",
       "      <th>0</th>\n",
       "      <td>0</td>\n",
       "      <td>Go until jurong point, crazy.. Available only ...</td>\n",
       "    </tr>\n",
       "    <tr>\n",
       "      <th>1</th>\n",
       "      <td>0</td>\n",
       "      <td>Ok lar... Joking wif u oni...</td>\n",
       "    </tr>\n",
       "    <tr>\n",
       "      <th>2</th>\n",
       "      <td>1</td>\n",
       "      <td>Free entry in 2 a wkly comp to win FA Cup fina...</td>\n",
       "    </tr>\n",
       "    <tr>\n",
       "      <th>3</th>\n",
       "      <td>0</td>\n",
       "      <td>U dun say so early hor... U c already then say...</td>\n",
       "    </tr>\n",
       "    <tr>\n",
       "      <th>4</th>\n",
       "      <td>0</td>\n",
       "      <td>Nah I don't think he goes to usf, he lives aro...</td>\n",
       "    </tr>\n",
       "  </tbody>\n",
       "</table>\n",
       "</div>"
      ],
      "text/plain": [
       "   label                                               text\n",
       "0      0  Go until jurong point, crazy.. Available only ...\n",
       "1      0                      Ok lar... Joking wif u oni...\n",
       "2      1  Free entry in 2 a wkly comp to win FA Cup fina...\n",
       "3      0  U dun say so early hor... U c already then say...\n",
       "4      0  Nah I don't think he goes to usf, he lives aro..."
      ]
     },
     "execution_count": 9,
     "metadata": {},
     "output_type": "execute_result"
    }
   ],
   "source": [
    "le = LabelEncoder()\n",
    "df['label']= le.fit_transform(df.iloc[:,0])\n",
    "df.head()"
   ]
  },
  {
   "cell_type": "code",
   "execution_count": 10,
   "id": "6e8a8fbf",
   "metadata": {},
   "outputs": [
    {
     "data": {
      "text/plain": [
       "0       Go until jurong point, crazy.. Available only ...\n",
       "1                           Ok lar... Joking wif u oni...\n",
       "2       Free entry in 2 a wkly comp to win FA Cup fina...\n",
       "3       U dun say so early hor... U c already then say...\n",
       "4       Nah I don't think he goes to usf, he lives aro...\n",
       "                              ...                        \n",
       "5567    This is the 2nd time we have tried 2 contact u...\n",
       "5568                 Will ü b going to esplanade fr home?\n",
       "5569    Pity, * was in mood for that. So...any other s...\n",
       "5570    The guy did some bitching but I acted like i'd...\n",
       "5571                           Rofl. Its true to its name\n",
       "Name: text, Length: 5572, dtype: object"
      ]
     },
     "execution_count": 10,
     "metadata": {},
     "output_type": "execute_result"
    }
   ],
   "source": [
    "X = df.text\n",
    "X"
   ]
  },
  {
   "cell_type": "code",
   "execution_count": 11,
   "id": "864bfb85",
   "metadata": {},
   "outputs": [
    {
     "data": {
      "text/plain": [
       "0       0\n",
       "1       0\n",
       "2       1\n",
       "3       0\n",
       "4       0\n",
       "       ..\n",
       "5567    1\n",
       "5568    0\n",
       "5569    0\n",
       "5570    0\n",
       "5571    0\n",
       "Name: label, Length: 5572, dtype: int32"
      ]
     },
     "execution_count": 11,
     "metadata": {},
     "output_type": "execute_result"
    }
   ],
   "source": [
    "y = df.label\n",
    "y"
   ]
  },
  {
   "cell_type": "code",
   "execution_count": 13,
   "id": "b9efb5c4",
   "metadata": {},
   "outputs": [],
   "source": [
    "TFIDF = TfidfVectorizer(max_features=10000,\n",
    "    stop_words='english',\n",
    "    ngram_range=(1, 1),\n",
    "    max_df=0.9,\n",
    "    min_df=2,\n",
    "    )"
   ]
  },
  {
   "cell_type": "code",
   "execution_count": 14,
   "id": "f8154292",
   "metadata": {},
   "outputs": [
    {
     "data": {
      "text/plain": [
       "<5572x3965 sparse matrix of type '<class 'numpy.float64'>'\n",
       "\twith 39099 stored elements in Compressed Sparse Row format>"
      ]
     },
     "execution_count": 14,
     "metadata": {},
     "output_type": "execute_result"
    }
   ],
   "source": [
    "tfidf = TFIDF.fit_transform(X)\n",
    "tfidf"
   ]
  },
  {
   "cell_type": "code",
   "execution_count": 15,
   "id": "6976134b",
   "metadata": {},
   "outputs": [
    {
     "name": "stdout",
     "output_type": "stream",
     "text": [
      "Vocabulary:\n",
      " {'point': 2696, 'crazy': 1053, 'available': 570, 'bugis': 772, 'great': 1656, 'world': 3892, 'la': 2029, 'buffet': 771, 'cine': 918, 'got': 1642, 'wat': 3794, 'ok': 2530, 'lar': 2043, 'joking': 1959, 'wif': 3842, 'oni': 2539, 'free': 1519, 'entry': 1330, 'wkly': 3870, 'comp': 977, 'win': 3848, 'fa': 1394, 'cup': 1074, 'final': 1459, 'tkts': 3542, '21st': 170, '2005': 165, 'text': 3477, '87121': 350, 'receive': 2873, 'question': 2814, 'std': 3316, 'txt': 3635, 'rate': 2844, 'apply': 513, '08452810075over18': 41, 'dun': 1273, 'say': 3032, 'early': 1279, 'hor': 1780, 'nah': 2424, 'don': 1229, 'think': 3500, 'goes': 1625, 'usf': 3701, 'lives': 2121, 'freemsg': 1523, 'hey': 1742, 'darling': 1102, 'week': 3814, 'word': 3886, 'like': 2097, 'fun': 1549, 'tb': 3437, 'xxx': 3926, 'send': 3083, '50': 264, 'rcv': 2847, 'brother': 759, 'speak': 3268, 'treat': 3603, 'request': 2930, 'melle': 2286, 'oru': 2564, 'minnaminunginte': 2317, 'nurungu': 2507, 'vettam': 3725, 'set': 3098, 'callertune': 808, 'callers': 807, 'press': 2753, 'copy': 1025, 'friends': 1532, 'winner': 3853, 'valued': 3715, 'network': 2460, 'customer': 1082, 'selected': 3073, 'receivea': 2874, '900': 370, 'prize': 2767, 'reward': 2954, 'claim': 922, '09061701461': 89, 'code': 952, 'kl341': 2014, 'valid': 3711, '12': 127, 'hours': 1790, 'mobile': 2347, '11': 122, 'months': 2372, 'entitled': 1329, 'update': 3679, 'latest': 2048, 'colour': 963, 'mobiles': 2348, 'camera': 817, '08002986030': 32, 'gonna': 1631, 'home': 1769, 'soon': 3247, 'want': 3782, 'talk': 3423, 'stuff': 3348, 'anymore': 501, 'tonight': 3569, 've': 3720, 'today': 3553, 'chances': 871, 'cash': 846, '100': 113, '20': 160, '000': 1, 'pounds': 2728, 'csh11': 1068, '87575': 354, 'cost': 1030, '150p': 142, 'day': 1112, '6days': 295, '16': 148, 'tsandcs': 3619, 'reply': 2926, 'hl': 1753, 'info': 1869, 'urgent': 3689, 'won': 3880, 'membership': 2290, 'jackpot': 1923, '81010': 323, 'www': 3916, 'dbuk': 1114, 'net': 2458, 'lccltd': 2057, 'pobox': 2688, '4403ldnw1a7rw18': 246, 'searching': 3058, 'right': 2960, 'words': 3887, 'thank': 3487, 'promise': 2781, 'wont': 3885, 'help': 1737, 'wonderful': 3882, 'blessing': 686, 'times': 3532, 'date': 1106, 'sunday': 3375, 'use': 3697, 'credit': 1056, 'click': 936, 'wap': 3786, 'link': 2107, 'message': 2297, 'http': 1801, 'com': 965, 'oh': 2526, 'watching': 3796, 'eh': 1304, 'remember': 2907, 'spell': 3276, 'yes': 3945, 'did': 1174, 'naughty': 2441, 'make': 2225, 'wet': 3831, 'fine': 1462, 'way': 3801, 'feel': 1433, 'england': 1322, 'dont': 1231, 'miss': 2326, 'goals': 1622, 'team': 3446, 'news': 2467, 'ur': 3686, 'national': 2438, '87077': 349, 'try': 3616, 'wales': 3771, 'scotland': 3047, '4txt': 262, 'seriously': 3094, 'going': 1627, 'ha': 1679, 'pay': 2609, 'da': 1090, 'stock': 3321, 'comin': 972, 'aft': 437, 'finish': 1464, 'lunch': 2189, 'str': 3334, 'lor': 2149, 'ard': 524, 'smth': 3224, 'alright': 474, 'meet': 2278, 'sooner': 3248, 'just': 1973, 'eat': 1288, 'slice': 3202, 'really': 2863, 'hungry': 1808, 'tho': 3507, 'sucks': 3363, 'mark': 2242, 'getting': 1599, 'worried': 3894, 'knows': 2019, 'sick': 3156, 'turn': 3629, 'pizza': 2663, 'lol': 2138, 'convincing': 1018, 'catch': 850, 'bus': 780, 'frying': 1541, 'egg': 1302, 'tea': 3441, 'eating': 1291, 'mom': 2361, 'left': 2069, 'dinner': 1190, 'love': 2165, 'amp': 479, 'car': 829, 'll': 2124, 'let': 2078, 'know': 2017, 'room': 2979, 'work': 3888, 'does': 1218, 'wait': 3765, 'clear': 931, 'sure': 3390, 'sarcastic': 3021, 'doesn': 1219, 'live': 2118, 'yeah': 3937, 'child': 903, 'caught': 852, 'till': 3530, 'doing': 1225, 'cheers': 896, 'tell': 3457, 'fear': 1430, 'quick': 2817, 'thanks': 3488, 'subscription': 3359, 'ringtone': 2964, 'uk': 3649, 'charged': 878, 'month': 2370, 'confirm': 993, 'replying': 2927, 'yup': 3962, 'look': 2143, 'msg': 2395, 'xuhui': 3924, 'learn': 2063, '2nd': 199, 'lesson': 2076, '8am': 365, 'oops': 2544, 'roommate': 2980, 'letter': 2080, 'decide': 1125, 'hello': 1735, 'saturday': 3026, 'texting': 3481, 'decided': 1126, 'tomo': 3562, 'trying': 3617, 'invite': 1895, 'pls': 2683, 'ahead': 449, 'wanted': 3783, 'weekend': 3815, 'abiola': 384, 'forget': 1503, 'need': 2452, 'crave': 1051, 'sweet': 3401, 'mmmmmm': 2341, 'yummy': 3958, 'burns': 779, 'tried': 3606, 'sms': 3222, 'nokia': 2482, 'camcorder': 815, '08000930705': 28, 'delivery': 1148, 'tomorrow': 3564, 'seeing': 3070, 'hope': 1776, 'man': 2232, 'lt': 2184, 'gt': 1666, 'inches': 1853, 'calls': 812, 'messages': 2299, 'missed': 2327, 'didn': 1175, 'nigeria': 2472, 'fair': 1402, 'hopefully': 1778, 'tyler': 3643, 'maybe': 2264, 'ask': 544, 'bit': 674, 'hospital': 1783, 'kept': 1991, 'telling': 3458, 'weak': 3803, 'hospitals': 1784, 'time': 3531, 'saw': 3031, 'class': 926, 'gram': 1651, 'usually': 3705, 'runs': 3000, 'half': 1687, 'eighth': 1305, 'gets': 1596, 'second': 3062, 'fyi': 1556, 'ride': 2959, 'morning': 2379, 'place': 2664, 'wow': 3903, 'realized': 2862, 'embarassed': 1312, 'thought': 3509, 'liked': 2098, 'best': 650, 'happy': 1706, 'sorry': 3252, 'ac': 391, 'new': 2464, 'detroit': 1162, 'red': 2886, 'play': 2673, 'ice': 1826, 'hockey': 1760, 'correct': 1027, 'end': 1314, 'yesterday': 3947, 'url': 3692, 'congrats': 999, 'year': 3938, 'special': 3270, 'cinema': 919, 'pass': 2601, '09061209465': 85, 'suprman': 3388, 'matrix3': 2256, 'starwars3': 3307, 'bx420': 789, 'ip4': 1900, '5we': 281, '150pm': 144, 'later': 2047, 'meeting': 2280, 'reached': 2851, 'odi': 2520, 'series': 3093, 'pick': 2645, 'burger': 777, 'pain': 2581, 'killing': 2006, 'good': 1632, 'joke': 1956, 'girls': 1610, 'situation': 3183, 'checking': 894, 'iq': 1903, 'roommates': 2981, 'took': 3573, 'forever': 1501, 'come': 968, 'double': 1236, 'check': 892, 'hair': 1685, 'dresser': 1249, 'said': 3009, 'wun': 3915, 'cut': 1084, 'short': 3138, 'nice': 2470, 'pleased': 2679, 'advise': 430, 'following': 1493, 'recent': 2877, 'review': 2952, 'mob': 2346, 'awarded': 580, '1500': 141, 'bonus': 703, '09066364589': 106, 'song': 3242, 'dedicated': 1132, 'dedicate': 1131, 'valuable': 3713, 'frnds': 1537, 'rply': 2987, 'complimentary': 985, 'trip': 3607, 'eurodisinc': 1348, 'trav': 3601, 'aco': 402, 'entry41': 1331, '1000': 114, 'dis': 1196, '18': 151, 'morefrmmob': 2376, 'shracomorsglsuplt': 3149, '10': 112, 'ls1': 2181, '3aj': 228, 'hear': 1724, 'divorce': 1210, 'comes': 970, 'plane': 2668, 'wah': 3762, 'lucky': 2187, 'save': 3029, 'money': 2367, 'hee': 1729, 'finished': 1465, 'hi': 1744, 'babe': 589, 'im': 1841, 'wanna': 3781, 'xx': 3925, 'waiting': 3768, 'machan': 2209, 'thats': 3491, 'cool': 1023, 'gentleman': 1591, 'dignity': 1187, 'respect': 2933, 'shy': 3152, 'pa': 2574, 'looking': 2146, 'job': 1949, 'ta': 3413, 'earn': 1280, 'ah': 447, 'stop': 3326, 'urgnt': 3691, 'real': 2858, 'yo': 3951, 'tickets': 3526, 'jacket': 1922, 'used': 3698, 'started': 3304, 'requests': 2931, 'came': 816, 'bed': 630, 'coins': 954, 'gotta': 1644, 'nitros': 2478, 'ela': 1307, 'kano': 1979, 'il': 1838, 'download': 1239, 'wen': 3826, 'stand': 3297, 'close': 939, 'night': 2473, 'spent': 3279, 'late': 2045, 'afternoon': 438, 'means': 2271, 'haven': 1714, 'sheets': 3116, 'smile': 3215, 'pleasure': 2680, 'trouble': 3609, 'pours': 2729, 'rain': 2830, 'sum1': 3371, 'hurts': 1814, 'becoz': 629, 'loves': 2173, 'smiling': 3217, 'service': 3095, 'representative': 2929, '0800': 24, '169': 149, '6031': 283, '10am': 118, '9pm': 377, 'guaranteed': 1667, '5000': 266, 'havent': 1715, 'planning': 2671, 'buy': 785, 'lido': 2088, '530': 271, 'collected': 958, 'simply': 3169, 'password': 2604, 'mix': 2334, '85069': 341, 'verify': 3723, 'usher': 3702, 'britney': 752, 'fml': 1488, 'po': 2687, 'box': 723, '5249': 270, 'mk17': 2335, '92h': 371, '450ppw': 249, 'telugu': 3462, 'movie': 2386, 'abt': 388, 'loads': 2127, 'loans': 2129, 'wk': 3866, 'hols': 1767, 'run': 2998, 'forgot': 1506, 'appointment': 514, 'shower': 3146, 'cause': 853, 'prob': 2769, 'coffee': 953, 'animation': 485, 'okay': 2531, 'price': 2758, 'long': 2141, 'legal': 2070, 'ave': 572, 'gone': 1630, 'driving': 1257, 'test': 3474, 'mean': 2269, 'guess': 1670, 'gave': 1577, 'boston': 717, 'men': 2291, 'changed': 873, 'search': 3057, 'location': 2131, 'nyc': 2513, 'cuz': 1088, 'page': 2578, 'says': 3034, 'umma': 3652, 'life': 2091, 'vava': 3718, 'lot': 2155, 'dear': 1119, 'wishes': 3860, 'birthday': 672, 'making': 2228, 'truly': 3613, 'aight': 451, 'hit': 1751, 'address': 419, 'considering': 1005, 'computer': 986, 'isn': 1910, 'old': 2535, 'people': 2623, 'better': 653, 'jokes': 1957, 'worry': 3896, 'busy': 783, 'noun': 2499, 'research': 2932, 'cos': 1029, 'things': 3499, 'scared': 3035, 'mah': 2216, 'loud': 2160, 'gent': 1589, 'contact': 1009, 'weekends': 3816, 'draw': 1244, 'shows': 3148, '09064012160': 97, 'k52': 1975, '12hrs': 132, '150ppm': 146, 'wa': 3761, 'sentence': 3090, 'juz': 1974, 'tt': 3623, 'eatin': 1290, 'puttin': 2808, 'weight': 3820, 'haha': 1682, 'anythin': 502, 'happened': 1701, 'entered': 1328, 'cabin': 792, 'boss': 716, 'felt': 1440, 'askd': 545, 'invited': 1896, 'apartment': 506, 'went': 3827, 'specially': 3271, 'holiday': 1765, 'flights': 1480, 'operator': 2547, 'min': 2311, 'goodo': 1638, 'friday': 1530, 'potato': 2723, 'tortilla': 3580, 'needed': 2453, 'hmm': 1756, 'uncle': 3657, 'informed': 1872, 'paying': 2611, 'school': 3039, 'directly': 1194, 'food': 1495, 'private': 2766, '2004': 164, 'account': 398, 'statement': 3308, '07742676969': 17, '786': 308, 'unredeemed': 3672, 'points': 2697, '08719180248': 72, 'identifier': 1832, '45239': 250, 'expires': 1383, '2000': 162, 'caller': 806, '03': 8, 'landline': 2037, 'todays': 3554, 'voda': 3743, 'numbers': 2506, 'ending': 1316, '350': 222, 'award': 579, 'match': 2250, '08712300220': 54, 'quoting': 2824, 'standard': 3298, 'rates': 2845, 'app': 509, 'mu': 2408, 'buying': 786, 'yetunde': 3948, 'hasn': 1711, 'sent': 3089, 'bother': 718, 'sending': 3085, 'shouldn': 3143, 'apologise': 508, 'girl': 1608, 'del': 1140, 'bak': 597, 'sum': 3370, 'answer': 494, 'sunshine': 3377, 'quiz': 2822, 'sony': 3244, 'dvd': 1276, 'player': 2675, 'country': 1037, 'algarve': 469, 'ansr': 493, '82277': 329, 'sp': 3264, 'tyrone': 3645, 'laid': 2035, 'dogging': 1222, 'locations': 2132, 'direct': 1193, 'join': 1953, 'largest': 2044, 'bt': 765, 'txting': 3638, '69888': 294, 'nt': 2501, 'ec2a': 1293, '31p': 219, 'haf': 1681, 'msn': 2400, 'yijue': 3949, 'rooms': 2982, 'befor': 634, 'activities': 408, 'msgs': 2399, 'chat': 885, 'hardcore': 1708, 'services': 3096, 'age': 441, 'yr': 3956, 'lazy': 2056, 'type': 3644, 'lect': 2067, 'pouch': 2726, 'sir': 3176, 'mail': 2219, 'swt': 3410, 'tired': 3534, 'little': 2117, 'lovable': 2164, 'persons': 2629, 'coz': 1044, 'somtimes': 3241, 'occupy': 2519, 'biggest': 661, 'hearts': 1727, 'gud': 1668, 'ni8': 2468, 'open': 2545, 'ya': 3930, 'dot': 1235, 'whats': 3832, 'staff': 3294, 'taking': 3421, 'replied': 2925, 'randy': 2840, 'sexy': 3105, 'female': 1441, 'local': 2130, 'luv': 2191, 'netcollex': 2459, '08700621170150p': 43, 'begin': 637, 'qatar': 2810, 'pray': 2739, 'hard': 1707, 'deleted': 1143, 'birla': 669, 'soft': 3232, 'wine': 3852, 'flowing': 1486, 'thk': 3504, 'plaza': 2678, 'floor': 1484, 'windows': 3851, 'shirt': 3125, 'mouth': 2383, 'dream': 1245, 'joy': 1964, 'lots': 2157, 'tv': 3632, 'leaving': 2066, 'house': 1791, 'interview': 1891, 'boy': 731, 'missing': 2329, 'years': 3939, 'arrange': 535, '0871277810810': 61, 'safe': 3008, 'parents': 2593, 'hand': 1692, 'spend': 3277, 'inviting': 1897, 'friend': 1531, '434': 244, 'frnd': 1536, '62468': 287, 'order': 2558, 'content': 1012, 'goto': 1643, 'internet': 1890, 'menu': 2293, 'module': 2356, 'avoid': 574, 'wit': 3864, 'beloved': 645, 'escape': 1340, 'fancy': 1411, 'needs': 2454, 'completely': 984, 'form': 1508, 'clark': 925, 'utter': 3706, 'waste': 3792, 'bank': 600, 'hmmm': 1757, 'hop': 1775, 'muz': 2418, 'discuss': 1201, 'liao': 2083, 'coming': 973, 'bloody': 692, 'hell': 1733, 'believe': 640, 'mr': 2391, 'ill': 1839, 'spanish': 3266, 'bath': 609, 'carlos': 840, 'mall': 2231, 'turns': 3631, 'staying': 3314, 'til': 3529, 'smoke': 3219, 'worth': 3899, 'doesnt': 1220, 'log': 2134, 'spoke': 3285, 'maneesha': 2238, 'satisfied': 3024, 'experience': 1381, 'toll': 3558, 'offer': 2521, 'especially': 1342, 'studying': 3347, 'anyways': 504, 'gr8': 1648, 'trust': 3614, 'guys': 1675, 'bye': 790, 'working': 3890, 'mummy': 2411, 'boytoy': 735, 'awesome': 582, 'minute': 2320, 'freephone': 1524, '0808': 35, '145': 137, '4742': 251, '9am': 375, '11pm': 126, 'xmas': 3923, 'radio': 2826, 'jus': 1972, 'bathe': 610, 'sis': 3177, 'using': 3703, 'finishes': 1466, 'unique': 3665, 'august': 564, 'joined': 1954, 'touch': 3585, 'deal': 1116, 'personal': 2627, 'finally': 1460, 'completed': 983, 'course': 1040, 'suggest': 3366, 'stays': 3315, 'able': 386, 'settled': 3102, 'wishin': 3861, 'mrng': 2392, 'hav': 1713, 'story': 3333, 'hamster': 1691, 'dead': 1115, 'tmr': 3546, 'orchard': 2557, 'mrt': 2393, 'kate': 1982, 'evening': 1352, 'bucks': 767, 'darlin': 1101, 'ive': 1919, 'college': 961, 'refilled': 2891, 'successfully': 3362, 'inr': 1877, 'decimal': 1128, 'keralacircle': 1993, 'prepaid': 2747, 'balance': 598, 'rs': 2988, 'transaction': 3596, 'id': 1828, 'kr': 2023, 'goodmorning': 1634, 'sleeping': 3198, 'dat': 1105, 'ericsson': 1337, 'oso': 2565, 'oredi': 2560, 'straight': 3335, 'connection': 1002, 'shoot': 3133, 'big': 659, 'ready': 2857, 'bruv': 762, 'break': 742, 'rewarding': 2955, 'semester': 3081, 'study': 3346, 'noe': 2480, 'leh': 2072, 'sounds': 3260, 'heading': 1722, 'slept': 3201, 'past': 2606, 'nights': 2474, 'easy': 1287, 'sen': 3082, 'exam': 1365, 'march': 2240, 'atm': 557, 'register': 2896, 'called': 805, 'installing': 1881, 'important': 1847, 'files': 1452, 'repair': 2921, 'shop': 3134, 'happen': 1699, 'romantic': 2977, 'nite': 2477, '500': 265, '89545': 362, 'collect': 957, 'tc': 3438, 'biz': 677, '2optout': 201, '087187262701': 67, '50gbp': 267, 'mtmsg18': 2406, 'appreciate': 515, 'partner': 2598, 'career': 834, 'start': 3303, 'followed': 1492, 'star': 3300, 'sign': 3160, 'company': 978, 'teacher': 3443, 'bcoz': 621, 'teaches': 3444, 'lessons': 2077, 'walk': 3772, 'cross': 1063, 'road': 2969, 'street': 3338, 'battery': 612, 'died': 1178, 'flirt': 1482, '10p': 120, 'sam': 3016, '25': 175, 'recd': 2870, 'pence': 2620, 'printed': 2763, 'upstairs': 3684, 'closer': 941, 'wil': 3846, 'reach': 2850, 'theory': 3494, 'argument': 530, 'wins': 3855, 'loses': 2151, 'person': 2626, 'argue': 529, 'kick': 1998, '447801259231': 248, 'secret': 3064, 'admirer': 421, 'reveal': 2949, 'thinks': 3503, '09058094597': 82, 'tomarrow': 3560, 'laptop': 2042, 'case': 845, 'tel': 3455, 'avent': 573, 'shining': 3121, 'meant': 2272, 'signing': 3161, 'told': 3557, 'face': 1396, 'watch': 3795, 'fr': 1515, 'thanx': 3490, 'touched': 3586, 'commercial': 974, 'website': 3808, 'slippers': 3206, 'asked': 546, 'kallis': 1978, 'bat': 607, 'innings': 1875, 'didnt': 1176, 'goodnight': 1635, 'fix': 1470, 'wake': 3769, 'dearly': 1122, 'sleep': 3196, 'congratulations': 1000, 'cd': 857, 'vouchers': 3752, '125gift': 131, 'music': 2416, '87066': 348, 'tncs': 3550, 'ldew': 2058, 'com1win150ppmx3age16': 966, 'ranjith': 2843, 'cal': 795, 'drpd': 1262, 'deeraj': 1135, 'deepak': 1134, '5min': 276, 'hold': 1762, 'bcums': 622, 'angry': 484, 'wid': 3840, 'dnt': 1213, 'childish': 904, 'true': 3611, 'showing': 3147, 'deep': 1133, 'affection': 435, 'care': 832, 'kettoda': 1994, 'manda': 2236, 'shipping': 3124, 'takes': 3419, '2wks': 207, 'lag': 2034, 'lemme': 2074, 'necessarily': 2447, 'expect': 1378, 'headin': 1721, 'mmm': 2338, 'jolt': 1961, 'suzy': 3397, 'lover': 2170, 'video': 3727, 'handset': 1696, '750': 306, 'anytime': 503, 'networks': 2462, 'mins': 2319, 'unlimited': 3670, 'parked': 2596, 'mini': 2313, 'shopping': 3136, 'disturb': 1207, 'ring': 2963, 'horny': 1781, 'naked': 2425, 'hot': 1786, 'unsubscribe': 3675, 'dint': 1191, 'wana': 3780, 'plan': 2667, 'credits': 1058, 'choose': 913, 'club': 944, 'mk45': 2336, '2wt': 208, 'flash': 1476, 'jealous': 1938, 'singles': 3174, 'chart': 882, 'quality': 2811, 'charge': 877, 'sorting': 3255, 'ended': 1315, 'sunny': 3376, 'rays': 2846, 'leaves': 2065, 'worries': 3895, 'blue': 695, 'bay': 614, 'hmv': 1758, 'genuine': 1593, 'questions': 2816, '86688': 345, '100percent': 116, 'bf': 655, 'gf': 1601, 'handed': 1693, 'swing': 3407, 'tool': 3574, 'definitely': 1139, 'far': 1415, 'okie': 2533, 'usual': 3704, 'guy': 1674, 'passed': 2602, 'anybody': 500, 'throw': 3516, 'lets': 2079, 'baby': 592, 'hour': 1789, 'fone': 1494, 'jenny': 1941, 'ge': 1582, 'shall': 3109, 'tonite': 3571, 'sense': 3087, 'gautham': 1576, 'stupid': 3349, 'cam': 814, 'buzy': 787, 'accidentally': 396, 'phone': 2638, 'upgrade': 3681, 'sim': 3166, 'card': 830, 'loyalty': 2180, '0845': 39, '021': 7, '3680': 226, 'ends': 1317, 'unless': 3669, 'hurt': 1812, 'tease': 3449, 'die': 1177, 'plz': 2685, 'rose': 2983, 'grave': 1654, 'bslvyl': 763, 'somebody': 3239, 'high': 1746, 'shit': 3127, 'shocking': 3131, 'scary': 3036, 'imagine': 1842, 'def': 1136, 'crash': 1050, 'taxi': 3434, 'meal': 2268, 'actor': 409, '4u': 263, '21': 168, 'dates': 1108, 'hide': 1745, 'book': 705, 'friendship': 1533, 'hanging': 1698, 'thread': 3512, 'themob': 3493, 'newest': 2466, 'selection': 3074, 'games': 1563, 'tones': 3566, 'gossip': 1641, 'babes': 590, 'sport': 3288, 'fit': 1469, 'funky': 1552, '82468': 330, 'garage': 1569, 'keys': 1996, 'aren': 526, 'accept': 393, 'sister': 3178, 'dear1': 1120, 'best1': 651, 'clos1': 938, 'lvblefrnd': 2196, 'jstfrnd': 1966, 'cutefrnd': 1086, 'lifpartnr': 2093, 'belovd': 644, 'swtheart': 3411, 'bstfrnd': 764, 'enemy': 1318, 'smart': 3212, '200': 161, 'weekly': 3817, 'cs': 1066, 'm26': 2200, '3uz': 238, '2day': 186, 'normal': 2491, 'rest': 2940, 'wot': 3900, 'lost': 2154, 'advance': 427, 'pongal': 2707, 'kb': 1985, 'power': 2731, 'yoga': 3952, 'dunno': 1274, 'tahan': 3417, 'anot': 491, 'lo': 2126, 'dude': 1271, 'afraid': 436, 'december': 1124, '11mths': 125, '08002986906': 33, 'cake': 794, 'merry': 2294, 'christmas': 916, 'kisses': 2013, 'cud': 1070, 'ppl': 2732, 'gona': 1629, 'buses': 781, 'waitin': 3767, 'pete': 2630, 'bristol': 750, 'plans': 2672, 'flight': 1479, 'problem': 2771, 'track': 3590, 'record': 2883, 'reading': 2856, 'women': 3879, 'read': 2854, 'light': 2095, 'apo': 507, 'return': 2946, 'immediately': 1844, 'germany': 1595, 'fixed': 1471, 'line': 2104, 'access': 394, 'number': 2505, '0844': 38, '861': 344, '85': 339, 'prepayment': 2750, 'chance': 870, 'violated': 3733, 'privacy': 2765, 'paperwork': 2590, 'report': 2928, 'supervisor': 3383, 'valentines': 3710, 'lifetime': 2092, '83600': 335, 'rcvd': 2848, 'custcare': 1080, '08718720201': 65, 'surfing': 3392, 'calling': 811, 'post': 2718, '1000s': 115, 'texts': 3484, 'wiv': 3865, 'caroline': 841, 'favourite': 1428, 'bless': 684, 'stranger': 3337, 'interested': 1888, 'cleared': 932, 'round': 2984, 'gudnite': 1669, 'practice': 2737, 'num': 2504, 'small': 3211, 'txts': 3640, 'misbehaved': 2324, 'slap': 3194, 'urself': 3694, 'fault': 1423, 'basically': 606, 'figure': 1449, 'alcohol': 465, 'jay': 1934, 'weed': 3813, 'ish': 1907, 'minutes': 2321, 'ago': 445, 'wtf': 3912, 'remembered': 2908, 'met': 2303, 'insurance': 1886, 'insha': 1878, 'allah': 471, 'rakhesh': 2835, 'ex': 1362, 'tissco': 3538, 'tayseer': 3436, 'currently': 1077, 'maximize': 2262, 'cc': 856, 'hg': 1743, 'suite342': 3368, '2lands': 192, 'row': 2985, 'w1j6hl': 3758, 'moment': 2362, 'st': 3293, 'cold': 955, 'posted': 2721, 'chikku': 902, 'audrey': 563, 'status': 3310, 'forward': 1513, 'alive': 470, 'breathe': 744, 'air': 454, 'update_now': 3680, 'motorola': 2382, 'sonyericsson': 3245, 'bluetooth': 696, 'orange': 2555, 'mobileupd8': 2351, '08000839402': 27, 'call2optout': 801, 'discount': 1199, 'geeee': 1584, 'woke': 3876, 'wish': 3859, 'cuddling': 1072, 'talking': 3424, 'agree': 446, 'willing': 3847, 'reference': 2890, 'gbp': 1580, 'seen': 3071, 'recognise': 2882, 'happening': 1702, 'sighs': 3158, 'ptbo': 2797, 'brings': 749, 'hes': 1740, 'project': 2779, 'mistake': 2330, 'body': 700, 'quite': 2821, 'slow': 3208, 'tests': 3476, 'guide': 1672, 'ovulation': 2570, 'relax': 2902, 'reason': 2865, 'couple': 1038, 'leave': 2064, '6months': 298, 'phones': 2640, 'n9dx': 2420, 'licks': 2087, 'mm': 2337, '4mths': 259, 'rental': 2918, 'mobilesdirect': 2349, '08000938767': 29, 'or2stoptxt': 2554, 'having': 1717, 'huh': 1806, 'sat': 3023, 'intro': 1892, 'pilates': 2656, 'office': 2523, 'days': 1113, 'shut': 3151, 'bout': 721, '30ish': 215, 'current': 1076, 'period': 2625, 'actually': 411, 'rock': 2972, 'putting': 2809, 'business': 782, 'pictures': 2651, 'ass': 552, 'facebook': 1397, 'picture': 2650, 'al': 462, 'salam': 3011, 'sharing': 3114, 'grace': 1649, 'god': 1623, 'inshah': 1879, 'india': 1862, 'change': 872, 'field': 1444, 'quickly': 2818, '87131': 351, 'poly': 2702, 'tone': 3565, '1st': 156, 'nd': 2443, 'chechi': 891, 'cream': 1054, 'shipped': 3123, 'yep': 3943, 'loxahatchee': 2178, 'tree': 3605, 'burning': 778, 'starts': 3306, 'slightly': 3204, 'pm': 2686, 'fav': 1424, 'darlings': 1103, 'wld': 3872, 'stay': 3311, 'drink': 1250, 'sender': 3084, 'fullonsms': 1548, 'thing': 3498, 'yan': 3932, 'jiu': 1947, 'skip': 3190, 'den': 1151, 'bring': 747, 'dating': 1109, 'box334sk38ch': 726, 'whatsup': 3833, 'goal': 1621, '250': 176, 'competition': 980, '80086': 317, 'txttowin': 3642, 'head': 1719, 'logo': 2136, 'names': 2430, 'heart': 1726, 'name1': 2427, 'name2': 2428, 'mobno': 2352, 'adam': 413, 'eve': 1350, '07123456789': 15, 'yahoo': 3931, 'pobox36504w45wq': 2690, 'txtno': 3639, 'ads': 425, 'contacted': 1010, 'siva': 3184, 'hostel': 1785, 'aha': 448, 'land': 2036, '3030': 214, 'voice': 3746, 'speaking': 3269, 'expression': 1388, 'ful': 1547, 'funny': 1553, 'irritating': 1905, 'aathi': 381, 'esplanade': 1343, 'mind': 2312, 'giving': 1615, 'lift': 2094, 'wnt': 3875, 'bmw': 698, 'urgently': 3690, 'vry': 3753, 'hv': 1816, 'shortage': 3139, 'lacs': 2031, 'source': 3262, 'arng': 534, 'amt': 480, 'fucking': 1545, 'respond': 2936, '3650': 224, '09066382422': 108, '3mins': 234, 'vary': 3717, '300603': 212, 'bcm4284': 620, 'ldn': 2059, 'wc1n3xx': 3802, 'booked': 706, 'ticket': 3525, 'th': 3485, 'askin': 547, 'dollars': 1228, 'iouri': 1899, 'applebees': 511, 'journey': 1963, 'gd': 1581, 'bhaji': 656, 'cricketer': 1061, 'sachin': 3004, 'tough': 3587, 'supposed': 3387, 'oic': 2528, 'tot': 3582, 'din': 1188, 'group': 1663, 'gorgeous': 1640, 'doin': 1224, 'jen': 1940, 'kinda': 2009, 'transfer': 3597, 'acc': 392, 'improve': 1849, 'loan': 2128, 'purpose': 2803, '75': 305, 'homeowners': 1770, 'tenants': 3465, 'welcome': 3823, 'previously': 2756, 'refused': 2892, '1956669': 154, 'si': 3153, 'oreo': 2561, 'truffles': 3612, 'amy': 482, 'ure': 3688, 'beautiful': 626, 'intelligent': 1887, 'woman': 3878, 'result': 2942, 'kind': 2008, 'asking': 548, 'ttyl': 3624, 'isnt': 1911, 'bad': 593, 'different': 1182, 'feeling': 1435, 'decisions': 1130, 'coping': 1024, 'individual': 1866, 'gives': 1614, 'reasons': 2867, '0207': 5, '153': 147, '26th': 180, 'july': 1970, 'opt': 2551, 'railway': 2829, 'princess': 2761, 'receiving': 2876, 'doggy': 1223, 'style': 3350, 'fave': 1425, 'position': 2715, 'enjoy': 1324, 'roads': 2970, 'language': 2041, 'dave': 1111, 'notice': 2497, 'tenerife': 3466, '09061743806': 92, 'tcs': 3440, 'sae': 3007, 'box326': 725, 'cw25wx': 1089, 'screamed': 3050, 'remove': 2914, 'flat': 1477, 'transfered': 3598, 'removed': 2915, 'banks': 601, 'charges': 879, '9ja': 376, 'details': 1161, 'moan': 2345, 'broken': 756, 'cum': 1073, 'infront': 1873, 'wise': 3858, '9t': 378, 'tension': 3467, '8th': 368, 'thinking': 3502, 'sec': 3061, 'taste': 3431, 'fb': 1429, 'activate': 406, 'terms': 3469, 'conditions': 991, 'visit': 3739, '07781482378': 19, 'depends': 1153, 'boye': 732, 'dry': 1267, 'trade': 3591, 'meh': 2283, 'nope': 2488, 'monday': 2366, 'rec': 2869, 'center': 864, '7ish': 310, 'fighting': 1446, 'lose': 2150, 'fightng': 1447, 'some1': 3238, 'dificult': 1185, 'fish': 1468, 'water': 3797, '123': 129, '1450': 138, '09050002311': 76, 'b4280703': 587, '08718727868': 68, 'bored': 711, 'outside': 2567, 'hyde': 1818, 'park': 2595, 'village': 3732, 'near': 2445, 'anthony': 498, 'bringing': 748, 'fees': 1437, 'rent': 2917, 'opinion': 2548, 'jada': 1924, 'kusruthi': 2025, 'silent': 3163, 'spl': 3282, 'character': 876, 'matured': 2258, 'stylish': 3351, 'simple': 3167, 'scrounge': 3053, 'prabha': 2735, 'soryda': 3257, 'realy': 2864, 'frm': 1535, 'sory': 3256, 'forgiven': 1505, 'jst': 1965, 'tat': 3432, '40gb': 242, 'ipod': 1902, 'mp3': 2390, '83355': 333, 'ibhltd': 1822, 'ldnw15h': 2060, 'mtmsgrcvd18': 2407, 'mono': 2369, 'cha': 867, 'slide': 3203, 'renewal': 2916, 'pin': 2658, 'transport': 3600, 'bday': 623, 'definite': 1138, 'nos': 2494, 'booking': 707, 'fri': 1529, 'children': 905, 'behave': 638, 'ebay': 1292, 'pickle': 2648, 'tacos': 3416, 'rude': 2992, 'campus': 818, '02': 4, '09': 74, 'attempt': 559, '0871': 52, '872': 352, 'box95qu': 729, 'mas': 2247, '150': 140, '85023': 340, 'savamob': 3028, 'member': 2288, 'offers': 2522, '08717898035': 64, '00': 0, 'sub': 3352, 'unsub': 3674, 'pretty': 2754, 'lady': 2033, 'single': 3173, '24hrs': 174, 'channel': 875, 'pg': 2633, '2003': 163, '800': 313, 'redeemed': 2887, '08718738001': 71, '04': 9, 'hoping': 1779, 'l8r': 2027, 'malaria': 2229, 'passionate': 2603, 'kiss': 2012, 'sea': 3056, 'probably': 2770, 'fat': 1420, 'fingers': 1463, 'ummmmmaah': 3653, 'returns': 2948, 'tirupur': 3536, '50p': 268, 'web': 3807, 'age16': 442, '2stop': 203, 'quote': 2823, 'develop': 1164, 'ability': 383, 'listen': 2114, 'losing': 2152, 'self': 3075, 'confidence': 992, 'married': 2245, 'recovery': 2885, 'hotel': 1787, 'cali': 797, 'english': 1323, 'bloke': 689, 'omw': 2537, 'btw': 766, 'cutting': 1087, 'cock': 951, 'reminding': 2912, 'owns': 2572, 'hurry': 1811, 'generally': 1587, 'faggy': 1399, 'demand': 1150, 'blood': 691, 'fo': 1489, 'warm': 3787, 'milk': 2310, 'loose': 2148, 'cheap': 887, 'likely': 2099, 'essential': 1344, 'online': 2541, 'pics': 2649, 'aiyo': 460, 'mei': 2284, 'fast': 1417, 'workin': 3889, 'gee': 1583, 'geeeee': 1585, 'barely': 603, 'fuck': 1542, '2mrw': 198, 'american': 478, 'callin': 810, 'oooh': 2543, 'ey': 1391, 'gym': 1678, 'smiles': 3216, 'daddy': 1092, 'scream': 3049, 'dick': 1172, 'yar': 3933, 'mum': 2410, 'sch': 3037, 'clean': 929, 'lab': 2030, 'door': 1232, 'call09050000327': 800, 'claims': 923, 'marriage': 2244, 'snake': 3226, 'dancing': 1098, 'bite': 676, 'izzit': 1921, 'wife': 3843, 'kids': 2003, 'headache': 1720, 'quit': 2820, 'jazz': 1936, 'yogasana': 3953, 'em': 1310, 'hardly': 1709, 'spree': 3290, '80878': 322, '08715705022': 62, '1x150p': 159, 'pound': 2727, '08712402050': 57, 'lines': 2106, '10ppm': 121, 'ag': 440, 'promo': 2783, '24': 173, 'grand': 1652, 'announcement': 489, '542': 273, '0825': 37, 'exhausted': 1375, 'train': 3593, 'pie': 2652, 'present': 2752, 'ar': 522, 'tsunamis': 3622, 'stopped': 3327, 'swimming': 3406, 'indian': 1863, 'noon': 2487, '2morow': 195, '28': 182, 'soiree': 3234, 'nichols': 2471, 'paris': 2594, 'ladies': 2032, 'neva': 2463, 'imma': 1843, 'somethin': 3240, '22': 171, 'euro2004': 1347, 'results': 2943, 'daily': 1094, '83222': 332, 'valentine': 3709, 'game': 1562, 'answers': 497, 'ques': 2813, 'suits': 3369, 'future': 1555, 'uncles': 3658, 'shock': 3130, 'shuhui': 3150, 'leona': 2075, 'reaction': 2853, 'family': 1408, 'happiness': 1705, 'snow': 3228, 'weather': 3806, 'grow': 1664, 'alex': 467, 'pub': 2798, 'bud': 768, 'drinks': 1253, 'useful': 3699, 'officially': 2525, 'paid': 2580, 'market': 2243, 'pop': 2711, 'longer': 2142, 'darren': 1104, 'textbuddy': 3478, 'area': 525, '25p': 178, 'postcode': 2720, 'gaytextbuddy': 1579, '89693': 364, 'vodafone': 3744, '4882': 253, 'matches': 2251, '09064019014': 98, 'forwarded': 1514, 'seven': 3103, 'voucher': 3751, 'holder': 1763, 'weeks': 3818, 'pc': 2614, 'tlp': 3544, 'expressoffer': 1389, 'ts': 3618, '80062': 314, 'sweetheart': 3403, 'biola': 666, 'login': 2135, 'dad': 1091, 'thanksgiving': 3489, 'sound': 3259, 'effects': 1301, 'wee': 3812, 'thursday': 3521, 'taken': 3418, 'trains': 3595, 'ham': 1690, 'jolly': 1960, 'cartoon': 844, 'listening': 2115, 'temple': 3464, 'church': 917, '40533': 241, '31': 217, 'email': 1311, 'rstm': 2989, 'sw7': 3398, '3ss': 237, 'gentle': 1590, 'starting': 3305, 'panic': 2586, 'tuesday': 3626, 'town': 3589, 'bet': 652, 'hella': 1734, 'drugs': 1264, 'drug': 1263, 'dealer': 1117, 'impatient': 1846, 'sun': 3374, 'earth': 1281, 'river': 2968, 'evng': 1358, 'premium': 2746, 'lays': 2055, 'envelope': 1333, 'paper': 2588, 'fetch': 1442, 'prepare': 2748, 'en': 1313, 'ho': 1759, 'belly': 643, 'laugh': 2050, 'posts': 2722, 'saying': 3033, 'peace': 2615, 'knw': 2020, 'awake': 578, 'yelling': 3941, 'lonely': 2140, 'hex': 1741, 'explain': 1384, 'xy': 3929, 'sex': 3104, 'bedroom': 632, '89555': 363, 'textoperator': 3482, 'king': 2011, 'building': 774, 'map': 2239, 'cochin': 950, 'accordingly': 397, 'ans': 492, 'torch': 3579, 'bold': 701, 'farm': 1416, '4d': 255, 'law': 2054, 'purchase': 2801, 'poop': 2709, 'looks': 2147, 'gpu': 1647, 'gap': 1567, 'weird': 3821, 'idea': 1829, 'away': 581, 'drivin': 1256, 'fantastic': 1413, 'height': 1730, 'aeronautics': 431, 'professors': 2776, 'wer': 3828, 'calld': 804, 'sit': 3179, 'aeroplane': 432, 'aftr': 439, 'ws': 3910, 'students': 3345, 'dey': 1166, 'hurried': 1810, 'datz': 1110, 'timing': 3533, '7pm': 311, 'stress': 3339, 'dorm': 1234, 'sell': 3077, '1250': 130, '09071512433': 110, 'b4': 585, '050703': 11, 'csbcm4235wc1n3xx': 1067, 'callcost': 803, 'mobilesvary': 2350, 'max': 2260, 'upset': 3683, 'assume': 553, 'cookies': 1021, 'running': 2999, 'admit': 422, 'mad': 2211, 'correction': 1028, 'wants': 3785, 'ba': 588, 'exactly': 1364, 'low': 2176, 'spring': 3291, 'yay': 3935, 'twice': 3633, 'opportunity': 2550, 'add': 414, 'nokia6650': 2484, 'txtauction': 3636, '81151': 324, '4t': 260, 'ctxt': 1069, 'mtmsg': 2405, 'mayb': 2263, 'rite': 2967, 'faster': 1418, 'gals': 1561, 'attached': 558, 'glad': 1616, 'shouted': 3144, 'shorter': 3140, 'eyes': 1393, '930': 372, 'subscribed': 3357, 'helpline': 1739, '08706091795': 48, 'spoken': 3286, 'gist': 1611, 'realize': 2861, '40': 239, 'thousands': 3511, 'premier': 2745, 'gimme': 1606, 'lip': 2112, 'library': 2085, 'confused': 997, 'holla': 1766, 'spare': 3267, 'faith': 1403, 'makes': 2226, 'possible': 2717, 'acting': 404, 'mt': 2401, 'yest': 3946, 'wishing': 3862, 'city': 921, 'summer': 3372, 'store': 3330, '88039': 355, 'skilgme': 3188, 'tscs087147403231winawk': 3621, '50perwksub': 269, 'goin': 1626, 'meetin': 2279, 'wonder': 3881, 'tis': 3537, 'schools': 3040, 'closed': 940, 'apparently': 510, 'drive': 1254, 'inch': 1852, 'damn': 1095, 'wats': 3800, 'space': 3265, 'picking': 2647, 'smokes': 3220, 'begging': 636, 'lovely': 2168, 'sing': 3171, 'slave': 3195, '0578': 12, 'opening': 2546, 'couldn': 1034, 'diff': 1180, 'living': 2122, 'perfect': 2624, 'community': 976, 'polyphonic': 2705, 'subpoly': 3353, '81618': 326, 'pole': 2699, '08718727870': 69, 'enjoyed': 1325, 'bein': 639, 'thot': 3508, 'jan': 1927, 'omg': 2536, 'dictionary': 1173, 'pieces': 2654, 'petey': 2631, 'nic': 2469, 'pobox84': 2692, 'm263uz': 2201, 'appt': 519, 'no1': 2479, '8077': 321, 'mates': 2253, 'getzed': 1600, '36504': 225, 'w45wq': 3760, 'norm150p': 2490, 'cashto': 847, '08000407165': 25, 'getstop': 1597, '88222': 358, 'php': 2643, '3d': 229, 'imp': 1845, 'ain': 452, 'bec': 628, 'ugh': 3647, 'nervous': 2457, 'gift': 1604, 'hint': 1748, 'borrow': 715, 'bag': 594, 'bid': 657, 'ones': 2538, 'model': 2355, 'galileo': 1560, 'dobby': 1214, 'responding': 2937, 'boo': 704, 'enjoyin': 1326, 'gettin': 1598, 'hunny': 1809, '2u': 205, 'loveme': 2169, 'xxxx': 3927, 'ache': 400, 'cappuccino': 827, 'teasing': 3450, 'comuk': 987, '3qxj9': 235, 'extra': 1390, '08702840625': 47, '220': 172, 'cm2': 946, '9ae': 374, 'alfie': 468, 'moon': 2374, 'm8s': 2204, 'charity': 880, '8007': 315, 'nokias': 2485, 'polys': 2706, 'zed': 3963, '08701417012': 44, 'profit': 2777, 'hahaha': 1683, 'brain': 737, 'green': 1658, 'mojibiola': 2359, '09065174042': 100, 'cust': 1079, '07821230901': 21, 'mate': 2252, 'hol': 1761, 'ages': 444, 'skyped': 3193, 'kz': 2026, 'sura': 3389, 'given': 1613, 'ultimatum': 3651, 'countin': 1036, 'aburo': 390, 'surely': 3391, 'successful': 3361, '08002888812': 31, 'inconsiderate': 1858, 'nag': 2422, 'recession': 2879, 'wed': 3809, 'soo': 3246, 'understand': 3659, '2morrow': 197, 'mother': 2381, '09066350750': 102, 'ibiza': 1823, 'await': 576, 'collection': 960, 'sk3': 3186, '8wp': 369, 'ppm': 2734, 'suite': 3367, 'xavier': 3920, 'seconds': 3063, 'warning': 3789, 'playing': 2677, 'stomach': 3323, 'matter': 2257, 'shoes': 3132, 'wan': 3778, 'version': 3724, 'poor': 2710, 'careful': 836, 'spk': 3281, 'sn': 3225, 'lovejen': 2167, 'returned': 2947, 'fall': 1405, 'worlds': 3893, 'discreet': 1200, 'vip': 3736, 'hai': 1684, 'named': 2429, 'tampa': 3426, 'genius': 1588, 'connections': 1003, 'sort': 3253, 'lotta': 2158, 'lately': 2046, 'yrs': 3957, 'supply': 3384, 'cds': 859, 'virgin': 3737, 'records': 2884, 'mystery': 2419, 'smsco': 3223, 'approx': 517, 'consider': 1004, 'walls': 3776, 'peaceful': 2616, '41685': 243, '07': 14, 'birds': 668, 'user': 3700, 'asap': 542, 'saved': 3030, 'drop': 1259, 'cuddle': 1071, 'nap': 2432, 'shesil': 3119, '10k': 119, '5k': 275, 'travel': 3602, '09064011000': 96, 'ntt': 2502, 'cr01327bt': 1045, 'fixedline': 1472, 'castor': 848, 'liverpool': 2120, 'played': 2674, 'mid': 2304, '09058094565': 81, '09065171142': 99, 'stopsms': 3329, '08': 23, 'reminder': 2911, 'downloaded': 1240, 'knew': 2016, 'lead': 2062, 'wanting': 3784, 'midnight': 2306, 'ear': 1277, 'training': 3594, 'oil': 2529, 'sup': 3379, 'mac': 2208, 'usb': 3695, 'gibbs': 1603, 'unsold': 3673, 'failed': 1400, 'sad': 3006, 'unbelievable': 3655, 'murder': 2413, 'superb': 3381, 'outstanding': 2568, 'teach': 3442, 'derek': 1155, 'taylor': 3435, 'worst': 3898, 'charles': 881, 'plus': 2684, 'greet': 1659, 'white': 3835, 'stores': 3331, 'january': 1929, 'male': 2230, 'sale': 3013, 'gay': 1578, 'cheaper': 888, '08709222922': 51, '5p': 277, '8p': 366, 'peak': 2617, '08712460324': 60, 'ym': 3950, 'pissed': 2661, 'sweets': 3405, 'pig': 2655, 'chip': 910, 'iam': 1819, 'addicted': 417, 'msging': 2397, 'wrong': 3908, 'photo': 2641, 'registered': 2897, 'yck': 3936, 'ma': 2206, 'ashley': 543, 'attend': 560, 'diet': 1179, 'ate': 554, '88600': 359, 'term': 3468, 'mo': 2344, 'moments': 2363, 'lux': 2193, 'sk38xh': 3187, 'wear': 3804, 'jeans': 1939, 'fever': 1443, 'tons': 3572, 'places': 2666, 'medical': 2275, 'recently': 2878, 'scores': 3044, 'application': 512, 'expensive': 1380, 'photos': 2642, '114': 124, '14': 136, 'tcr': 3439, 'w1': 3755, 'ms': 2394, 'truth': 3615, 'gravity': 1655, 'carefully': 837, 'feels': 1436, 'heavy': 1728, 'bowl': 722, 'filthy': 1458, 'brand': 738, 'decision': 1129, 'simpler': 3168, 'magical': 2215, 'welp': 3825, '09050001808': 75, 'm95': 2205, 'valid12hrs': 3712, 'site': 3180, 'necklace': 2450, '15': 139, 'racing': 2825, 'earlier': 1278, 'chicken': 901, 'rice': 2957, 'closes': 942, 'ad': 412, 'crap': 1049, 'borin': 712, 'boring': 713, 'nxt': 2511, 'salary': 3012, 'chocolate': 911, 'potential': 2724, 'talent': 3422, 'reckon': 2881, '3g': 230, 'videophones': 3729, '09063458130': 95, 'videochat': 3728, 'java': 1933, 'dload': 1212, 'polyph': 2704, 'noline': 2486, 'rentl': 2919, 'fuckin': 1544, 'dropped': 1260, 'loving': 2174, 'yun': 3959, '65': 289, 'tech': 3451, 'sd': 3054, 'butt': 784, 'sore': 3250, 'party': 2600, 'miracle': 2323, 'jesus': 1944, 'blessed': 685, 'quiet': 2819, 'aunts': 566, 'helen': 1732, 'heard': 1725, 'contract': 1015, 'kerala': 1992, 'terrible': 3470, 'fan': 1409, 'lovers': 2172, 'regret': 2898, 'drove': 1261, 'exe': 1371, 'anniversary': 488, 'prey': 2757, 'pen': 2619, 'secretly': 3066, 'fancies': 1410, 'datebox1282essexcm61xn': 1107, 'pattern': 2607, 'throat': 3515, 'plm': 2682, 'asleep': 550, 'foreign': 1500, 'stamps': 3296, 'lecture': 2068, 'sheffield': 3117, 'raise': 2832, 'zoe': 3964, 'setting': 3099, 'filling': 1454, 'loverboy': 2171, 'sufficient': 3364, 'thx': 3522, 'nyt': 2515, 'edison': 1295, 'rightly': 2961, 'fool': 1496, 'speechless': 3273, 'viva': 3740, 'gm': 1617, 'gn': 1618, 'gnt': 1619, 'roast': 2971, 'ls15hb': 2182, 'concentrate': 988, 'educational': 1297, 'flirting': 1483, 'chatting': 886, 'walked': 3773, 'kickoff': 1999, 'euro': 1346, 'june': 1971, '3rd': 236, 'sells': 3079, 'thesis': 3496, 'hiya': 1752, 'april': 520, 'drunk': 1265, 'sends': 3086, 'deciding': 1127, 'eastenders': 1285, 'flower': 1485, 'compare': 979, 'violet': 3735, 'tulip': 3628, 'lily': 2102, '84025': 336, 'wkent': 3868, '150p16': 143, 'technical': 3452, 'support': 3385, 'process': 2774, 'networking': 2461, 'prepared': 2749, 'works': 3891, 'bitch': 675, '09058091854': 80, 'revealed': 2950, 'box385': 727, 'm6': 2202, '6wu': 301, 'bathing': 611, '09050003091': 77, 'c52': 791, 'xchat': 3921, 'juicy': 1969, 'oi': 2527, 'na': 2421, 'movies': 2387, 'convey': 1017, 'regards': 2895, 'vijay': 3730, 'pic': 2644, 'dearer': 1121, 'dem': 1149, 'thoughts': 3510, 'breath': 743, 'fight': 1445, 'craziest': 1052, 'planet': 2669, 'singing': 3172, 'curry': 1078, 'clock': 937, 'evn': 1357, 'itz': 1918, 'alwys': 476, 'hands': 1695, 'sipix': 3175, 'digital': 1186, '09061221061': 87, '28days': 183, 'box177': 724, 'm221bp': 2198, '2yr': 209, 'warranty': 3790, '99': 373, '09061790121': 94, 'doctor': 1217, 'tomorro': 3563, 'subscriber': 3358, 'receipt': 2871, 'fret': 1528, 'ne': 2444, 'interesting': 1889, 'uni': 3664, 'depressed': 1154, 'wind': 3849, 'black': 679, 'aiyah': 458, 'information': 1871, 'o2': 2516, 'urawinner': 3687, 'surprise': 3393, 'awaiting': 577, 'italian': 1914, 'grins': 1661, 'math': 2254, 'dhoni': 1168, 'rocks': 2973, 'ground': 1662, 'durban': 1275, 'speed': 3274, 'cancel': 822, '08000776320': 26, 'aiyar': 459, 'survey': 3395, 'catching': 851, 'gal': 1559, 'falls': 1407, 'whos': 3837, 'difficulties': 1184, 'howz': 1795, 'sar': 3018, 'wearing': 3805, 'film': 1456, 'luck': 2186, 'raining': 2831, 'station': 3309, 'tank': 3427, 'cute': 1085, 'adult': 426, 'silently': 3164, 'drms': 1258, 'wrc': 3904, 'rally': 2836, 'oz': 2573, 'lucozade': 2188, 'energy': 1319, 'le': 2061, '61200': 285, 'packs': 2577, 'itcould': 1915, 'horrible': 1782, 'toot': 3576, 'bigger': 660, 'nw': 2510, 'islands': 1909, 'chennai': 898, 'annoying': 490, 'makin': 2227, 'shame': 3110, 'popcorn': 2712, 'jordan': 1962, 'celeb': 860, 'pocketbabe': 2693, 'voicemail': 3747, '2go': 190, 'neft': 2455, 'credited': 1057, 'beneficiary': 648, 'tuition': 3627, 'understanding': 3660, 'choice': 912, 'enter': 1327, 'subs16': 3355, '1win150ppmx3': 157, 'appreciated': 516, 'apart': 505, 'delivered': 1146, 'strong': 3342, 'arms': 533, 'walmart': 3777, 'mite': 2332, 'creepy': 1060, '08719181513': 73, 'complete': 982, 'score': 3043, 'easier': 1282, 'nok': 2481, '87021': 347, 'txtin': 3637, '4info': 258, 'apps': 518, 'rofl': 2974, 'invest': 1894, 'anti': 499, '1hr': 155, 'delay': 1141, 'various': 3716, 'ph': 2634, '84128': 337, 'textcomp': 3479, '08712405020': 58, 'purse': 2804, 'morn': 2377, 'europe': 1349, 'chinese': 909, 'docs': 1216, 'songs': 3243, 'havin': 1716, 'hun': 1807, '2nite': 200, 'rang': 2841, 'sorted': 3254, 'mon': 2365, 'flip': 1481, 'cbe': 855, 'honey': 1772, 'jd': 1937, 'accounts': 399, 'executive': 1372, 'picked': 2646, 'weirdest': 3822, 'john': 1952, 'l8tr': 2028, 'exact': 1363, '2moro': 194, 'jane': 1928, 'minmoremobsemspobox45po139wa': 2316, 'tee': 3453, 'cell': 863, 'thts': 3519, 'dough': 1238, 'control': 1016, '80488': 319, 'mode': 2354, 'jerry': 1942, 'irritates': 1904, 'fails': 1401, 'express': 1387, 'drinkin': 1251, 'wondering': 3883, 'dog': 1221, 'tour': 3588, '5pm': 278, 'birthdate': 671, 'dreams': 1246, 'nydc': 2514, 'favour': 1427, 'ola': 2534, 'garbage': 1570, 'items': 1916, 'fran': 1516, 'broke': 755, 'knackered': 2015, 'software': 3233, 'jamster': 1926, 'gold': 1628, 'logos': 2137, 'lions': 2111, 'lionm': 2109, 'lionp': 2110, 'ringtones': 2966, 'original': 2563, '3gbp': 231, 'jokin': 1958, 'bb': 615, 'alrite': 475, 'idiot': 1834, 'colours': 964, 'whenevr': 3834, 'remembr': 2909, 'harry': 1710, 'potter': 2725, 'phoenix': 2637, 'readers': 2855, 'shd': 3115, 'february': 1432, 'rush': 3001, 'canada': 819, 'cares': 838, 'goodnoon': 1637, 'patty': 2608, 'vl': 3742, 'chill': 906, '6hrs': 297, 'frens': 1527, 'chillin': 907, 'super': 3380, 'free2day': 1520, 'george': 1594, '89080': 361, 'saucy': 3027, '0870241182716': 46, 'theres': 3495, 'tmrw': 3547, 'soul': 3258, 'ned': 2451, 'tht': 3518, 'hurting': 1813, 'main': 2222, 'sweetie': 3404, 'blackberry': 680, '4a': 254, 'pple': 2733, 'marry': 2246, 'problems': 2772, 'chain': 868, 'whn': 3836, 'arrested': 536, 'suntec': 3378, 'dance': 1097, 'moji': 2358, 'messenger': 2301, 'reaching': 2852, 'fantasies': 1412, '08707509020': 49, '20p': 167, '1327': 135, 'croydon': 1064, 'cr9': 1046, '5wb': 280, '0870': 42, 'bar': 602, 'write': 3905, 'cover': 1042, 'screen': 3052, 'gently': 1592, 'bears': 625, 'tom': 3559, 'fact': 1398, 'upload': 3682, '08718730666': 70, 'juan': 1968, 'linerental': 2105, 'lf56': 2082, 'tlk': 3543, 'ideal': 1830, 'walking': 3774, 'arm': 531, 'shot': 3142, 'tirunelvali': 3535, 'storming': 3332, 'phne': 2636, 'wt': 3911, 'meaning': 2270, 'margaret': 2241, 'girlfrnd': 1609, 'grahmbell': 1650, 'invnted': 1898, 'telphone': 3461, 'moral': 2375, '4get': 257, 'popped': 2713, 'players': 2676, 'effect': 1300, 'bk': 678, 'cafe': 793, 'kidding': 2002, 'shld': 3129, 'stretch': 3340, 'sinco': 3170, 'payee': 2610, 'icicibank': 1827, 'urn': 3693, 'beware': 654, 'frauds': 1517, 'share': 3112, 'disclose': 1197, 'vote': 3750, 'caring': 839, 'kaiez': 1977, 'option': 2552, 'practicing': 2738, 'babies': 591, 'beneath': 647, 'pale': 2584, 'goodnite': 1636, 'msgrcvdhg': 2398, 'tells': 3459, 'totally': 3584, 'rem': 2904, 'silver': 3165, 'lmao': 2125, 'silence': 3162, 'exams': 1366, 'revision': 2953, 'exeter': 1373, 'arsenal': 538, 'condition': 990, 'painful': 2582, 'everybody': 1355, 'missin': 2328, 'guilty': 1673, 'aiya': 457, 'cardiff': 831, 'addie': 418, 'tues': 3625, 'bright': 745, 'restaurant': 2941, 'textpod': 3483, 'pod': 2694, 'desperate': 1159, 'monkeys': 2368, 'certainly': 866, 'practical': 2736, 'optout': 2553, 'mails': 2221, 'claire': 924, 'bought': 720, 'costing': 1032, 'ke': 1986, 'program': 2778, 'aah': 380, '09066362231': 104, '07xxxxxxxxx': 22, '06': 13, 'ny': 2512, 'hubby': 1802, 'minmobsmorelkpobox177hp51fl': 2315, 'wonders': 3884, '7th': 312, '6th': 300, '5th': 279, '4th': 261, 'personality': 2628, 'nature': 2440, 'blake': 681, 'lotr': 2156, 'keeping': 1987, 'google': 1639, 'modules': 2357, 'purity': 2802, 'musthu': 2417, 'vomit': 3748, 'aint': 453, 'sha': 3107, 'centre': 865, 'total': 3583, 'stars': 3302, 'karaoke': 1981, 'testing': 3475, 'loved': 2166, 'nit': 2476, 'file': 1451, 'format': 1509, 'hows': 1794, 'arrive': 537, 'shortly': 3141, 'sarcasm': 3020, 'forum': 1511, 'ron': 2978, 'aunt': 565, 'screaming': 3051, 'unfortunately': 3663, 'airport': 455, '7250i': 304, 'auction': 561, '86021': 343, 'w1jhl': 3759, 'difficult': 1183, 'konw': 2021, 'waht': 3764, 'rael': 2828, 'gving': 1677, 'yuo': 3961, 'exmpel': 1376, 'jsut': 1967, 'ese': 1341, 'tihs': 3528, 'evrey': 1360, 'splleing': 3283, 'wrnog': 3907, 'sitll': 3181, 'raed': 2827, 'wihtuot': 3845, 'ayn': 584, 'mitsake': 2333, 'ow': 2571, 'joining': 1955, 'finance': 1461, 'prospects': 2790, 'filled': 1453, 'jia': 1945, 'bishan': 673, 'sux': 3396, 'buff': 770, 'south': 3263, 'preferably': 2743, 'kegger': 1989, 'costs': 1033, 'gas': 1574, 'gang': 1566, 'adventure': 428, 'pack': 2575, 'tablets': 3415, 'excellent': 1367, 'finishing': 1467, 'doors': 1233, 'wifi': 3844, 'rumour': 2997, '7250': 303, 'idk': 1835, 'boyfriend': 733, 'driver': 1255, 'brothas': 758, 'chasing': 884, 'kicks': 2000, 'falling': 1406, 'force': 1499, 'smeone': 3214, 'propose': 2788, 'blame': 682, 'gods': 1624, 'blessings': 687, 'dippeditinadew': 1192, 'lovingly': 2175, 'itwhichturnedinto': 1917, 'gifted': 1605, 'tomeandsaid': 3561, 'instead': 1883, 'freezing': 1525, 'ringtoneking': 2965, 'batch': 608, 'flaky': 1475, 'sooooo': 3249, 'laughing': 2052, 'winning': 3854, 'tooo': 3575, '09058094599': 83, 'confuses': 998, 'wating': 3799, 'british': 751, 'hotels': 1788, 'london': 2139, 'sw73ss': 3399, '6pm': 299, 'buzz': 788, 'adoring': 424, 'eerie': 1299, 'title': 3539, 'dracula': 1243, 'titles': 3540, 'ghost': 1602, 'addamsfa': 415, 'munsters': 2412, 'exorcist': 1377, 'twilight': 3634, 'brought': 760, 'constant': 1007, 'cared': 833, 'wasn': 3791, 'surprised': 3394, 'allow': 472, 'comedy': 969, 'feelin': 1434, 'moby': 2353, '82242': 328, 'msg150p': 2396, '2rcv': 202, 'hlp': 1754, '08712317606': 55, 'switch': 3408, 'fly': 1487, 'event': 1354, 'lei': 2073, 'action': 405, '80608': 320, 'movietrivia': 2388, '08712405022': 59, 'waking': 3770, 'partnership': 2599, 'lookin': 2145, 'inside': 1880, 'mornin': 2378, 'monthly': 2371, 'ideas': 1831, 'sight': 3159, 'remain': 2905, 'maintain': 2223, 'sh': 3106, 'jas': 1931, 'cramps': 1048, 'received': 2875, 'nan': 2431, 'poker': 2698, 'ran': 2837, 'ordered': 2559, '81303': 325, 'father': 1421, 'messy': 2302, 'rd': 2849, 'traffic': 3592, 'moves': 2385, 'slip': 3205, 'wkg': 3869, 'nus': 2508, 'likes': 2100, 'dislikes': 1203, 'keeps': 1988, 'queen': 2812, 'fren': 1526, 'promises': 2782, 'gotten': 1645, 'unknown': 3668, 'album': 464, '121': 128, '60p': 284, 'connect': 1001, '09094646899': 111, 'vu': 3754, 'bcm1896wc1n3xx': 619, 'boys': 734, '2007': 166, 'pre': 2741, 'hook': 1774, 'standing': 3299, 'bin': 665, 'rents': 2920, '48': 252, 'james': 1925, 'maangalyam': 2207, 'alaipayuthe': 463, 'chosen': 914, 'easter': 1286, 'telephone': 3456, '29': 184, '05': 10, 'di': 1169, 'bahamas': 596, 'callfreefone': 809, '08081560665': 36, 'cruise': 1065, '07786200117': 20, 'calm': 813, 'up4': 3677, 'social': 3230, 'slowly': 3209, 'habit': 1680, 'follow': 1491, 'schedule': 3038, 'stuck': 3343, 'hw': 1817, 'contacts': 1011, 'forgets': 1504, 'mandan': 2237, '07734396839': 16, 'ibh': 1821, 'nokia6600': 2483, 'regarding': 2894, 'selling': 3078, 'buns': 776, 'adore': 423, 'invaders': 1893, 'orig': 2562, 'arcade': 523, 'console': 1006, 'settings': 3100, 'alert': 466, 'atlanta': 555, 'recharge': 2880, 'created': 1055, 'fills': 1455, 'gaps': 1568, 'holding': 1764, 'arun': 541, 'transfr': 3599, 'takin': 3420, 'philosophy': 2635, 'foley': 1490, 'exciting': 1368, 'prizes': 2768, 'eye': 1392, '82050': 327, 'desparate': 1158, 'fake': 1404, 'answering': 496, '3100': 218, 'beer': 633, 'combine': 967, 'jess': 1943, 'sian': 3154, 'dirty': 1195, 'package': 2576, 'g696ga': 1557, 'husband': 1815, 'norm': 2489, 'list': 2113, 'joanna': 1948, 'replacement': 2924, 'telly': 3460, 'upto': 3685, '12mths': 133, 'mth': 2403, 'tooth': 3577, '08001950382': 30, 'wipro': 3856, 'toa': 3551, 'payoh': 2613, 'hate': 1712, 'delete': 1142, 'wednesday': 3811, 'skype': 3192, 'laundry': 2053, 'underwear': 3662, 'waheed': 3763, 'fathima': 1422, 'mmmm': 2339, 'pushes': 2806, 'thnk': 3506, 'nearly': 2446, 'masters': 2249, 'avoiding': 575, 'excuse': 1369, '0776xxxxxxx': 18, '18yrs': 153, 'abta': 389, '326': 220, 'season': 3059, 'uh': 3648, 'heads': 1723, 'vday': 3719, '80182': 318, '08452810073': 40, 'table': 3414, 'build': 773, 'snowman': 3229, 'fights': 1448, 'ikea': 1837, 'cn': 947, 'prescription': 2751, 'cook': 1019, 'electricity': 1309, 'kadeem': 1976, 'fujitsu': 1546, 'scold': 3042, 'se': 3055, 'wud': 3913, '09066358152': 103, 'prompts': 2784, 'carry': 842, 'disturbing': 1208, 'avatar': 571, 'stops': 3328, 'cleaning': 930, 'constantly': 1008, 'flies': 1478, 'costa': 1031, 'sol': 3235, '09050090044': 78, 'toclaim': 3552, 'pobox334': 2689, 'stockport': 3322, 'max10mins': 2261, 'lousy': 2162, 'cat': 849, 'woken': 3877, 'hip': 1749, 'aka': 461, 'ic': 1825, 'honeybee': 1773, 'sweetest': 3402, 'laughed': 2051, 'havnt': 1718, 'crack': 1047, 'nvm': 2509, 'delhi': 1144, 'thinkin': 3501, 'held': 1731, '87239': 353, 'boat': 699, 'moms': 2364, 'fringe': 1534, 'distract': 1206, 'proof': 2785, '61610': 286, '08712400602450p': 56, 'provided': 2794, 'tones2you': 3568, 'yeh': 3940, 'downloads': 1241, 'members': 2289, 'major': 2224, 'mel': 2285, 'birth': 670, 'responsibility': 2939, 'rule': 2995, 'freefone': 1522, '08006344447': 34, 'natural': 2439, 'onwards': 2542, 'tscs': 3620, 'skillgame': 3189, '1winaweek': 158, '150ppermesssubscription': 145, 'theatre': 3492, 'obviously': 2518, 'eggs': 1303, 'lie': 2089, 'kid': 2001, 'boost': 709, 'sitting': 3182, 'infernal': 1868, 'affair': 433, 'including': 1856, 'calicut': 798, 'parco': 2592, 'nb': 2442, 'ahmad': 450, 'hallaq': 1688, 'box97n7qp': 730, 'pink': 2659, 'lyk': 2197, 'bck': 618, 'giv': 1612, 'color': 962, 'gender': 1586, 'sleepwell': 3199, 'normally': 2492, 'mca': 2266, 'rich': 2958, 'm8': 2203, 'official': 2524, 'flag': 1473, 'yer': 3944, '84199': 338, 'eng': 1320, 'box39822': 728, 'w111wx': 3756, 'yor': 3954, 'jason': 1932, 'subs': 3354, 'art': 539, 'inclusive': 1857, 'armand': 532, 'vomiting': 3749, 'rub': 2991, 'feet': 1438, 'clever': 935, 'med': 2274, 'stamped': 3295, '113': 123, 'bray': 740, 'wicklow': 3839, 'eire': 1306, 'ryan': 3002, 'vikky': 3731, 'idew': 1833, 'argh': 528, 'looked': 2144, 'xam': 3919, 'manage': 2233, 'shitload': 3128, 'diamonds': 1171, 'tessy': 3473, 'favor': 1426, 'nimya': 2475, 'shijas': 3120, 'aunty': 567, 'china': 908, 'mcat': 2267, '27': 181, 'sacrifice': 3005, 'beg': 635, 'expecting': 1379, 'morphine': 2380, 'stayin': 3313, 'satisfy': 3025, 'pix': 2662, '30': 210, 'cld': 928, 'prefer': 2742, 'kindly': 2010, 'miles': 2309, 'killed': 2005, 'colleagues': 956, 'sed': 3068, 'mood': 2373, 'minuts': 2322, 'latr': 2049, 'kidz': 2004, 'sofa': 3231, 'smashed': 3213, 'ps': 2795, 'tok': 3556, 'specific': 3272, 'ntwk': 2503, 'pages': 2579, 'figures': 1450, 'pending': 2621, 'cousin': 1041, 'frndship': 1538, 'excuses': 1370, 'raji': 2834, 'legs': 2071, 'neck': 2449, 'continue': 1014, 'holy': 1768, 'billion': 663, 'classes': 927, 'distance': 1205, 'youre': 3955, 'turning': 3630, 'freak': 1518, 'ref': 2889, 'belive': 641, 'slots': 3207, 'discussed': 1202, 'temp': 3463, 'display': 1204, 'soup': 3261, 'management': 2235, 'include': 1855, 'regular': 2899, 'prem': 2744, '2morro': 196, 'spoiled': 3284, 'threats': 3513, 'sales': 3014, 'complaint': 981, 'lounge': 2161, 'lk': 2123, 'role': 2976, 'lov': 2163, 'comfort': 971, 'checked': 893, '300p': 213, 'u4': 3646, '01223585334': 3, '2c': 185, 'shagged': 3108, '8552': 342, '2end': 187, '88066': 356, '700': 302, 'bedrm': 631, 'unable': 3654, 'waited': 3766, 'wkend': 3867, 'huge': 1804, 'letters': 2081, 'mids': 2307, 'oranges': 2556, 'upd8': 3678, 'annie': 487, 'remind': 2910, '21870000': 169, 'mailbox': 2220, 'messaging': 2300, '09056242159': 79, 'retrieve': 2945, 'hrishi': 1798, 'nothin': 2496, 'poem': 2695, 'cheer': 895, 'tear': 3447, 'duchess': 1270, 'cornwall': 1026, '008704050406': 2, 'bags': 595, 'worse': 3897, 'dan': 1096, 'aww': 583, 'iscoming': 1906, 'staring': 3301, 'cm': 945, 'unnecessarily': 3671, '80082': 316, 'spook': 3287, 'halloween': 1689, '08701417012150p': 45, 'issue': 1912, 'weigh': 3819, 'fantasy': 1414, 'football': 1498, 'sky': 3191, 'gamestar': 1564, 'active': 407, '250k': 177, 'scoring': 3045, '88088': 357, 'expired': 1382, 'opinions': 2549, 'measure': 2273, 'propsd': 2789, 'gv': 1676, 'lv': 2195, 'lttrs': 2185, 'threw': 3514, 'thm': 3505, 'aproach': 521, 'dt': 1268, 'truck': 3610, 'speeding': 3275, 'wn': 3874, 'instantly': 1882, 'thy': 3523, 'lived': 2119, 'happily': 1704, '2gthr': 191, 'drinking': 1252, 'evrydy': 1361, 'paragon': 2591, 'arent': 527, 'bluff': 697, 'impossible': 1848, 'sary': 3022, 'added': 416, 'pussy': 2807, 'responce': 2935, 'happend': 1700, 'piece': 2653, 'wiskey': 3863, 'brandy': 739, 'rum': 2996, 'gin': 1607, 'vodka': 3745, 'scotch': 3046, 'shampain': 3111, 'kudi': 2024, 'yarasu': 3934, 'dhina': 1167, 'vaazhthukkal': 3707, 'kg': 1997, 'sugar': 3365, 'dumb': 1272, 'thangam': 3486, 'okey': 2532, 'dressed': 1248, 'kills': 2007, 'kay': 1984, 'roger': 2975, 'nasty': 2434, 'wasted': 3793, 'christ': 915, 'tears': 3448, 'solve': 3236, 'murdered': 2414, 'police': 2700, 'questioned': 2815, 'cooking': 1022, 'gardener': 1572, 'vegetables': 3721, 'maid': 2218, 'neighbour': 2456, 'murderer': 2415, 'brilliant': 746, 'science': 3041, 'push': 2805, 'answered': 495, 'madam': 2212, 'rgds': 2956, 'settle': 3101, '8pm': 367, 'wrote': 3909, 'indians': 1864, 'budget': 769, 'jobs': 1950, 'lane': 2039, 'citizen': 920, 'rights': 2962, 'random': 2838, 'donno': 1230, 'properly': 2786, '630': 288, 'sry': 3292, 'furniture': 1554, 'lock': 2133, 'key': 1995, 'ru': 2990, '09066612661': 109, 'shoving': 3145, 'papers': 2589, 'greetings': 1660, 'strange': 3336, 'released': 2903, 'acl03530150pm': 401, 'indyarocks': 1867, 'dai': 1093, 'resume': 2944, 'cars': 843, 'bids': 658, 'happens': 1703, 'whr': 3838, 'maga': 2214, 'yunny': 3960, 'er': 1336, '83383': 334, 'mmmmm': 2340, 'medicine': 2276, 'plenty': 2681, 'relatives': 2901, 'deliver': 1145, 'benefits': 649, 'incident': 1854, 'violence': 3734, 'environment': 1334, 'terrific': 3471, 'advice': 429, 'dr': 1242, 'superior': 3382, 'amazing': 477, 'vid': 3726, 'ruin': 2993, 'erm': 1338, 'issues': 1913, 'department': 1152, 'hr': 1797, 'conform': 996, 'instructions': 1885, '3lp': 233, 'bc': 617, 'death': 1123, 'toshiba': 3581, 'wrk': 3906, 'hrs': 1799, 'innocent': 1876, 'mental': 2292, 'hoped': 1777, 'bills': 664, '2marrow': 193, 'hon': 1771, 'reality': 2860, 'treated': 3604, 'fab': 1395, 'wks': 3871, 'tiwary': 3541, 'battle': 613, 'bang': 599, 'cancer': 824, 'pap': 2587, 'arts': 540, 'pandy': 2585, 'usc': 3696, 'edu': 1296, 'secretary': 3065, 'dollar': 1227, 'pull': 2800, 'spending': 3278, 'booty': 710, 'lil': 2101, 'remains': 2906, 'bro': 753, 'bros': 757, '69696': 292, 'response': 2938, 'nalla': 2426, 'pouts': 2730, 'stomps': 3324, 'northampton': 2493, 'abj': 385, 'serving': 3097, 'smith': 3218, 'anna': 486, 'nagar': 2423, 'sports': 3289, 'sept': 3092, 'shirts': 3126, 'petrol': 2632, 'feb': 1431, 'ignore': 1836, 'evr': 1359, 'hugs': 1805, 'snogs': 3227, 'west': 3829, 'uks': 3650, 'fastest': 1419, 'growing': 1665, 'chase': 883, 'tariffs': 3430, '2stoptxt': 204, 'steam': 3317, 'reg': 2893, 'public': 2799, 'govt': 1646, 'instituitions': 1884, 'luxury': 2194, 'canary': 821, 'sleepy': 3200, 'dare': 1099, 'ben': 646, 'mag': 2213, 'middle': 2305, 'diwali': 1211, 'tick': 3524, 'onion': 2540, 'thgt': 3497, 'lower': 2177, 'dark': 1100, 'exhaust': 1374, 'pee': 2618, 'enuff': 1332, 'contents': 1013, 'success': 3360, 'division': 1209, 'creep': 1059, 'lies': 2090, 'property': 2787, 'teeth': 3454, '09058099801': 84, 'b4190604': 586, '7876150ppm': 309, 'bbd': 616, 'pimples': 2657, 'iz': 1920, 'yellow': 3942, 'frog': 1539, '88888': 360, 'doubt': 1237, 'handle': 1694, 'note': 2495, 'japanese': 1930, 'proverb': 2793, 'strike': 3341, 'moved': 2384, 'freedom': 1521, 'seat': 3060, 'porn': 2714, 'painting': 2583, 'nowadays': 2500, 'talks': 3425, 'probs': 2773, 'swatch': 3400, 'ganesh': 1565, 'dress': 1247, 'collecting': 959, 'trips': 3608, 'helloooo': 1736, 'welcomes': 3824, 'celebrate': 861, '54': 272, '2geva': 189, 'wuld': 3914, 'solved': 3237, 'flaked': 1474, 'tm': 3545, 'ing': 1874, 'gary': 1573, 'sake': 3010, 'bruce': 761, 'teaching': 3445, 'chest': 900, 'covers': 1043, 'history': 1750, 'abi': 382, 'hang': 1697, 'bell': 642, 'reboot': 2868, 'pt2': 2796, 'understood': 3661, 'phoned': 2639, 'improved': 1850, 'hm': 1755, 'salon': 3015, 'evenings': 1353, 'raj': 2833, 'payment': 2612, 'shore': 3137, 'clearing': 933, '33': 221, 'changes': 874, 'range': 2842, 'topic': 3578, 'admin': 420, 'visionsms': 3738, 'andros': 483, 'meets': 2281, 'foot': 1497, 'penis': 2622, 'sigh': 3157, 'books': 708, 'eveb': 1351, 'window': 3850, 'hill': 1747, 'removal': 2913, '08708034412': 50, 'prove': 2792, 'blow': 694, 'knowing': 2018, 'thurs': 3520, 'cancelled': 823, 'planned': 2670, 'neway': 2465, 'xxxxx': 3928, 'count': 1035, 'challenge': 869, 'randomly': 2839, 'otside': 2566, 'tape': 3429, 'films': 1457, 'size': 3185, 'wouldn': 3902, '08712101358': 53, 'tight': 3527, 'lick': 2086, 'av': 569, 'everyday': 1356, 'curious': 1075, 'auto': 568, 'postcard': 2719, 'bread': 741, 'mahal': 2217, 'relation': 2900, 'luvs': 2192, 'praying': 2740, 'ding': 1189, 'allowed': 473, 'necessary': 2448, 'watever': 3798, 'shared': 3113, 'hug': 1803, 'lik': 2096, 'asks': 549, 'messaged': 2298, 'deus': 1163, '3510i': 223, 'deliveredtomorrow': 1147, '300': 211, 'tap': 3428, 'spile': 3280, 'broad': 754, 'canal': 820, 'engin': 1321, 'edge': 1294, 'east': 1284, 'howard': 1793, 'cooked': 1020, 'cheat': 889, 'block': 688, '09061221066': 88, 'fromm': 1540, 'smoking': 3221, 'wylie': 3917, 'ruining': 2994, 'meds': 2277, 'in2': 1851, 'easily': 1283, 'selfish': 3076, 'custom': 1081, 'sac': 3003, 'jiayin': 1946, 'pobox45w2tg150p': 2691, 'forgotten': 1507, 'reverse': 2951, 'cheating': 890, 'mathematics': 2255, '2waxsto': 206, 'basic': 605, 'minimum': 2314, 'elaine': 1308, 'drunken': 1266, 'billed': 662, 'mess': 2296, 'crisis': 1062, '____': 379, 'ths': 3517, 'ias': 1820, 'mb': 2265, '600': 282, '400': 240, 'mths': 2404, 'callback': 802, 'desires': 1157, 'wedding': 3810, 'outta': 2569, 'accident': 395, '1030': 117, 'bloomberg': 693, '447797706009': 247, 'careers': 835, 'priscilla': 2764, 'wisdom': 3857, 'inform': 1870, 'kent': 1990, 'vale': 3708, 'cann': 825, 'wan2': 3779, 'westlife': 3830, 'unbreakable': 3656, 'untamed': 3676, 'unkempt': 3667, '83049': 331, 'prince': 2760, 'granite': 1653, 'explosive': 1386, 'nasdaq': 2433, 'symbol': 3412, 'cdgt': 858, 'base': 604, 'placement': 2665, 'sumthin': 3373, 'lion': 2108, 'devouring': 1165, 'airtel': 456, 'processed': 2775, 'prolly': 2780, '69669': 291, 'jaya': 1935, 'forums': 1512, 'incredible': 1859, 'o2fwd': 2517, '18p': 152, 'ship': 3122, 'maturity': 2259, 'confirmed': 995, 'kavalan': 1983, 'causing': 854, 'dubsack': 1269, 'macho': 2210, 'blank': 683, 'audition': 562, 'tonights': 3570, 'xin': 3922, 'lib': 2084, 'difference': 1181, 'despite': 1160, 'fell': 1439, 'swoop': 3409, 'langport': 2040, 'senthil': 3091, 'forevr': 1502, 'mistakes': 2331, 'lou': 2159, 'texted': 3480, 'pool': 2708, 'x49': 3918, '09065989182': 101, 'disconnect': 1198, 'terrorist': 3472, 'confirmd': 994, 'verified': 3722, 'cnn': 948, 'ibn': 1824, 'hppnss': 1796, 'sorrow': 3251, 'goodfriend': 1633, 'stayed': 3312, 'stone': 3325, 'eaten': 1289, 'mila': 2308, 'age23': 443, 'blonde': 690, 'mtalk': 2402, '69866': 293, '30pp': 216, '5free': 274, 'increments': 1860, 'help08718728876': 1738, 'atlast': 556, 'desert': 1156, 'funk': 1551, 'tones2u': 3567, 'nat': 2435, 'funeral': 1550, 'vivek': 3741, 'tnc': 3549, 'brah': 736, 'possession': 2716, 'protect': 2791, 'sib': 3155, 'sensitive': 3088, 'passwords': 2605, 'concert': 989, 'ipad': 1901, 'bird': 667, 'cheese': 897, 'tms': 3548, 'widelive': 3841, 'index': 1861, 'wml': 3873, 'hsbc': 1800, 'asp': 551, '09061702893': 90, '26': 179, 'melt': 2287, 'eek': 1298, 'born': 714, 'affairs': 434, '09061743386': 91, '674': 290, 'eta': 1345, 'housewives': 1792, '0871750': 63, '77': 307, 'landlines': 2038, 'dial': 1170, 'university': 3666, 'california': 799, '09066364311': 105, 'literally': 2116, 'kothi': 2022, 'sem': 3080, 'student': 3344, 'actual': 410, 'dealing': 1118, 'doc': 1215, 'value': 3714, 'reasonable': 2866, 'mnth': 2342, 'kappa': 1980, 'piss': 2660, 'receipts': 2872, 'guessing': 1671, 'royal': 2986, 'tog': 3555, 'sticky': 3320, 'indicate': 1865, 'repeat': 2922, 'calculation': 796, 'clothes': 943, 'lush': 2190, '2find': 188, 'taunton': 3433, 'haiz': 1686, 'common': 975, 'greatest': 1657, 'courage': 1039, 'bear': 624, 'defeat': 1137, 'fucked': 1543, 'beauty': 627, 'natalja': 2437, '440': 245, 'nat27081980': 2436, 'moving': 2389, 'loss': 2153, 'jogging': 1951, 'shelf': 3118, 'previous': 2755, 'captain': 828, 'mokka': 2360, '09061744553': 93, 'polyh': 2703, 'bone': 702, 'steve': 3319, 'epsilon': 1335, 'mesages': 2295, 'lst': 2183, 'massive': 2248, 'absolutly': 387, 'forms': 1510, 'polo': 2701, '373': 227, 'w1j': 3757, '6hl': 296, 'coast': 949, 'parking': 2597, 'suppose': 3386, 'explicit': 1385, 'secs': 3067, '02073162414': 6, 'clearly': 934, 'gain': 1558, 'realise': 2859, 'mnths': 2343, '86888': 346, 'subscribe6gbp': 3356, '3hrs': 232, 'txtstop': 3641, 'managed': 2234, 'capital': 826, 'acted': 403, 'loyal': 2179, 'customers': 1083, '09066380611': 107, 'print': 2762, 'dokey': 1226, 'error': 1339, 'sleepin': 3197, 'minor': 2318, 'woulda': 3901, 'santa': 3017, 'miserable': 2325, 'shoppin': 3135, '08718726270': 66, 'celebration': 862, 'warner': 3788, 'select': 3072, 'sarasota': 3019, '13': 134, 'cherish': 899, 'wallpaper': 3775, 'slp': 3210, 'muah': 2409, '4eva': 256, 'garden': 1571, 'bulbs': 775, 'seeds': 3069, 'scotsman': 3048, 'go2': 1620, 'notxt': 2498, 'gastroenteritis': 1575, 'replace': 2923, 'reduce': 2888, 'limiting': 2103, 'illness': 1840, 'step': 3318, '09061213237': 86, '177': 150, 'm227xy': 2199, 'pride': 2759, 'respectful': 2934, 'bottle': 719, 'amused': 481, 'mega': 2282, 'island': 1908}\n"
     ]
    }
   ],
   "source": [
    "print(\"Vocabulary:\\n\", TFIDF.vocabulary_)"
   ]
  },
  {
   "cell_type": "code",
   "execution_count": 16,
   "id": "475c9217",
   "metadata": {},
   "outputs": [
    {
     "data": {
      "text/html": [
       "<div>\n",
       "<style scoped>\n",
       "    .dataframe tbody tr th:only-of-type {\n",
       "        vertical-align: middle;\n",
       "    }\n",
       "\n",
       "    .dataframe tbody tr th {\n",
       "        vertical-align: top;\n",
       "    }\n",
       "\n",
       "    .dataframe thead th {\n",
       "        text-align: right;\n",
       "    }\n",
       "</style>\n",
       "<table border=\"1\" class=\"dataframe\">\n",
       "  <thead>\n",
       "    <tr style=\"text-align: right;\">\n",
       "      <th></th>\n",
       "      <th>00</th>\n",
       "      <th>000</th>\n",
       "      <th>008704050406</th>\n",
       "      <th>01223585334</th>\n",
       "      <th>02</th>\n",
       "      <th>0207</th>\n",
       "      <th>02073162414</th>\n",
       "      <th>021</th>\n",
       "      <th>03</th>\n",
       "      <th>04</th>\n",
       "      <th>...</th>\n",
       "      <th>youre</th>\n",
       "      <th>yr</th>\n",
       "      <th>yrs</th>\n",
       "      <th>yummy</th>\n",
       "      <th>yun</th>\n",
       "      <th>yunny</th>\n",
       "      <th>yuo</th>\n",
       "      <th>yup</th>\n",
       "      <th>zed</th>\n",
       "      <th>zoe</th>\n",
       "    </tr>\n",
       "  </thead>\n",
       "  <tbody>\n",
       "    <tr>\n",
       "      <th>0</th>\n",
       "      <td>0.0</td>\n",
       "      <td>0.0</td>\n",
       "      <td>0.0</td>\n",
       "      <td>0.0</td>\n",
       "      <td>0.0</td>\n",
       "      <td>0.0</td>\n",
       "      <td>0.0</td>\n",
       "      <td>0.0</td>\n",
       "      <td>0.0</td>\n",
       "      <td>0.0</td>\n",
       "      <td>...</td>\n",
       "      <td>0.0</td>\n",
       "      <td>0.0</td>\n",
       "      <td>0.0</td>\n",
       "      <td>0.0</td>\n",
       "      <td>0.0</td>\n",
       "      <td>0.0</td>\n",
       "      <td>0.0</td>\n",
       "      <td>0.0</td>\n",
       "      <td>0.0</td>\n",
       "      <td>0.0</td>\n",
       "    </tr>\n",
       "    <tr>\n",
       "      <th>1</th>\n",
       "      <td>0.0</td>\n",
       "      <td>0.0</td>\n",
       "      <td>0.0</td>\n",
       "      <td>0.0</td>\n",
       "      <td>0.0</td>\n",
       "      <td>0.0</td>\n",
       "      <td>0.0</td>\n",
       "      <td>0.0</td>\n",
       "      <td>0.0</td>\n",
       "      <td>0.0</td>\n",
       "      <td>...</td>\n",
       "      <td>0.0</td>\n",
       "      <td>0.0</td>\n",
       "      <td>0.0</td>\n",
       "      <td>0.0</td>\n",
       "      <td>0.0</td>\n",
       "      <td>0.0</td>\n",
       "      <td>0.0</td>\n",
       "      <td>0.0</td>\n",
       "      <td>0.0</td>\n",
       "      <td>0.0</td>\n",
       "    </tr>\n",
       "    <tr>\n",
       "      <th>2</th>\n",
       "      <td>0.0</td>\n",
       "      <td>0.0</td>\n",
       "      <td>0.0</td>\n",
       "      <td>0.0</td>\n",
       "      <td>0.0</td>\n",
       "      <td>0.0</td>\n",
       "      <td>0.0</td>\n",
       "      <td>0.0</td>\n",
       "      <td>0.0</td>\n",
       "      <td>0.0</td>\n",
       "      <td>...</td>\n",
       "      <td>0.0</td>\n",
       "      <td>0.0</td>\n",
       "      <td>0.0</td>\n",
       "      <td>0.0</td>\n",
       "      <td>0.0</td>\n",
       "      <td>0.0</td>\n",
       "      <td>0.0</td>\n",
       "      <td>0.0</td>\n",
       "      <td>0.0</td>\n",
       "      <td>0.0</td>\n",
       "    </tr>\n",
       "    <tr>\n",
       "      <th>3</th>\n",
       "      <td>0.0</td>\n",
       "      <td>0.0</td>\n",
       "      <td>0.0</td>\n",
       "      <td>0.0</td>\n",
       "      <td>0.0</td>\n",
       "      <td>0.0</td>\n",
       "      <td>0.0</td>\n",
       "      <td>0.0</td>\n",
       "      <td>0.0</td>\n",
       "      <td>0.0</td>\n",
       "      <td>...</td>\n",
       "      <td>0.0</td>\n",
       "      <td>0.0</td>\n",
       "      <td>0.0</td>\n",
       "      <td>0.0</td>\n",
       "      <td>0.0</td>\n",
       "      <td>0.0</td>\n",
       "      <td>0.0</td>\n",
       "      <td>0.0</td>\n",
       "      <td>0.0</td>\n",
       "      <td>0.0</td>\n",
       "    </tr>\n",
       "    <tr>\n",
       "      <th>4</th>\n",
       "      <td>0.0</td>\n",
       "      <td>0.0</td>\n",
       "      <td>0.0</td>\n",
       "      <td>0.0</td>\n",
       "      <td>0.0</td>\n",
       "      <td>0.0</td>\n",
       "      <td>0.0</td>\n",
       "      <td>0.0</td>\n",
       "      <td>0.0</td>\n",
       "      <td>0.0</td>\n",
       "      <td>...</td>\n",
       "      <td>0.0</td>\n",
       "      <td>0.0</td>\n",
       "      <td>0.0</td>\n",
       "      <td>0.0</td>\n",
       "      <td>0.0</td>\n",
       "      <td>0.0</td>\n",
       "      <td>0.0</td>\n",
       "      <td>0.0</td>\n",
       "      <td>0.0</td>\n",
       "      <td>0.0</td>\n",
       "    </tr>\n",
       "    <tr>\n",
       "      <th>...</th>\n",
       "      <td>...</td>\n",
       "      <td>...</td>\n",
       "      <td>...</td>\n",
       "      <td>...</td>\n",
       "      <td>...</td>\n",
       "      <td>...</td>\n",
       "      <td>...</td>\n",
       "      <td>...</td>\n",
       "      <td>...</td>\n",
       "      <td>...</td>\n",
       "      <td>...</td>\n",
       "      <td>...</td>\n",
       "      <td>...</td>\n",
       "      <td>...</td>\n",
       "      <td>...</td>\n",
       "      <td>...</td>\n",
       "      <td>...</td>\n",
       "      <td>...</td>\n",
       "      <td>...</td>\n",
       "      <td>...</td>\n",
       "      <td>...</td>\n",
       "    </tr>\n",
       "    <tr>\n",
       "      <th>5567</th>\n",
       "      <td>0.0</td>\n",
       "      <td>0.0</td>\n",
       "      <td>0.0</td>\n",
       "      <td>0.0</td>\n",
       "      <td>0.0</td>\n",
       "      <td>0.0</td>\n",
       "      <td>0.0</td>\n",
       "      <td>0.0</td>\n",
       "      <td>0.0</td>\n",
       "      <td>0.0</td>\n",
       "      <td>...</td>\n",
       "      <td>0.0</td>\n",
       "      <td>0.0</td>\n",
       "      <td>0.0</td>\n",
       "      <td>0.0</td>\n",
       "      <td>0.0</td>\n",
       "      <td>0.0</td>\n",
       "      <td>0.0</td>\n",
       "      <td>0.0</td>\n",
       "      <td>0.0</td>\n",
       "      <td>0.0</td>\n",
       "    </tr>\n",
       "    <tr>\n",
       "      <th>5568</th>\n",
       "      <td>0.0</td>\n",
       "      <td>0.0</td>\n",
       "      <td>0.0</td>\n",
       "      <td>0.0</td>\n",
       "      <td>0.0</td>\n",
       "      <td>0.0</td>\n",
       "      <td>0.0</td>\n",
       "      <td>0.0</td>\n",
       "      <td>0.0</td>\n",
       "      <td>0.0</td>\n",
       "      <td>...</td>\n",
       "      <td>0.0</td>\n",
       "      <td>0.0</td>\n",
       "      <td>0.0</td>\n",
       "      <td>0.0</td>\n",
       "      <td>0.0</td>\n",
       "      <td>0.0</td>\n",
       "      <td>0.0</td>\n",
       "      <td>0.0</td>\n",
       "      <td>0.0</td>\n",
       "      <td>0.0</td>\n",
       "    </tr>\n",
       "    <tr>\n",
       "      <th>5569</th>\n",
       "      <td>0.0</td>\n",
       "      <td>0.0</td>\n",
       "      <td>0.0</td>\n",
       "      <td>0.0</td>\n",
       "      <td>0.0</td>\n",
       "      <td>0.0</td>\n",
       "      <td>0.0</td>\n",
       "      <td>0.0</td>\n",
       "      <td>0.0</td>\n",
       "      <td>0.0</td>\n",
       "      <td>...</td>\n",
       "      <td>0.0</td>\n",
       "      <td>0.0</td>\n",
       "      <td>0.0</td>\n",
       "      <td>0.0</td>\n",
       "      <td>0.0</td>\n",
       "      <td>0.0</td>\n",
       "      <td>0.0</td>\n",
       "      <td>0.0</td>\n",
       "      <td>0.0</td>\n",
       "      <td>0.0</td>\n",
       "    </tr>\n",
       "    <tr>\n",
       "      <th>5570</th>\n",
       "      <td>0.0</td>\n",
       "      <td>0.0</td>\n",
       "      <td>0.0</td>\n",
       "      <td>0.0</td>\n",
       "      <td>0.0</td>\n",
       "      <td>0.0</td>\n",
       "      <td>0.0</td>\n",
       "      <td>0.0</td>\n",
       "      <td>0.0</td>\n",
       "      <td>0.0</td>\n",
       "      <td>...</td>\n",
       "      <td>0.0</td>\n",
       "      <td>0.0</td>\n",
       "      <td>0.0</td>\n",
       "      <td>0.0</td>\n",
       "      <td>0.0</td>\n",
       "      <td>0.0</td>\n",
       "      <td>0.0</td>\n",
       "      <td>0.0</td>\n",
       "      <td>0.0</td>\n",
       "      <td>0.0</td>\n",
       "    </tr>\n",
       "    <tr>\n",
       "      <th>5571</th>\n",
       "      <td>0.0</td>\n",
       "      <td>0.0</td>\n",
       "      <td>0.0</td>\n",
       "      <td>0.0</td>\n",
       "      <td>0.0</td>\n",
       "      <td>0.0</td>\n",
       "      <td>0.0</td>\n",
       "      <td>0.0</td>\n",
       "      <td>0.0</td>\n",
       "      <td>0.0</td>\n",
       "      <td>...</td>\n",
       "      <td>0.0</td>\n",
       "      <td>0.0</td>\n",
       "      <td>0.0</td>\n",
       "      <td>0.0</td>\n",
       "      <td>0.0</td>\n",
       "      <td>0.0</td>\n",
       "      <td>0.0</td>\n",
       "      <td>0.0</td>\n",
       "      <td>0.0</td>\n",
       "      <td>0.0</td>\n",
       "    </tr>\n",
       "  </tbody>\n",
       "</table>\n",
       "<p>5572 rows × 3965 columns</p>\n",
       "</div>"
      ],
      "text/plain": [
       "       00  000  008704050406  01223585334   02  0207  02073162414  021   03  \\\n",
       "0     0.0  0.0           0.0          0.0  0.0   0.0          0.0  0.0  0.0   \n",
       "1     0.0  0.0           0.0          0.0  0.0   0.0          0.0  0.0  0.0   \n",
       "2     0.0  0.0           0.0          0.0  0.0   0.0          0.0  0.0  0.0   \n",
       "3     0.0  0.0           0.0          0.0  0.0   0.0          0.0  0.0  0.0   \n",
       "4     0.0  0.0           0.0          0.0  0.0   0.0          0.0  0.0  0.0   \n",
       "...   ...  ...           ...          ...  ...   ...          ...  ...  ...   \n",
       "5567  0.0  0.0           0.0          0.0  0.0   0.0          0.0  0.0  0.0   \n",
       "5568  0.0  0.0           0.0          0.0  0.0   0.0          0.0  0.0  0.0   \n",
       "5569  0.0  0.0           0.0          0.0  0.0   0.0          0.0  0.0  0.0   \n",
       "5570  0.0  0.0           0.0          0.0  0.0   0.0          0.0  0.0  0.0   \n",
       "5571  0.0  0.0           0.0          0.0  0.0   0.0          0.0  0.0  0.0   \n",
       "\n",
       "       04  ...  youre   yr  yrs  yummy  yun  yunny  yuo  yup  zed  zoe  \n",
       "0     0.0  ...    0.0  0.0  0.0    0.0  0.0    0.0  0.0  0.0  0.0  0.0  \n",
       "1     0.0  ...    0.0  0.0  0.0    0.0  0.0    0.0  0.0  0.0  0.0  0.0  \n",
       "2     0.0  ...    0.0  0.0  0.0    0.0  0.0    0.0  0.0  0.0  0.0  0.0  \n",
       "3     0.0  ...    0.0  0.0  0.0    0.0  0.0    0.0  0.0  0.0  0.0  0.0  \n",
       "4     0.0  ...    0.0  0.0  0.0    0.0  0.0    0.0  0.0  0.0  0.0  0.0  \n",
       "...   ...  ...    ...  ...  ...    ...  ...    ...  ...  ...  ...  ...  \n",
       "5567  0.0  ...    0.0  0.0  0.0    0.0  0.0    0.0  0.0  0.0  0.0  0.0  \n",
       "5568  0.0  ...    0.0  0.0  0.0    0.0  0.0    0.0  0.0  0.0  0.0  0.0  \n",
       "5569  0.0  ...    0.0  0.0  0.0    0.0  0.0    0.0  0.0  0.0  0.0  0.0  \n",
       "5570  0.0  ...    0.0  0.0  0.0    0.0  0.0    0.0  0.0  0.0  0.0  0.0  \n",
       "5571  0.0  ...    0.0  0.0  0.0    0.0  0.0    0.0  0.0  0.0  0.0  0.0  \n",
       "\n",
       "[5572 rows x 3965 columns]"
      ]
     },
     "execution_count": 16,
     "metadata": {},
     "output_type": "execute_result"
    }
   ],
   "source": [
    "dtm = pd.DataFrame(data=tfidf.toarray(), columns=TFIDF.get_feature_names_out())\n",
    "dtm"
   ]
  },
  {
   "cell_type": "code",
   "execution_count": 17,
   "id": "0e7f08b8",
   "metadata": {},
   "outputs": [
    {
     "data": {
      "text/plain": [
       "(5572, 3965)"
      ]
     },
     "execution_count": 17,
     "metadata": {},
     "output_type": "execute_result"
    }
   ],
   "source": [
    "tfidf.toarray().shape"
   ]
  },
  {
   "cell_type": "code",
   "execution_count": 18,
   "id": "299ce81b",
   "metadata": {},
   "outputs": [
    {
     "data": {
      "text/plain": [
       "array([[0., 0., 0., ..., 0., 0., 0.],\n",
       "       [0., 0., 0., ..., 0., 0., 0.],\n",
       "       [0., 0., 0., ..., 0., 0., 0.],\n",
       "       ...,\n",
       "       [0., 0., 0., ..., 0., 0., 0.],\n",
       "       [0., 0., 0., ..., 0., 0., 0.],\n",
       "       [0., 0., 0., ..., 0., 0., 0.]])"
      ]
     },
     "execution_count": 18,
     "metadata": {},
     "output_type": "execute_result"
    }
   ],
   "source": [
    "tfidf.toarray()"
   ]
  },
  {
   "cell_type": "code",
   "execution_count": 20,
   "id": "56e0ff4b",
   "metadata": {},
   "outputs": [
    {
     "data": {
      "text/plain": [
       "((4457, 3965), (1115, 3965))"
      ]
     },
     "execution_count": 20,
     "metadata": {},
     "output_type": "execute_result"
    }
   ],
   "source": [
    "X_Train, X_Test, y_Train, y_Test = train_test_split(tfidf.toarray(), y, test_size=0.2, random_state=54, shuffle=True)\n",
    "X_Train.shape, X_Test.shape"
   ]
  },
  {
   "cell_type": "code",
   "execution_count": 21,
   "id": "2fafb13f",
   "metadata": {},
   "outputs": [
    {
     "data": {
      "text/html": [
       "<style>#sk-container-id-1 {color: black;background-color: white;}#sk-container-id-1 pre{padding: 0;}#sk-container-id-1 div.sk-toggleable {background-color: white;}#sk-container-id-1 label.sk-toggleable__label {cursor: pointer;display: block;width: 100%;margin-bottom: 0;padding: 0.3em;box-sizing: border-box;text-align: center;}#sk-container-id-1 label.sk-toggleable__label-arrow:before {content: \"▸\";float: left;margin-right: 0.25em;color: #696969;}#sk-container-id-1 label.sk-toggleable__label-arrow:hover:before {color: black;}#sk-container-id-1 div.sk-estimator:hover label.sk-toggleable__label-arrow:before {color: black;}#sk-container-id-1 div.sk-toggleable__content {max-height: 0;max-width: 0;overflow: hidden;text-align: left;background-color: #f0f8ff;}#sk-container-id-1 div.sk-toggleable__content pre {margin: 0.2em;color: black;border-radius: 0.25em;background-color: #f0f8ff;}#sk-container-id-1 input.sk-toggleable__control:checked~div.sk-toggleable__content {max-height: 200px;max-width: 100%;overflow: auto;}#sk-container-id-1 input.sk-toggleable__control:checked~label.sk-toggleable__label-arrow:before {content: \"▾\";}#sk-container-id-1 div.sk-estimator input.sk-toggleable__control:checked~label.sk-toggleable__label {background-color: #d4ebff;}#sk-container-id-1 div.sk-label input.sk-toggleable__control:checked~label.sk-toggleable__label {background-color: #d4ebff;}#sk-container-id-1 input.sk-hidden--visually {border: 0;clip: rect(1px 1px 1px 1px);clip: rect(1px, 1px, 1px, 1px);height: 1px;margin: -1px;overflow: hidden;padding: 0;position: absolute;width: 1px;}#sk-container-id-1 div.sk-estimator {font-family: monospace;background-color: #f0f8ff;border: 1px dotted black;border-radius: 0.25em;box-sizing: border-box;margin-bottom: 0.5em;}#sk-container-id-1 div.sk-estimator:hover {background-color: #d4ebff;}#sk-container-id-1 div.sk-parallel-item::after {content: \"\";width: 100%;border-bottom: 1px solid gray;flex-grow: 1;}#sk-container-id-1 div.sk-label:hover label.sk-toggleable__label {background-color: #d4ebff;}#sk-container-id-1 div.sk-serial::before {content: \"\";position: absolute;border-left: 1px solid gray;box-sizing: border-box;top: 0;bottom: 0;left: 50%;z-index: 0;}#sk-container-id-1 div.sk-serial {display: flex;flex-direction: column;align-items: center;background-color: white;padding-right: 0.2em;padding-left: 0.2em;position: relative;}#sk-container-id-1 div.sk-item {position: relative;z-index: 1;}#sk-container-id-1 div.sk-parallel {display: flex;align-items: stretch;justify-content: center;background-color: white;position: relative;}#sk-container-id-1 div.sk-item::before, #sk-container-id-1 div.sk-parallel-item::before {content: \"\";position: absolute;border-left: 1px solid gray;box-sizing: border-box;top: 0;bottom: 0;left: 50%;z-index: -1;}#sk-container-id-1 div.sk-parallel-item {display: flex;flex-direction: column;z-index: 1;position: relative;background-color: white;}#sk-container-id-1 div.sk-parallel-item:first-child::after {align-self: flex-end;width: 50%;}#sk-container-id-1 div.sk-parallel-item:last-child::after {align-self: flex-start;width: 50%;}#sk-container-id-1 div.sk-parallel-item:only-child::after {width: 0;}#sk-container-id-1 div.sk-dashed-wrapped {border: 1px dashed gray;margin: 0 0.4em 0.5em 0.4em;box-sizing: border-box;padding-bottom: 0.4em;background-color: white;}#sk-container-id-1 div.sk-label label {font-family: monospace;font-weight: bold;display: inline-block;line-height: 1.2em;}#sk-container-id-1 div.sk-label-container {text-align: center;}#sk-container-id-1 div.sk-container {/* jupyter's `normalize.less` sets `[hidden] { display: none; }` but bootstrap.min.css set `[hidden] { display: none !important; }` so we also need the `!important` here to be able to override the default hidden behavior on the sphinx rendered scikit-learn.org. See: https://github.com/scikit-learn/scikit-learn/issues/21755 */display: inline-block !important;position: relative;}#sk-container-id-1 div.sk-text-repr-fallback {display: none;}</style><div id=\"sk-container-id-1\" class=\"sk-top-container\"><div class=\"sk-text-repr-fallback\"><pre>MultinomialNB()</pre><b>In a Jupyter environment, please rerun this cell to show the HTML representation or trust the notebook. <br />On GitHub, the HTML representation is unable to render, please try loading this page with nbviewer.org.</b></div><div class=\"sk-container\" hidden><div class=\"sk-item\"><div class=\"sk-estimator sk-toggleable\"><input class=\"sk-toggleable__control sk-hidden--visually\" id=\"sk-estimator-id-1\" type=\"checkbox\" checked><label for=\"sk-estimator-id-1\" class=\"sk-toggleable__label sk-toggleable__label-arrow\">MultinomialNB</label><div class=\"sk-toggleable__content\"><pre>MultinomialNB()</pre></div></div></div></div></div>"
      ],
      "text/plain": [
       "MultinomialNB()"
      ]
     },
     "execution_count": 21,
     "metadata": {},
     "output_type": "execute_result"
    }
   ],
   "source": [
    "mm =MultinomialNB()\n",
    "mm.fit(X_Train, y_Train)"
   ]
  },
  {
   "cell_type": "code",
   "execution_count": 22,
   "id": "3a4790cc",
   "metadata": {},
   "outputs": [
    {
     "data": {
      "text/plain": [
       "array([1, 0, 1, ..., 0, 0, 1])"
      ]
     },
     "execution_count": 22,
     "metadata": {},
     "output_type": "execute_result"
    }
   ],
   "source": [
    "my_pred = mm.predict(X_Test)\n",
    "my_pred"
   ]
  },
  {
   "cell_type": "code",
   "execution_count": 23,
   "id": "f7335c26",
   "metadata": {},
   "outputs": [
    {
     "data": {
      "text/plain": [
       "135     1\n",
       "3132    1\n",
       "797     1\n",
       "3370    0\n",
       "3959    0\n",
       "       ..\n",
       "1322    0\n",
       "3121    0\n",
       "3546    0\n",
       "730     0\n",
       "1741    1\n",
       "Name: label, Length: 1115, dtype: int32"
      ]
     },
     "execution_count": 23,
     "metadata": {},
     "output_type": "execute_result"
    }
   ],
   "source": [
    "y_Test"
   ]
  },
  {
   "cell_type": "code",
   "execution_count": 24,
   "id": "b84032e1",
   "metadata": {},
   "outputs": [
    {
     "data": {
      "text/plain": [
       "<sklearn.metrics._plot.confusion_matrix.ConfusionMatrixDisplay at 0x2215f551c40>"
      ]
     },
     "execution_count": 24,
     "metadata": {},
     "output_type": "execute_result"
    },
    {
     "data": {
      "image/png": "[encoded data removed]",
      "text/plain": [
       "<Figure size 640x480 with 2 Axes>"
      ]
     },
     "metadata": {},
     "output_type": "display_data"
    }
   ],
   "source": [
    "ConfusionMatrixDisplay.from_predictions(y_Test, my_pred)"
   ]
  },
  {
   "cell_type": "code",
   "execution_count": 25,
   "id": "db0f0278",
   "metadata": {},
   "outputs": [
    {
     "name": "stdout",
     "output_type": "stream",
     "text": [
      "Accuracy : 0.9757847533632287\n",
      "Precision : 1.0\n",
      "Recall : 0.82\n",
      "F1-Score : 0.9010989010989011\n",
      "Classification Report :\n",
      "               precision    recall  f1-score   support\n",
      "\n",
      "           0       0.97      1.00      0.99       965\n",
      "           1       1.00      0.82      0.90       150\n",
      "\n",
      "    accuracy                           0.98      1115\n",
      "   macro avg       0.99      0.91      0.94      1115\n",
      "weighted avg       0.98      0.98      0.97      1115\n",
      "\n"
     ]
    }
   ],
   "source": [
    "acc = accuracy_score(y_Test, my_pred)\n",
    "pre = precision_score(y_Test, my_pred)\n",
    "recall = recall_score(y_Test, my_pred)\n",
    "f1 = f1_score(y_Test, my_pred)\n",
    "print(\"Accuracy :\", acc)\n",
    "print(\"Precision :\", pre)\n",
    "print(\"Recall :\", recall)\n",
    "print(\"F1-Score :\", f1)\n",
    "print(\"Classification Report :\\n\", classification_report(y_Test, my_pred))"
   ]
  },
  {
   "cell_type": "code",
   "execution_count": 27,
   "id": "6773137f",
   "metadata": {},
   "outputs": [],
   "source": [
    "new = [\"Congratulations! You've won a $1000 gift card. Click the link to claim your prize now!\"]\n",
    "new_vec = TFIDF.transform(new)\n",
    "new_vec = new_vec.toarray()"
   ]
  },
  {
   "cell_type": "code",
   "execution_count": 28,
   "id": "17534a2c",
   "metadata": {},
   "outputs": [
    {
     "data": {
      "text/plain": [
       "array([1])"
      ]
     },
     "execution_count": 28,
     "metadata": {},
     "output_type": "execute_result"
    }
   ],
   "source": [
    "y_hat = mm.predict(new_vec)\n",
    "y_hat"
   ]
  },
  {
   "cell_type": "code",
   "execution_count": 29,
   "id": "b4d8a0c9",
   "metadata": {},
   "outputs": [
    {
     "name": "stdout",
     "output_type": "stream",
     "text": [
      "The text is classified as 'spam'.\n"
     ]
    }
   ],
   "source": [
    "if y_hat == 0:\n",
    "    print(\"The text is classified as 'ham'.\")\n",
    "elif y_hat == 1:\n",
    "    print(\"The text is classified as 'spam'.\")"
   ]
  },
  {
   "cell_type": "code",
   "execution_count": 30,
   "id": "62703ab1",
   "metadata": {},
   "outputs": [
    {
     "name": "stdout",
     "output_type": "stream",
     "text": [
      "The text is classified as 'spam'.\n"
     ]
    }
   ],
   "source": [
    "new = [\"URGENT: Your account has been compromised. Please click the link to reset your password immediately.\"]\n",
    "new_vec = TFIDF.transform(new)\n",
    "new_vec = new_vec.toarray()\n",
    "y_hat = mm.predict(new_vec)\n",
    "if y_hat == 0:\n",
    "    print(\"The text is classified as 'ham'.\")\n",
    "elif y_hat == 1:\n",
    "    print(\"The text is classified as 'spam'.\")"
   ]
  },
  {
   "cell_type": "code",
   "execution_count": 31,
   "id": "228759b9",
   "metadata": {},
   "outputs": [
    {
     "name": "stdout",
     "output_type": "stream",
     "text": [
      "The text is classified as 'ham'.\n"
     ]
    }
   ],
   "source": [
    "\n",
    "new = [\"Hi Maida, just checking in to see if you received the document I sent yesterday. Let me know if you have any questions!\"]\n",
    "new_vec = TFIDF.transform(new)\n",
    "new_vec = new_vec.toarray()\n",
    "y_hat = mm.predict(new_vec)\n",
    "if y_hat == 0:\n",
    "    print(\"The text is classified as 'ham'.\")\n",
    "elif y_hat == 1:\n",
    "    print(\"The text is classified as 'spam'.\")"
   ]
  },
  {
   "cell_type": "code",
   "execution_count": null,
   "id": "5bec6066",
   "metadata": {},
   "outputs": [],
   "source": []
  }
 ],
 "metadata": {
  "kernelspec": {
   "display_name": "Python 3 (ipykernel)",
   "language": "python",
   "name": "python3"
  },
  "language_info": {
   "codemirror_mode": {
    "name": "ipython",
    "version": 3
   },
   "file_extension": ".py",
   "mimetype": "text/x-python",
   "name": "python",
   "nbconvert_exporter": "python",
   "pygments_lexer": "ipython3",
   "version": "3.9.16"
  }
 },
 "nbformat": 4,
 "nbformat_minor": 5
}
