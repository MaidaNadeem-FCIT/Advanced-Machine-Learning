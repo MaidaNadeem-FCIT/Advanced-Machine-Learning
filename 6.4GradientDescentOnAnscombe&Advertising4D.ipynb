{
 "cells": [
  {
   "cell_type": "markdown",
   "id": "ac1640c4",
   "metadata": {},
   "source": [
    "### GRADIEN DESCENT....\n",
    "#### Example 1"
   ]
  },
  {
   "cell_type": "code",
   "execution_count": 14,
   "id": "5fc09f2f",
   "metadata": {},
   "outputs": [],
   "source": [
    "import pandas as pd\n",
    "import numpy as np\n",
    "\n",
    "def deriv_beta0(beta0, beta1):\n",
    "    return beta0 +4*beta1 - 2.758\n",
    "def deriv_beta1(beta0, beta1):\n",
    "    return beta0 +5*beta1 -3.223"
   ]
  },
  {
   "cell_type": "code",
   "execution_count": 15,
   "id": "4f99e5d9",
   "metadata": {},
   "outputs": [
    {
     "name": "stdout",
     "output_type": "stream",
     "text": [
      "Beta 0 :  0.8979999646307111 beta 1:  0.46500000731441327\n"
     ]
    }
   ],
   "source": [
    "guess_beta0=0\n",
    "guess_beta1=1\n",
    "epochs=10000\n",
    "alpha=0.01\n",
    "for i in range(epochs):\n",
    "    guess_beta0 = guess_beta0 - alpha * deriv_beta0(guess_beta0, guess_beta1)\n",
    "    guess_beta1 = guess_beta1 - alpha * deriv_beta1(guess_beta0, guess_beta1)\n",
    "print(\"Beta 0 : \", guess_beta0, \"beta 1: \", guess_beta1)"
   ]
  },
  {
   "cell_type": "code",
   "execution_count": 16,
   "id": "f12717d3",
   "metadata": {},
   "outputs": [
    {
     "name": "stdout",
     "output_type": "stream",
     "text": [
      "Beta 0 :  0.8979999906147521 beta 1:  0.46500000191304053\n"
     ]
    }
   ],
   "source": [
    "guess_beta0=0\n",
    "guess_beta1=1\n",
    "epochs=1000 #change no of iterations\n",
    "alpha=0.1 #change in learning rate\n",
    "for i in range(epochs):\n",
    "    guess_beta0 = guess_beta0 - alpha * deriv_beta0(guess_beta0, guess_beta1)\n",
    "    guess_beta1 = guess_beta1 - alpha * deriv_beta1(guess_beta0, guess_beta1)\n",
    "print(\"Beta 0 : \", guess_beta0, \"beta 1: \", guess_beta1)"
   ]
  },
  {
   "cell_type": "code",
   "execution_count": 17,
   "id": "881e3925",
   "metadata": {},
   "outputs": [
    {
     "name": "stdout",
     "output_type": "stream",
     "text": [
      "Beta 0 :  0.8979999999999967 beta 1:  0.4650000000000007\n"
     ]
    }
   ],
   "source": [
    "guess_beta0=6\n",
    "guess_beta1=9\n",
    "#changed beta values starting guesses\n",
    "epochs=10000\n",
    "alpha=0.1\n",
    "for i in range(epochs):\n",
    "    guess_beta0 = guess_beta0 - alpha * deriv_beta0(guess_beta0, guess_beta1)\n",
    "    guess_beta1 = guess_beta1 - alpha * deriv_beta1(guess_beta0, guess_beta1)\n",
    "print(\"Beta 0 : \", guess_beta0, \"beta 1: \", guess_beta1)"
   ]
  },
  {
   "cell_type": "markdown",
   "id": "f7118e58",
   "metadata": {},
   "source": [
    "### TASK TO DO...\n",
    "#### Advertising4D dataset"
   ]
  },
  {
   "cell_type": "code",
   "execution_count": 36,
   "id": "32b06b92",
   "metadata": {
    "scrolled": true
   },
   "outputs": [
    {
     "data": {
      "text/html": [
       "<div>\n",
       "<style scoped>\n",
       "    .dataframe tbody tr th:only-of-type {\n",
       "        vertical-align: middle;\n",
       "    }\n",
       "\n",
       "    .dataframe tbody tr th {\n",
       "        vertical-align: top;\n",
       "    }\n",
       "\n",
       "    .dataframe thead th {\n",
       "        text-align: right;\n",
       "    }\n",
       "</style>\n",
       "<table border=\"1\" class=\"dataframe\">\n",
       "  <thead>\n",
       "    <tr style=\"text-align: right;\">\n",
       "      <th></th>\n",
       "      <th>TV</th>\n",
       "      <th>radio</th>\n",
       "      <th>newspaper</th>\n",
       "      <th>sales</th>\n",
       "    </tr>\n",
       "  </thead>\n",
       "  <tbody>\n",
       "    <tr>\n",
       "      <th>0</th>\n",
       "      <td>230.1</td>\n",
       "      <td>37.8</td>\n",
       "      <td>69.2</td>\n",
       "      <td>22.1</td>\n",
       "    </tr>\n",
       "    <tr>\n",
       "      <th>1</th>\n",
       "      <td>44.5</td>\n",
       "      <td>39.3</td>\n",
       "      <td>45.1</td>\n",
       "      <td>10.4</td>\n",
       "    </tr>\n",
       "    <tr>\n",
       "      <th>2</th>\n",
       "      <td>17.2</td>\n",
       "      <td>45.9</td>\n",
       "      <td>69.3</td>\n",
       "      <td>9.3</td>\n",
       "    </tr>\n",
       "    <tr>\n",
       "      <th>3</th>\n",
       "      <td>151.5</td>\n",
       "      <td>41.3</td>\n",
       "      <td>58.5</td>\n",
       "      <td>18.5</td>\n",
       "    </tr>\n",
       "    <tr>\n",
       "      <th>4</th>\n",
       "      <td>180.8</td>\n",
       "      <td>10.8</td>\n",
       "      <td>58.4</td>\n",
       "      <td>12.9</td>\n",
       "    </tr>\n",
       "    <tr>\n",
       "      <th>...</th>\n",
       "      <td>...</td>\n",
       "      <td>...</td>\n",
       "      <td>...</td>\n",
       "      <td>...</td>\n",
       "    </tr>\n",
       "    <tr>\n",
       "      <th>195</th>\n",
       "      <td>38.2</td>\n",
       "      <td>3.7</td>\n",
       "      <td>13.8</td>\n",
       "      <td>7.6</td>\n",
       "    </tr>\n",
       "    <tr>\n",
       "      <th>196</th>\n",
       "      <td>94.2</td>\n",
       "      <td>4.9</td>\n",
       "      <td>8.1</td>\n",
       "      <td>9.7</td>\n",
       "    </tr>\n",
       "    <tr>\n",
       "      <th>197</th>\n",
       "      <td>177.0</td>\n",
       "      <td>9.3</td>\n",
       "      <td>6.4</td>\n",
       "      <td>12.8</td>\n",
       "    </tr>\n",
       "    <tr>\n",
       "      <th>198</th>\n",
       "      <td>283.6</td>\n",
       "      <td>42.0</td>\n",
       "      <td>66.2</td>\n",
       "      <td>25.5</td>\n",
       "    </tr>\n",
       "    <tr>\n",
       "      <th>199</th>\n",
       "      <td>232.1</td>\n",
       "      <td>8.6</td>\n",
       "      <td>8.7</td>\n",
       "      <td>13.4</td>\n",
       "    </tr>\n",
       "  </tbody>\n",
       "</table>\n",
       "<p>200 rows × 4 columns</p>\n",
       "</div>"
      ],
      "text/plain": [
       "        TV  radio  newspaper  sales\n",
       "0    230.1   37.8       69.2   22.1\n",
       "1     44.5   39.3       45.1   10.4\n",
       "2     17.2   45.9       69.3    9.3\n",
       "3    151.5   41.3       58.5   18.5\n",
       "4    180.8   10.8       58.4   12.9\n",
       "..     ...    ...        ...    ...\n",
       "195   38.2    3.7       13.8    7.6\n",
       "196   94.2    4.9        8.1    9.7\n",
       "197  177.0    9.3        6.4   12.8\n",
       "198  283.6   42.0       66.2   25.5\n",
       "199  232.1    8.6        8.7   13.4\n",
       "\n",
       "[200 rows x 4 columns]"
      ]
     },
     "execution_count": 36,
     "metadata": {},
     "output_type": "execute_result"
    }
   ],
   "source": [
    "\n",
    "df1 = pd.read_csv(\"datasets/advertising4D.csv\")\n",
    "df1"
   ]
  },
  {
   "cell_type": "code",
   "execution_count": 70,
   "id": "ea9b4a82",
   "metadata": {},
   "outputs": [
    {
     "name": "stdout",
     "output_type": "stream",
     "text": [
      "<class 'pandas.core.frame.DataFrame'>\n",
      "RangeIndex: 200 entries, 0 to 199\n",
      "Data columns (total 4 columns):\n",
      " #   Column     Non-Null Count  Dtype  \n",
      "---  ------     --------------  -----  \n",
      " 0   TV         200 non-null    float64\n",
      " 1   radio      200 non-null    float64\n",
      " 2   newspaper  200 non-null    float64\n",
      " 3   sales      200 non-null    float64\n",
      "dtypes: float64(4)\n",
      "memory usage: 6.4 KB\n"
     ]
    }
   ],
   "source": [
    "df.info()"
   ]
  },
  {
   "cell_type": "markdown",
   "id": "421238a6",
   "metadata": {},
   "source": [
    "### BATCH Gradient Descent"
   ]
  },
  {
   "cell_type": "code",
   "execution_count": 68,
   "id": "985ea1b3",
   "metadata": {},
   "outputs": [
    {
     "data": {
      "text/plain": [
       "(0      230.1\n",
       " 1       44.5\n",
       " 2       17.2\n",
       " 3      151.5\n",
       " 4      180.8\n",
       "        ...  \n",
       " 195     38.2\n",
       " 196     94.2\n",
       " 197    177.0\n",
       " 198    283.6\n",
       " 199    232.1\n",
       " Name: TV, Length: 200, dtype: float64,\n",
       " 0      37.8\n",
       " 1      39.3\n",
       " 2      45.9\n",
       " 3      41.3\n",
       " 4      10.8\n",
       "        ... \n",
       " 195     3.7\n",
       " 196     4.9\n",
       " 197     9.3\n",
       " 198    42.0\n",
       " 199     8.6\n",
       " Name: radio, Length: 200, dtype: float64,\n",
       " 0      69.2\n",
       " 1      45.1\n",
       " 2      69.3\n",
       " 3      58.5\n",
       " 4      58.4\n",
       "        ... \n",
       " 195    13.8\n",
       " 196     8.1\n",
       " 197     6.4\n",
       " 198    66.2\n",
       " 199     8.7\n",
       " Name: newspaper, Length: 200, dtype: float64,\n",
       " 0      22.1\n",
       " 1      10.4\n",
       " 2       9.3\n",
       " 3      18.5\n",
       " 4      12.9\n",
       "        ... \n",
       " 195     7.6\n",
       " 196     9.7\n",
       " 197    12.8\n",
       " 198    25.5\n",
       " 199    13.4\n",
       " Name: sales, Length: 200, dtype: float64)"
      ]
     },
     "execution_count": 68,
     "metadata": {},
     "output_type": "execute_result"
    }
   ],
   "source": [
    "x1 = df1['TV']\n",
    "x2 = df1['radio']\n",
    "x3 = df1['newspaper']\n",
    "y = df1['sales']\n",
    "\n",
    "x1, x2, x3, y"
   ]
  },
  {
   "cell_type": "code",
   "execution_count": 37,
   "id": "21f25c53",
   "metadata": {},
   "outputs": [
    {
     "name": "stdout",
     "output_type": "stream",
     "text": [
      "b0 : nan b1 :  nan b2 :  nan b3 :  nan\n"
     ]
    }
   ],
   "source": [
    "x1 = df1['TV']\n",
    "x2 = df1['radio']\n",
    "x3 = df1['newspaper']\n",
    "y = df1['sales']\n",
    "\n",
    "#initializing betas...\n",
    "b0, b1, b2, b3 = 0, 0, 0, 0\n",
    "\n",
    "#initializing hyperparamets..\n",
    "alpha = 0.01\n",
    "epochs = 10000\n",
    "n = df.shape[0]\n",
    "\n",
    "#batch gradient code...\n",
    "for i in range(epochs):\n",
    "    yhat = b0 + b1*x1 + b2*x2 + b3*x3\n",
    "    \n",
    "    #calculating gradient of cost functio\n",
    "    d_b0 = (-1/n) * sum((y - yhat))\n",
    "    d_b1 = (-1/n) * sum(x1 * (y - yhat))\n",
    "    d_b2 = (-1/n) * sum(x2 * (y - yhat))\n",
    "    d_b3 = (-1/n) * sum(x3 * (y - yhat))\n",
    "    \n",
    "    #update betas\n",
    "    b0 = b0 - alpha * d_b0\n",
    "    b1 = b1 - alpha * d_b1\n",
    "    b2 = b2 - alpha * d_b2\n",
    "    b3 = b3 - alpha * d_b3\n",
    "    \n",
    "print(\"b0 :\", b0, \"b1 : \", b1, \"b2 : \", b2, \"b3 : \", b3)\n",
    "    "
   ]
  },
  {
   "cell_type": "markdown",
   "id": "a78c4931",
   "metadata": {},
   "source": [
    "### STOCHASTIC Gradient Descent"
   ]
  },
  {
   "cell_type": "code",
   "execution_count": 26,
   "id": "cd480149",
   "metadata": {},
   "outputs": [
    {
     "name": "stdout",
     "output_type": "stream",
     "text": [
      "b0 : nan b1 :  nan b2 :  nan b3 :  nan\n"
     ]
    },
    {
     "name": "stderr",
     "output_type": "stream",
     "text": [
      "C:\\Users\\ASCC\\AppData\\Local\\Temp\\ipykernel_5672\\3083590145.py:22: RuntimeWarning: overflow encountered in double_scalars\n",
      "  d_b1 = (-1) * (x1_i * (y_i - yhat_i))\n",
      "C:\\Users\\ASCC\\AppData\\Local\\Temp\\ipykernel_5672\\3083590145.py:28: RuntimeWarning: invalid value encountered in double_scalars\n",
      "  b1 = b1 - alpha * d_b1\n"
     ]
    }
   ],
   "source": [
    "x1 = df.TV.values\n",
    "x2 = df.radio.values\n",
    "x3 = df.newspaper.values\n",
    "y = df.sales.values\n",
    "\n",
    "#initializing betas...\n",
    "b0, b1, b2, b3 = 0, 0, 0, 0\n",
    "\n",
    "#initializing hyperparamets..\n",
    "alpha = 0.01\n",
    "epochs = 10000\n",
    "n = df.shape[0]\n",
    "\n",
    "#batch gradient code...\n",
    "for i in range(epochs):\n",
    "    id_x = np.random.randint(0,n)\n",
    "    x1_i, x2_i, x3_i, y_i = x1[id_x], x2[id_x], x3[id_x], y[id_x]\n",
    "    yhat_i = b0 + b1*x1_i + b2*x2_i + b3*x3_i\n",
    "    \n",
    "    #calculating gradient of cost functio\n",
    "    d_b0 = (-1) * (y_i - yhat_i)\n",
    "    d_b1 = (-1) * (x1_i * (y_i - yhat_i))\n",
    "    d_b2 = (-1) * (x2_i * (y_i - yhat_i))\n",
    "    d_b3 = (-1) * (x3_i * (y_i - yhat_i))\n",
    "    \n",
    "    #update betas\n",
    "    b0 = b0 - alpha * d_b0\n",
    "    b1 = b1 - alpha * d_b1\n",
    "    b2 = b2 - alpha * d_b2\n",
    "    b3 = b3 - alpha * d_b3\n",
    "    \n",
    "print(\"b0 :\", b0, \"b1 : \", b1, \"b2 : \", b2, \"b3 : \", b3)\n",
    "    "
   ]
  },
  {
   "cell_type": "markdown",
   "id": "858ce383",
   "metadata": {},
   "source": [
    "### Mini Batch Graient Descent"
   ]
  },
  {
   "cell_type": "code",
   "execution_count": 28,
   "id": "7e52e169",
   "metadata": {},
   "outputs": [
    {
     "name": "stderr",
     "output_type": "stream",
     "text": [
      "C:\\Users\\ASCC\\AppData\\Local\\Temp\\ipykernel_5672\\1020811351.py:26: RuntimeWarning: overflow encountered in double_scalars\n",
      "  d_b1 = (-1/batch_size) * sum(batch_x1 * (batch_y - batch_yhat))\n",
      "C:\\Users\\ASCC\\AppData\\Local\\Temp\\ipykernel_5672\\1020811351.py:32: RuntimeWarning: invalid value encountered in double_scalars\n",
      "  b1 = b1 - alpha * d_b1\n"
     ]
    },
    {
     "name": "stdout",
     "output_type": "stream",
     "text": [
      "b0 : nan b1 :  nan b2 :  nan b3 :  nan\n"
     ]
    }
   ],
   "source": [
    "x1 = df.TV.values\n",
    "x2 = df.radio.values\n",
    "x3 = df.newspaper.values\n",
    "y = df.sales.values\n",
    "\n",
    "#initializing betas...\n",
    "b0, b1, b2, b3 = 0, 0, 0, 0\n",
    "\n",
    "#initializing hyperparamets..\n",
    "alpha = 0.01\n",
    "epochs = 10000\n",
    "batch_size = 50\n",
    "n = df.shape[0]\n",
    "\n",
    "#batch gradient code...\n",
    "for i in range(epochs):\n",
    "    random_indices = np.random.randint(n, size=batch_size)\n",
    "    batch_x1 = x1[random_indices]\n",
    "    batch_x2 = x2[random_indices]\n",
    "    batch_x3 = x3[random_indices]\n",
    "    batch_y =  y[random_indices]\n",
    "    batch_yhat = b0 + b1*batch_x1 + b2*batch_x2 + b3*batch_x3\n",
    "    \n",
    "    #calculating gradient of cost functio\n",
    "    d_b0 = (-1/batch_size) * sum((batch_y - batch_yhat))\n",
    "    d_b1 = (-1/batch_size) * sum(batch_x1 * (batch_y - batch_yhat))\n",
    "    d_b2 = (-1/batch_size) * sum(batch_x2 * (batch_y - batch_yhat))\n",
    "    d_b3 = (-1/batch_size) * sum(batch_x3 * (batch_y - batch_yhat))\n",
    "    \n",
    "    #update betas\n",
    "    b0 = b0 - alpha * d_b0\n",
    "    b1 = b1 - alpha * d_b1\n",
    "    b2 = b2 - alpha * d_b2\n",
    "    b3 = b3 - alpha * d_b3\n",
    "    \n",
    "print(\"b0 :\", b0, \"b1 : \", b1, \"b2 : \", b2, \"b3 : \", b3)\n",
    "    "
   ]
  },
  {
   "cell_type": "markdown",
   "id": "0b029d26",
   "metadata": {},
   "source": [
    "### SGDRegressor.. "
   ]
  },
  {
   "cell_type": "code",
   "execution_count": 48,
   "id": "43040d91",
   "metadata": {},
   "outputs": [
    {
     "name": "stdout",
     "output_type": "stream",
     "text": [
      "Beta0 = 354024955846.36310\n",
      "Beta1 = -1161763037676.32666\n",
      "Beta2 = -396957844825.58386\n",
      "Beta3 = -1198989497260.18921\n"
     ]
    }
   ],
   "source": [
    "from sklearn.linear_model import SGDRegressor\n",
    "X = df1.drop(\"sales\", axis=1)\n",
    "y = df1['sales']\n",
    "\n",
    "model = SGDRegressor(loss='squared_error', penalty='elasticnet', learning_rate='constant', alpha=0.001)\n",
    "model.fit(X,y)\n",
    "\n",
    "print(\"Beta0 = {:.5f}\".format(model.intercept_[0]))\n",
    "print(\"Beta1 = {:.5f}\".format(model.coef_[0]))\n",
    "print(\"Beta2 = {:.5f}\".format(model.coef_[1]))\n",
    "print(\"Beta3 = {:.5f}\".format(model.coef_[2]))"
   ]
  },
  {
   "cell_type": "code",
   "execution_count": 46,
   "id": "5f0bcb52",
   "metadata": {},
   "outputs": [
    {
     "name": "stdout",
     "output_type": "stream",
     "text": [
      "Beta0 = 2.93889\n",
      "Beta1 = 0.04576\n",
      "Beta2 = 0.18853\n",
      "Beta3 = -0.00104\n"
     ]
    }
   ],
   "source": [
    "from sklearn.linear_model import LinearRegression\n",
    "y = np.array(df1['sales'])\n",
    "X = np.array(df1.drop(columns=['sales'], axis=1))\n",
    "model = LinearRegression().fit(X, y)\n",
    "print(\"Beta0 = {:.5f}\".format(model.intercept_))\n",
    "print(\"Beta1 = {:.5f}\".format(model.coef_[0]))\n",
    "print(\"Beta2 = {:.5f}\".format(model.coef_[1]))\n",
    "print(\"Beta3 = {:.5f}\".format(model.coef_[2]))"
   ]
  },
  {
   "cell_type": "markdown",
   "id": "ba93f00e",
   "metadata": {},
   "source": [
    "## Anscombe..."
   ]
  },
  {
   "cell_type": "code",
   "execution_count": 54,
   "id": "4ad625b0",
   "metadata": {
    "scrolled": true
   },
   "outputs": [],
   "source": [
    "import seaborn as sns\n",
    "ans =sns.load_dataset(\"anscombe\")"
   ]
  },
  {
   "cell_type": "markdown",
   "id": "44dd3ff1",
   "metadata": {},
   "source": [
    "### Batch Gradient Descent"
   ]
  },
  {
   "cell_type": "code",
   "execution_count": 61,
   "id": "493faca8",
   "metadata": {},
   "outputs": [
    {
     "name": "stdout",
     "output_type": "stream",
     "text": [
      "b0 : 3.0012954545452506 b1 :  0.4999318181818384\n"
     ]
    }
   ],
   "source": [
    "x = ans.x.values\n",
    "y = ans.y.values\n",
    "\n",
    "#initializing betas...\n",
    "b0, b1 =  0, 0\n",
    "\n",
    "#initializing hyperparamets..\n",
    "alpha = 0.01\n",
    "epochs = 10000\n",
    "n = ans.shape[0]\n",
    "\n",
    "#batch gradient code...\n",
    "for i in range(epochs):\n",
    "    yhat = b0 + b1*x\n",
    "    \n",
    "    #calculating gradient of cost functio\n",
    "    d_b0 = (-1/n) * sum((y - yhat))\n",
    "    d_b1 = (-1/n) * sum(x * (y - yhat))\n",
    "    \n",
    "    #update betas\n",
    "    b0 = b0 - alpha * d_b0\n",
    "    b1 = b1 - alpha * d_b1\n",
    "    \n",
    "print(\"b0 :\", b0, \"b1 : \", b1)\n",
    "    "
   ]
  },
  {
   "cell_type": "markdown",
   "id": "87f6b21b",
   "metadata": {},
   "source": [
    "### Mini Batch"
   ]
  },
  {
   "cell_type": "code",
   "execution_count": 57,
   "id": "0c3bdfba",
   "metadata": {},
   "outputs": [
    {
     "name": "stdout",
     "output_type": "stream",
     "text": [
      "b0 : 2.9313647958222924 b1 :  0.5947187805242755\n"
     ]
    }
   ],
   "source": [
    "x = ans.x.values\n",
    "y = ans.y.values\n",
    "\n",
    "#initializing betas...\n",
    "b0, b1 =  0, 0\n",
    "\n",
    "#initializing hyperparamets..\n",
    "alpha = 0.01\n",
    "epochs = 10000\n",
    "n = ans.shape[0]\n",
    "\n",
    "#batch gradient code...\n",
    "for i in range(epochs):\n",
    "    id_x = np.random.randint(0,n)\n",
    "    x_i, y_i = x[id_x], y[id_x]\n",
    "    yhat_i = b0 + b1*x_i\n",
    "    \n",
    "    #calculating gradient of cost functio\n",
    "    d_b0 = (-1) * (y_i - yhat_i)\n",
    "    d_b1 = (-1) * (x_i * (y_i - yhat_i))\n",
    "    \n",
    "    #update betas\n",
    "    b0 = b0 - alpha * d_b0\n",
    "    b1 = b1 - alpha * d_b1\n",
    "    \n",
    "print(\"b0 :\", b0, \"b1 : \", b1)\n",
    "    "
   ]
  },
  {
   "cell_type": "markdown",
   "id": "cecf38ae",
   "metadata": {},
   "source": [
    "### Mini Batch "
   ]
  },
  {
   "cell_type": "code",
   "execution_count": 59,
   "id": "0c54934f",
   "metadata": {},
   "outputs": [
    {
     "name": "stdout",
     "output_type": "stream",
     "text": [
      "b0 : 3.0300285874982555 b1 :  0.5789241198502663\n"
     ]
    }
   ],
   "source": [
    "x = ans.x.values\n",
    "y = ans.y.values\n",
    "\n",
    "#initializing betas...\n",
    "b0, b1 =  0, 0\n",
    "\n",
    "#initializing hyperparamets..\n",
    "alpha = 0.01\n",
    "epochs = 10000\n",
    "batch_size = 11\n",
    "n = ans.shape[0]\n",
    "\n",
    "#batch gradient code...\n",
    "for i in range(epochs):\n",
    "    random_indices = np.random.randint(n, size=batch_size)\n",
    "    batch_x = x[random_indices]\n",
    "    batch_y = y[random_indices]\n",
    "    batch_yhat = b0 + b1*batch_x \n",
    "    \n",
    "    #calculating gradient of cost functio\n",
    "    d_b0 = (-1/batch_size) * sum((batch_y - batch_yhat))\n",
    "    d_b1 = (-1/batch_size) * sum(batch_x * (batch_y - batch_yhat))\n",
    "    \n",
    "    #update betas\n",
    "    b0 = b0 - alpha * d_b0\n",
    "    b1 = b1 - alpha * d_b1\n",
    "    \n",
    "print(\"b0 :\", b0, \"b1 : \", b1)\n",
    "    "
   ]
  },
  {
   "cell_type": "markdown",
   "id": "f8d1d6e3",
   "metadata": {},
   "source": [
    "### Random Sample of Anscome"
   ]
  },
  {
   "cell_type": "code",
   "execution_count": 66,
   "id": "a5703b8d",
   "metadata": {},
   "outputs": [
    {
     "data": {
      "text/html": [
       "<div>\n",
       "<style scoped>\n",
       "    .dataframe tbody tr th:only-of-type {\n",
       "        vertical-align: middle;\n",
       "    }\n",
       "\n",
       "    .dataframe tbody tr th {\n",
       "        vertical-align: top;\n",
       "    }\n",
       "\n",
       "    .dataframe thead th {\n",
       "        text-align: right;\n",
       "    }\n",
       "</style>\n",
       "<table border=\"1\" class=\"dataframe\">\n",
       "  <thead>\n",
       "    <tr style=\"text-align: right;\">\n",
       "      <th></th>\n",
       "      <th>dataset</th>\n",
       "      <th>x</th>\n",
       "      <th>y</th>\n",
       "    </tr>\n",
       "  </thead>\n",
       "  <tbody>\n",
       "    <tr>\n",
       "      <th>16</th>\n",
       "      <td>II</td>\n",
       "      <td>14.0</td>\n",
       "      <td>8.10</td>\n",
       "    </tr>\n",
       "    <tr>\n",
       "      <th>24</th>\n",
       "      <td>III</td>\n",
       "      <td>13.0</td>\n",
       "      <td>12.74</td>\n",
       "    </tr>\n",
       "    <tr>\n",
       "      <th>27</th>\n",
       "      <td>III</td>\n",
       "      <td>14.0</td>\n",
       "      <td>8.84</td>\n",
       "    </tr>\n",
       "    <tr>\n",
       "      <th>42</th>\n",
       "      <td>IV</td>\n",
       "      <td>8.0</td>\n",
       "      <td>7.91</td>\n",
       "    </tr>\n",
       "    <tr>\n",
       "      <th>3</th>\n",
       "      <td>I</td>\n",
       "      <td>9.0</td>\n",
       "      <td>8.81</td>\n",
       "    </tr>\n",
       "    <tr>\n",
       "      <th>8</th>\n",
       "      <td>I</td>\n",
       "      <td>12.0</td>\n",
       "      <td>10.84</td>\n",
       "    </tr>\n",
       "    <tr>\n",
       "      <th>0</th>\n",
       "      <td>I</td>\n",
       "      <td>10.0</td>\n",
       "      <td>8.04</td>\n",
       "    </tr>\n",
       "    <tr>\n",
       "      <th>6</th>\n",
       "      <td>I</td>\n",
       "      <td>6.0</td>\n",
       "      <td>7.24</td>\n",
       "    </tr>\n",
       "    <tr>\n",
       "      <th>41</th>\n",
       "      <td>IV</td>\n",
       "      <td>8.0</td>\n",
       "      <td>5.56</td>\n",
       "    </tr>\n",
       "    <tr>\n",
       "      <th>17</th>\n",
       "      <td>II</td>\n",
       "      <td>6.0</td>\n",
       "      <td>6.13</td>\n",
       "    </tr>\n",
       "    <tr>\n",
       "      <th>28</th>\n",
       "      <td>III</td>\n",
       "      <td>6.0</td>\n",
       "      <td>6.08</td>\n",
       "    </tr>\n",
       "  </tbody>\n",
       "</table>\n",
       "</div>"
      ],
      "text/plain": [
       "   dataset     x      y\n",
       "16      II  14.0   8.10\n",
       "24     III  13.0  12.74\n",
       "27     III  14.0   8.84\n",
       "42      IV   8.0   7.91\n",
       "3        I   9.0   8.81\n",
       "8        I  12.0  10.84\n",
       "0        I  10.0   8.04\n",
       "6        I   6.0   7.24\n",
       "41      IV   8.0   5.56\n",
       "17      II   6.0   6.13\n",
       "28     III   6.0   6.08"
      ]
     },
     "execution_count": 66,
     "metadata": {},
     "output_type": "execute_result"
    }
   ],
   "source": [
    "rans = ans.sample(11)\n",
    "rans"
   ]
  },
  {
   "cell_type": "code",
   "execution_count": 67,
   "id": "a7b6b376",
   "metadata": {},
   "outputs": [
    {
     "name": "stdout",
     "output_type": "stream",
     "text": [
      "b0 : 3.708647605832801 b1 :  0.46692816417350025\n"
     ]
    }
   ],
   "source": [
    "x = rans.x.values\n",
    "y = rans.y.values\n",
    "\n",
    "#initializing betas...\n",
    "b0, b1 =  0, 0\n",
    "\n",
    "#initializing hyperparamets..\n",
    "alpha = 0.01\n",
    "epochs = 10000\n",
    "n = rans.shape[0]\n",
    "\n",
    "#batch gradient code...\n",
    "for i in range(epochs):\n",
    "    yhat = b0 + b1*x\n",
    "    \n",
    "    #calculating gradient of cost functio\n",
    "    d_b0 = (-1/n) * sum((y - yhat))\n",
    "    d_b1 = (-1/n) * sum(x * (y - yhat))\n",
    "    \n",
    "    #update betas\n",
    "    b0 = b0 - alpha * d_b0\n",
    "    b1 = b1 - alpha * d_b1\n",
    "    \n",
    "print(\"b0 :\", b0, \"b1 : \", b1)"
   ]
  },
  {
   "cell_type": "code",
   "execution_count": null,
   "id": "e591d8a3",
   "metadata": {},
   "outputs": [],
   "source": []
  }
 ],
 "metadata": {
  "kernelspec": {
   "display_name": "Python 3 (ipykernel)",
   "language": "python",
   "name": "python3"
  },
  "language_info": {
   "codemirror_mode": {
    "name": "ipython",
    "version": 3
   },
   "file_extension": ".py",
   "mimetype": "text/x-python",
   "name": "python",
   "nbconvert_exporter": "python",
   "pygments_lexer": "ipython3",
   "version": "3.9.16"
  }
 },
 "nbformat": 4,
 "nbformat_minor": 5
}
